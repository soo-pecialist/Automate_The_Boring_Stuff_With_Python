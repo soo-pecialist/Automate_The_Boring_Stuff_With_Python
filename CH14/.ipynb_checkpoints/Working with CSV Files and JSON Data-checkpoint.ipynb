{
 "cells": [
  {
   "cell_type": "markdown",
   "metadata": {},
   "source": [
    "## Reader Objects"
   ]
  },
  {
   "cell_type": "code",
   "execution_count": 1,
   "metadata": {},
   "outputs": [
    {
     "data": {
      "text/plain": [
       "[['4/5/2014 13:34', 'Apples', '73'],\n",
       " ['4/5/2014 3:41', 'Cherries', '85'],\n",
       " ['4/6/2014 12:46', 'Pears', '14'],\n",
       " ['4/8/2014 8:59', 'Oranges', '52'],\n",
       " ['4/10/2014 2:07', 'Apples', '152'],\n",
       " ['4/10/2014 18:10', 'Bananas', '23'],\n",
       " ['4/10/2014 2:40', 'Strawberries', '98']]"
      ]
     },
     "execution_count": 1,
     "metadata": {},
     "output_type": "execute_result"
    }
   ],
   "source": [
    "import csv\n",
    "example_file = open('example.csv')\n",
    "example_reader = csv.reader(example_file)\n",
    "example_data = list(example_reader)\n",
    "example_data"
   ]
  },
  {
   "cell_type": "markdown",
   "metadata": {},
   "source": [
    "## Reading Data from reader objects in a for loop"
   ]
  },
  {
   "cell_type": "code",
   "execution_count": 3,
   "metadata": {},
   "outputs": [
    {
     "name": "stdout",
     "output_type": "stream",
     "text": [
      "Row #1 ['4/5/2014 13:34', 'Apples', '73']\n",
      "Row #2 ['4/5/2014 3:41', 'Cherries', '85']\n",
      "Row #3 ['4/6/2014 12:46', 'Pears', '14']\n",
      "Row #4 ['4/8/2014 8:59', 'Oranges', '52']\n",
      "Row #5 ['4/10/2014 2:07', 'Apples', '152']\n",
      "Row #6 ['4/10/2014 18:10', 'Bananas', '23']\n",
      "Row #7 ['4/10/2014 2:40', 'Strawberries', '98']\n"
     ]
    }
   ],
   "source": [
    "with open('example.csv') as example_file:\n",
    "    example_reader = csv.reader(example_file)\n",
    "    for row in example_reader:\n",
    "        print('Row #' + str(example_reader.line_num) + ' ' + str(row))"
   ]
  },
  {
   "cell_type": "markdown",
   "metadata": {},
   "source": [
    "## Writer Objects"
   ]
  },
  {
   "cell_type": "code",
   "execution_count": 4,
   "metadata": {},
   "outputs": [
    {
     "name": "stdout",
     "output_type": "stream",
     "text": [
      "21\n",
      "32\n",
      "16\n"
     ]
    }
   ],
   "source": [
    "with open('output.csv', 'w', newline='') as output_file:\n",
    "    output_writer = csv.writer(output_file)\n",
    "    print(output_writer.writerow(['spam', 'eggs', 'bacon', 'ham']))\n",
    "    print(output_writer.writerow(['Hello, world!', 'eggs', 'bacon', 'ham']))\n",
    "    print(output_writer.writerow([1, 2, 3.141592, 4]))"
   ]
  },
  {
   "cell_type": "markdown",
   "metadata": {},
   "source": [
    "## The delimiter and Lineterminator Keyword Arguments"
   ]
  },
  {
   "cell_type": "code",
   "execution_count": 6,
   "metadata": {},
   "outputs": [
    {
     "name": "stdout",
     "output_type": "stream",
     "text": [
      "23\n",
      "16\n",
      "31\n"
     ]
    }
   ],
   "source": [
    "with open('example.tsv', 'w', newline='') as csv_file:\n",
    "    csv_writer = csv.writer(csv_file, delimiter = '\\t', lineterminator = '\\n\\n')\n",
    "    print(csv_writer.writerow(['apples', 'oranges', 'grapes']))\n",
    "    print(csv_writer.writerow(['eggs', 'bacon', 'ham']))\n",
    "    print(csv_writer.writerow(['spam', 'spam', 'spam', 'spam', 'spam', 'spam']))\n",
    "    "
   ]
  },
  {
   "cell_type": "markdown",
   "metadata": {},
   "source": [
    "## Project: Removing the Header from CSV Files"
   ]
  },
  {
   "cell_type": "code",
   "execution_count": 8,
   "metadata": {},
   "outputs": [
    {
     "name": "stdout",
     "output_type": "stream",
     "text": [
      "Removing header from example.csv...\n",
      "Removing header from output.csv...\n"
     ]
    }
   ],
   "source": [
    "# %load removing_csv_header.py\n",
    "#!/usr/bin/env python3\n",
    "\"\"\"\n",
    "Created on Sun Aug 25 10:41:50 2019\n",
    "\n",
    "@author: Soo Hyeon Kim\n",
    "- Find all the CSV files in the current working directory\n",
    "- Read in the full contents of each file.\n",
    "- Write out th econtents, skipping the first line, to a new CSV file.\n",
    "\"\"\"\n",
    "\n",
    "import csv, os\n",
    "\n",
    "os.makedirs('header_removed', exist_ok=True)\n",
    "\n",
    "# Loop through every file in the current working directory.\n",
    "for csv_filename in os.listdir('.'):\n",
    "    \n",
    "    if not csv_filename.endswith('.csv'):\n",
    "        continue \n",
    "    \n",
    "    print(\"Removing header from \" + csv_filename + \"...\")\n",
    "    \n",
    "    # TODO: Read the CSV file in (skipping first row).\n",
    "    csv_rows = []\n",
    "    csv_file = open(csv_filename)\n",
    "    reader = csv.reader(csv_file)\n",
    "    for row in reader:\n",
    "        if reader.line_num == 1:\n",
    "            continue    # skip first row\n",
    "        csv_rows.append(row)\n",
    "    csv_file.close()\n",
    "        \n",
    "    # TODO: Write out the CSV file.\n",
    "    directory = os.path.join(os.path.abspath('.'), 'header_removed')\n",
    "    csv_file = open(os.path.join(directory, 'no_header_'+csv_filename), 'w', newline='')\n",
    "    csv_writer = csv.writer(csv_file)\n",
    "    for row in csv_rows:\n",
    "        csv_writer.writerow(row)\n",
    "    \n",
    "    csv_file.close()"
   ]
  },
  {
   "cell_type": "markdown",
   "metadata": {},
   "source": [
    "## JSON and APIs"
   ]
  },
  {
   "cell_type": "markdown",
   "metadata": {},
   "source": [
    "## Reading JSON with the loads() Function"
   ]
  },
  {
   "cell_type": "code",
   "execution_count": 9,
   "metadata": {},
   "outputs": [],
   "source": [
    "string_of_json_data = '{\"name\":\"Zophie\", \"isCat\": true, \"MiceCaught\":0, \"felineIQ\": null}'\n",
    "\n",
    "import json"
   ]
  },
  {
   "cell_type": "code",
   "execution_count": 10,
   "metadata": {},
   "outputs": [
    {
     "data": {
      "text/plain": [
       "{'name': 'Zophie', 'isCat': True, 'MiceCaught': 0, 'felineIQ': None}"
      ]
     },
     "execution_count": 10,
     "metadata": {},
     "output_type": "execute_result"
    }
   ],
   "source": [
    "json_python_value = json.loads(string_of_json_data)\n",
    "json_python_value"
   ]
  },
  {
   "cell_type": "code",
   "execution_count": 11,
   "metadata": {},
   "outputs": [
    {
     "data": {
      "text/plain": [
       "dict"
      ]
     },
     "execution_count": 11,
     "metadata": {},
     "output_type": "execute_result"
    }
   ],
   "source": [
    "type(json_python_value)"
   ]
  },
  {
   "cell_type": "code",
   "execution_count": 12,
   "metadata": {},
   "outputs": [
    {
     "data": {
      "text/plain": [
       "'{\"name\": \"Zophie\", \"isCat\": true, \"MiceCaught\": 0, \"felineIQ\": null}'"
      ]
     },
     "execution_count": 12,
     "metadata": {},
     "output_type": "execute_result"
    }
   ],
   "source": [
    "string_of_json_data = json.dumps(json_python_value)\n",
    "string_of_json_data"
   ]
  },
  {
   "cell_type": "markdown",
   "metadata": {},
   "source": [
    "## Project: Fetching Current Weather Data"
   ]
  },
  {
   "cell_type": "code",
   "execution_count": 15,
   "metadata": {},
   "outputs": [],
   "source": [
    "# %load quick_weather.py\n",
    "#!/usr/bin/env python3\n",
    "\"\"\"\n",
    "Created on Sun Aug 25 12:24:21 2019\n",
    "\n",
    "@author: Soo Hyeon Kim\n",
    "- Reads the requested location from the command line.\n",
    "- Downloads JSON weather data from OpenWeatherMap.org\n",
    "- Converts the string of JSON data to a Python data structure.\n",
    "- Prints the weather for today and the next two days\n",
    "\"\"\"\n",
    "\n",
    "import json, requests, sys\n",
    "\n",
    "# Compute location from command line arguments.\n",
    "print(sys.argv)\n",
    "if len(sys.argv) < 2:\n",
    "    print('Usage quick_weather.py location')\n",
    "    sys.exit()\n",
    "\n",
    "location = ' '.join(sys.argv[1:])\n",
    "api_key = 'NO_PERMISSON_FOR_MY_MEMBERSHIP'\n",
    "\n",
    "# TODO: Download the JSON data from OpenWeatherMap.org's API\n",
    "url = 'http://api.openweathermap.org/data/2.5/forecast/daily?q={}&cnt=3&APPID={}'.format(location, api_key)\n",
    "res = requests.get(url)\n",
    "res.raise_for_status()\n",
    "\n",
    "# TODO: Load JSON data into a Python variable. \n",
    "weather_data = json.loads(res.text)\n",
    "\n",
    "# Print weather descriptions.\n",
    "w = weather_data['list']\n",
    "print('Current weather in {}'.format(location))\n",
    "print(w[0]['weather'][0]['main'], '-', w[0]['weather'][0]['description'])\n",
    "print()\n",
    "print('Tomorrow:')\n",
    "print(w[1]['weather'][0]['main'], '-', w[1]['weather'][0]['description'])\n",
    "print()\n",
    "print('Day after tomorrow:')\n",
    "print(w[2]['weather'][0]['main'], '-', w[2]['weather'][0]['description'])\n"
   ]
  },
  {
   "cell_type": "markdown",
   "metadata": {},
   "source": [
    "# Practice Project\n",
    "\n",
    "## Excel-to-CSV Converter"
   ]
  },
  {
   "cell_type": "code",
   "execution_count": 20,
   "metadata": {},
   "outputs": [
    {
     "name": "stdout",
     "output_type": "stream",
     "text": [
      "'/Users/soohyeonkim/GoogleDrive/Coding/python_coding/Automate_The_Boring_Stuff_With_Python/Automate_The_Boring_Stuff_With_Python/CH14/csv_excelSpreadsheets/spreadsheet-C_Sheet.csv' is created!\n",
      "'/Users/soohyeonkim/GoogleDrive/Coding/python_coding/Automate_The_Boring_Stuff_With_Python/Automate_The_Boring_Stuff_With_Python/CH14/csv_excelSpreadsheets/spreadsheet-V_Sheet.csv' is created!\n",
      "'/Users/soohyeonkim/GoogleDrive/Coding/python_coding/Automate_The_Boring_Stuff_With_Python/Automate_The_Boring_Stuff_With_Python/CH14/csv_excelSpreadsheets/spreadsheet-O_Sheet.csv' is created!\n",
      "'/Users/soohyeonkim/GoogleDrive/Coding/python_coding/Automate_The_Boring_Stuff_With_Python/Automate_The_Boring_Stuff_With_Python/CH14/csv_excelSpreadsheets/spreadsheet-Z_Sheet.csv' is created!\n",
      "'/Users/soohyeonkim/GoogleDrive/Coding/python_coding/Automate_The_Boring_Stuff_With_Python/Automate_The_Boring_Stuff_With_Python/CH14/csv_excelSpreadsheets/spreadsheet-N_Sheet.csv' is created!\n",
      "'/Users/soohyeonkim/GoogleDrive/Coding/python_coding/Automate_The_Boring_Stuff_With_Python/Automate_The_Boring_Stuff_With_Python/CH14/csv_excelSpreadsheets/spreadsheet-W_Sheet.csv' is created!\n",
      "'/Users/soohyeonkim/GoogleDrive/Coding/python_coding/Automate_The_Boring_Stuff_With_Python/Automate_The_Boring_Stuff_With_Python/CH14/csv_excelSpreadsheets/spreadsheet-B_Sheet.csv' is created!\n",
      "'/Users/soohyeonkim/GoogleDrive/Coding/python_coding/Automate_The_Boring_Stuff_With_Python/Automate_The_Boring_Stuff_With_Python/CH14/csv_excelSpreadsheets/spreadsheet-I_Sheet.csv' is created!\n",
      "'/Users/soohyeonkim/GoogleDrive/Coding/python_coding/Automate_The_Boring_Stuff_With_Python/Automate_The_Boring_Stuff_With_Python/CH14/csv_excelSpreadsheets/spreadsheet-E_Sheet.csv' is created!\n",
      "'/Users/soohyeonkim/GoogleDrive/Coding/python_coding/Automate_The_Boring_Stuff_With_Python/Automate_The_Boring_Stuff_With_Python/CH14/csv_excelSpreadsheets/spreadsheet-P_Sheet.csv' is created!\n",
      "'/Users/soohyeonkim/GoogleDrive/Coding/python_coding/Automate_The_Boring_Stuff_With_Python/Automate_The_Boring_Stuff_With_Python/CH14/csv_excelSpreadsheets/spreadsheet-Q_Sheet.csv' is created!\n",
      "'/Users/soohyeonkim/GoogleDrive/Coding/python_coding/Automate_The_Boring_Stuff_With_Python/Automate_The_Boring_Stuff_With_Python/CH14/csv_excelSpreadsheets/spreadsheet-D_Sheet.csv' is created!\n",
      "'/Users/soohyeonkim/GoogleDrive/Coding/python_coding/Automate_The_Boring_Stuff_With_Python/Automate_The_Boring_Stuff_With_Python/CH14/csv_excelSpreadsheets/spreadsheet-H_Sheet.csv' is created!\n",
      "'/Users/soohyeonkim/GoogleDrive/Coding/python_coding/Automate_The_Boring_Stuff_With_Python/Automate_The_Boring_Stuff_With_Python/CH14/csv_excelSpreadsheets/spreadsheet-K_Sheet.csv' is created!\n",
      "'/Users/soohyeonkim/GoogleDrive/Coding/python_coding/Automate_The_Boring_Stuff_With_Python/Automate_The_Boring_Stuff_With_Python/CH14/csv_excelSpreadsheets/spreadsheet-R_Sheet.csv' is created!\n",
      "'/Users/soohyeonkim/GoogleDrive/Coding/python_coding/Automate_The_Boring_Stuff_With_Python/Automate_The_Boring_Stuff_With_Python/CH14/csv_excelSpreadsheets/spreadsheet-G_Sheet.csv' is created!\n",
      "'/Users/soohyeonkim/GoogleDrive/Coding/python_coding/Automate_The_Boring_Stuff_With_Python/Automate_The_Boring_Stuff_With_Python/CH14/csv_excelSpreadsheets/spreadsheet-F_Sheet.csv' is created!\n",
      "'/Users/soohyeonkim/GoogleDrive/Coding/python_coding/Automate_The_Boring_Stuff_With_Python/Automate_The_Boring_Stuff_With_Python/CH14/csv_excelSpreadsheets/spreadsheet-S_Sheet.csv' is created!\n",
      "'/Users/soohyeonkim/GoogleDrive/Coding/python_coding/Automate_The_Boring_Stuff_With_Python/Automate_The_Boring_Stuff_With_Python/CH14/csv_excelSpreadsheets/spreadsheet-J_Sheet.csv' is created!\n",
      "'/Users/soohyeonkim/GoogleDrive/Coding/python_coding/Automate_The_Boring_Stuff_With_Python/Automate_The_Boring_Stuff_With_Python/CH14/csv_excelSpreadsheets/spreadsheet-T_Sheet.csv' is created!\n",
      "'/Users/soohyeonkim/GoogleDrive/Coding/python_coding/Automate_The_Boring_Stuff_With_Python/Automate_The_Boring_Stuff_With_Python/CH14/csv_excelSpreadsheets/spreadsheet-A_Sheet.csv' is created!\n",
      "'/Users/soohyeonkim/GoogleDrive/Coding/python_coding/Automate_The_Boring_Stuff_With_Python/Automate_The_Boring_Stuff_With_Python/CH14/csv_excelSpreadsheets/spreadsheet-X_Sheet.csv' is created!\n",
      "'/Users/soohyeonkim/GoogleDrive/Coding/python_coding/Automate_The_Boring_Stuff_With_Python/Automate_The_Boring_Stuff_With_Python/CH14/csv_excelSpreadsheets/spreadsheet-M_Sheet.csv' is created!\n",
      "'/Users/soohyeonkim/GoogleDrive/Coding/python_coding/Automate_The_Boring_Stuff_With_Python/Automate_The_Boring_Stuff_With_Python/CH14/csv_excelSpreadsheets/spreadsheet-L_Sheet.csv' is created!\n",
      "'/Users/soohyeonkim/GoogleDrive/Coding/python_coding/Automate_The_Boring_Stuff_With_Python/Automate_The_Boring_Stuff_With_Python/CH14/csv_excelSpreadsheets/spreadsheet-Y_Sheet.csv' is created!\n",
      "'/Users/soohyeonkim/GoogleDrive/Coding/python_coding/Automate_The_Boring_Stuff_With_Python/Automate_The_Boring_Stuff_With_Python/CH14/csv_excelSpreadsheets/spreadsheet-U_Sheet.csv' is created!\n",
      "\n",
      "\n",
      "Done! Progoram terminated.\n"
     ]
    }
   ],
   "source": [
    "# %load excel_to_csv.py\n",
    "#!/usr/bin/env python3\n",
    "\"\"\"\n",
    "Created on Sun Aug 25 13:06:18 2019\n",
    "\n",
    "@author: Soo Hyeon Kim\n",
    "- Reads all the Excel files in the current working directory and outputs \n",
    "them as CSV files.\n",
    "\"\"\"\n",
    "\n",
    "import os, csv, openpyxl\n",
    "\n",
    "\n",
    "search_dir = './excelSpreadsheets'\n",
    "for excel_file in os.listdir(search_dir):\n",
    "    # Skip non-xlsx files, load the workbook object.\n",
    "    if not excel_file.endswith('.xlsx'):\n",
    "        continue\n",
    "    \n",
    "    csv_folder = os.path.join(os.getcwd(), 'csv_'+os.path.basename(search_dir))\n",
    "    os.makedirs(csv_folder, exist_ok=True)\n",
    "    save_folder = csv_folder\n",
    "    \n",
    "    wb = openpyxl.load_workbook(os.path.join(search_dir, excel_file), data_only=True)\n",
    "    for sheet_name in wb.sheetnames:\n",
    "        sheet = wb[sheet_name]\n",
    "        \n",
    "        # Create the CSV filename from the Excel filename and sheet title\n",
    "        csv_name = os.path.join(save_folder, excel_file[:-5]+'_'+sheet_name+'.csv')\n",
    "        csv_file = open(csv_name, 'w')\n",
    "    \n",
    "        # Create the csv.writer object for this CSV file\n",
    "        csv_writer = csv.writer(csv_file)\n",
    "        \n",
    "        # Loop through every row in the sheet.\n",
    "        for row_num in range(1, sheet.max_row + 1):\n",
    "            row_data = []\n",
    "            # Loop through each cell in the row.\n",
    "            for col_num in range(1, sheet.max_column + 1):\n",
    "                # Append each cell's data to row_data\n",
    "                row_data.append(sheet.cell(row=row_num, column=col_num).value)\n",
    "            \n",
    "            # Write the row_data list to the CSV file\n",
    "            csv_writer.writerow(row_data)\n",
    "        \n",
    "        print(\"'{}' is created!\".format(csv_name))\n",
    "        \n",
    "        csv_file.close()\n",
    "\n",
    "print('\\n\\nDone! Progoram terminated.')\n"
   ]
  },
  {
   "cell_type": "code",
   "execution_count": null,
   "metadata": {},
   "outputs": [],
   "source": []
  }
 ],
 "metadata": {
  "kernelspec": {
   "display_name": "Python 3",
   "language": "python",
   "name": "python3"
  },
  "language_info": {
   "codemirror_mode": {
    "name": "ipython",
    "version": 3
   },
   "file_extension": ".py",
   "mimetype": "text/x-python",
   "name": "python",
   "nbconvert_exporter": "python",
   "pygments_lexer": "ipython3",
   "version": "3.6.7"
  }
 },
 "nbformat": 4,
 "nbformat_minor": 2
}
