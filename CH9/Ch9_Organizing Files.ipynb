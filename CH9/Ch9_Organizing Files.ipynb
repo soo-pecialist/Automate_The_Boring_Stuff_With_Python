{
 "cells": [
  {
   "cell_type": "markdown",
   "metadata": {},
   "source": [
    "# The Shutil Module\n",
    "\n",
    "## Copying Files"
   ]
  },
  {
   "cell_type": "code",
   "execution_count": 1,
   "metadata": {},
   "outputs": [
    {
     "data": {
      "text/plain": [
       "['CH9', 'CH7', 'CH8', '.DS_Store', 'README.md', '.ipynb_checkpoints', '.git']"
      ]
     },
     "execution_count": 1,
     "metadata": {},
     "output_type": "execute_result"
    }
   ],
   "source": [
    "import shutil, os\n",
    "os.chdir('../')\n",
    "os.listdir()"
   ]
  },
  {
   "cell_type": "code",
   "execution_count": 2,
   "metadata": {},
   "outputs": [
    {
     "data": {
      "text/plain": [
       "'CH9/regex_search.txt'"
      ]
     },
     "execution_count": 2,
     "metadata": {},
     "output_type": "execute_result"
    }
   ],
   "source": [
    "shutil.copy('CH8/regex_search.txt', 'CH9')"
   ]
  },
  {
   "cell_type": "code",
   "execution_count": 3,
   "metadata": {},
   "outputs": [
    {
     "data": {
      "text/plain": [
       "'CH9/regex_search_copied.txt'"
      ]
     },
     "execution_count": 3,
     "metadata": {},
     "output_type": "execute_result"
    }
   ],
   "source": [
    "shutil.copy('CH8/regex_search.txt', 'CH9/regex_search_copied.txt')"
   ]
  },
  {
   "cell_type": "markdown",
   "metadata": {},
   "source": [
    "## Coping Folders"
   ]
  },
  {
   "cell_type": "code",
   "execution_count": 4,
   "metadata": {},
   "outputs": [
    {
     "data": {
      "text/plain": [
       "'CH9/CH8_copied'"
      ]
     },
     "execution_count": 4,
     "metadata": {},
     "output_type": "execute_result"
    }
   ],
   "source": [
    "shutil.copytree('CH8', 'CH9/CH8_copied')"
   ]
  },
  {
   "cell_type": "markdown",
   "metadata": {},
   "source": [
    "## Permanently Deleting Files and Folders"
   ]
  },
  {
   "cell_type": "code",
   "execution_count": 9,
   "metadata": {},
   "outputs": [
    {
     "name": "stdout",
     "output_type": "stream",
     "text": [
      "regex_search_copied.txt\n",
      "regex_search.txt\n"
     ]
    }
   ],
   "source": [
    "## this is a good habit before \"deleting\" files/folders\n",
    "for filename in os.listdir():\n",
    "    if filename.endswith('.txt'):\n",
    "#         os.unlink(filename)   # This will delete .txt files\n",
    "        print(filename)"
   ]
  },
  {
   "cell_type": "markdown",
   "metadata": {},
   "source": [
    "## Safe Deletes with the send2trash Module"
   ]
  },
  {
   "cell_type": "code",
   "execution_count": 11,
   "metadata": {},
   "outputs": [
    {
     "data": {
      "text/plain": [
       "25"
      ]
     },
     "execution_count": 11,
     "metadata": {},
     "output_type": "execute_result"
    }
   ],
   "source": [
    "import send2trash\n",
    "\n",
    "bacon_file = open('bacon.txt', 'a')  # creates the file\n",
    "bacon_file.write('Bacon is not a vegetable.')"
   ]
  },
  {
   "cell_type": "code",
   "execution_count": 12,
   "metadata": {},
   "outputs": [],
   "source": [
    "bacon_file.close()\n",
    "send2trash.send2trash('bacon.txt')"
   ]
  },
  {
   "cell_type": "code",
   "execution_count": 13,
   "metadata": {},
   "outputs": [
    {
     "data": {
      "text/plain": [
       "['.DS_Store',\n",
       " 'CH8_copied',\n",
       " 'regex_search_copied.txt',\n",
       " 'Ch9_Organizing Files.ipynb',\n",
       " '.ipynb_checkpoints',\n",
       " 'regex_search.txt']"
      ]
     },
     "execution_count": 13,
     "metadata": {},
     "output_type": "execute_result"
    }
   ],
   "source": [
    "os.listdir()"
   ]
  },
  {
   "cell_type": "code",
   "execution_count": 14,
   "metadata": {},
   "outputs": [
    {
     "data": {
      "text/plain": [
       "['.DS_Store', 'Ch9_Organizing Files.ipynb', '.ipynb_checkpoints']"
      ]
     },
     "execution_count": 14,
     "metadata": {},
     "output_type": "execute_result"
    }
   ],
   "source": [
    "send2trash.send2trash('regex_search.txt')\n",
    "send2trash.send2trash('regex_search_copied.txt')\n",
    "send2trash.send2trash('CH8_copied')\n",
    "os.listdir()"
   ]
  },
  {
   "cell_type": "markdown",
   "metadata": {},
   "source": [
    "## Walking a Directory Tree"
   ]
  },
  {
   "cell_type": "code",
   "execution_count": 17,
   "metadata": {},
   "outputs": [
    {
     "data": {
      "text/plain": [
       "<generator object walk at 0x7fc0c82b8468>"
      ]
     },
     "execution_count": 17,
     "metadata": {},
     "output_type": "execute_result"
    }
   ],
   "source": [
    "os.walk('../')"
   ]
  },
  {
   "cell_type": "code",
   "execution_count": 21,
   "metadata": {
    "scrolled": false
   },
   "outputs": [
    {
     "name": "stdout",
     "output_type": "stream",
     "text": [
      "The current folder is ../\n",
      "SUBFOLDER OF ../: CH9\n",
      "SUBFOLDER OF ../: CH7\n",
      "SUBFOLDER OF ../: CH8\n",
      "SUBFOLDER OF ../: .ipynb_checkpoints\n",
      "SUBFOLDER OF ../: .git\n",
      "FILE INSIDE ../: .DS_Store\n",
      "FILE INSIDE ../: README.md\n",
      "\n",
      "The current folder is ../CH9\n",
      "SUBFOLDER OF ../CH9: .ipynb_checkpoints\n",
      "FILE INSIDE ../CH9: .DS_Store\n",
      "FILE INSIDE ../CH9: Ch9_Organizing Files.ipynb\n",
      "\n",
      "The current folder is ../CH9/.ipynb_checkpoints\n",
      "FILE INSIDE ../CH9/.ipynb_checkpoints: Ch9_Organizing Files-checkpoint.ipynb\n",
      "\n",
      "The current folder is ../CH7\n",
      "SUBFOLDER OF ../CH7: .ipynb_checkpoints\n",
      "FILE INSIDE ../CH7: Ch.7 Regex.ipynb\n",
      "\n",
      "The current folder is ../CH7/.ipynb_checkpoints\n",
      "FILE INSIDE ../CH7/.ipynb_checkpoints: Ch.7 Regex-checkpoint.ipynb\n",
      "\n",
      "The current folder is ../CH8\n",
      "FILE INSIDE ../CH8: madlibs_template.txt\n",
      "FILE INSIDE ../CH8: mad_libs.py\n",
      "FILE INSIDE ../CH8: .DS_Store\n",
      "FILE INSIDE ../CH8: mcb.db\n",
      "FILE INSIDE ../CH8: madlibs_template_Answered.txt\n",
      "FILE INSIDE ../CH8: regex_search.py\n",
      "FILE INSIDE ../CH8: regex_search.txt\n",
      "FILE INSIDE ../CH8: mcb.py\n",
      "FILE INSIDE ../CH8: Ch 8. Reading and Writing Files.ipynb\n",
      "\n",
      "The current folder is ../.ipynb_checkpoints\n",
      "\n",
      "The current folder is ../.git\n",
      "SUBFOLDER OF ../.git: objects\n",
      "SUBFOLDER OF ../.git: info\n",
      "SUBFOLDER OF ../.git: logs\n",
      "SUBFOLDER OF ../.git: hooks\n",
      "SUBFOLDER OF ../.git: refs\n",
      "SUBFOLDER OF ../.git: branches\n",
      "FILE INSIDE ../.git: config\n",
      "FILE INSIDE ../.git: HEAD\n",
      "FILE INSIDE ../.git: description\n",
      "FILE INSIDE ../.git: index\n",
      "FILE INSIDE ../.git: packed-refs\n",
      "FILE INSIDE ../.git: COMMIT_EDITMSG\n",
      "FILE INSIDE ../.git: FETCH_HEAD\n",
      "\n",
      "The current folder is ../.git/objects\n",
      "SUBFOLDER OF ../.git/objects: 0c\n",
      "SUBFOLDER OF ../.git/objects: d8\n",
      "SUBFOLDER OF ../.git/objects: c9\n",
      "SUBFOLDER OF ../.git/objects: fd\n",
      "SUBFOLDER OF ../.git/objects: ed\n",
      "SUBFOLDER OF ../.git/objects: 27\n",
      "SUBFOLDER OF ../.git/objects: pack\n",
      "SUBFOLDER OF ../.git/objects: info\n",
      "SUBFOLDER OF ../.git/objects: 65\n",
      "SUBFOLDER OF ../.git/objects: 39\n",
      "SUBFOLDER OF ../.git/objects: ef\n",
      "SUBFOLDER OF ../.git/objects: e6\n",
      "SUBFOLDER OF ../.git/objects: cb\n",
      "SUBFOLDER OF ../.git/objects: 22\n",
      "\n",
      "The current folder is ../.git/objects/0c\n",
      "FILE INSIDE ../.git/objects/0c: 8a9b59704a7efd94b57092a89609d37cfdc5d1\n",
      "\n",
      "The current folder is ../.git/objects/d8\n",
      "FILE INSIDE ../.git/objects/d8: fe9f69d7bf04336dac949bb8abb6c92ea3411e\n",
      "\n",
      "The current folder is ../.git/objects/c9\n",
      "FILE INSIDE ../.git/objects/c9: 15a8dc65b88688c2b2d395a3bcf16016f86411\n",
      "\n",
      "The current folder is ../.git/objects/fd\n",
      "FILE INSIDE ../.git/objects/fd: 4dc022e84e271a7640895d4ce278fc653b738d\n",
      "\n",
      "The current folder is ../.git/objects/ed\n",
      "FILE INSIDE ../.git/objects/ed: ff3a12f416ed895e77cef8046a666ea578219f\n",
      "\n",
      "The current folder is ../.git/objects/27\n",
      "FILE INSIDE ../.git/objects/27: 7500b351c36ae501e465016ed777c6ae2079bd\n",
      "\n",
      "The current folder is ../.git/objects/pack\n",
      "FILE INSIDE ../.git/objects/pack: pack-07550bf753f9eaba495a9be291f69fe88e54bbd0.pack\n",
      "FILE INSIDE ../.git/objects/pack: pack-07550bf753f9eaba495a9be291f69fe88e54bbd0.idx\n",
      "\n",
      "The current folder is ../.git/objects/info\n",
      "\n",
      "The current folder is ../.git/objects/65\n",
      "FILE INSIDE ../.git/objects/65: 6484520ce436fb9465af12897785f74a8d67e6\n",
      "\n",
      "The current folder is ../.git/objects/39\n",
      "FILE INSIDE ../.git/objects/39: 1d2d27197afb3e2cedd6780e43fc24ee1d3137\n",
      "\n",
      "The current folder is ../.git/objects/ef\n",
      "FILE INSIDE ../.git/objects/ef: 360e9cf9b9164264d164275ad0c25052f79427\n",
      "\n",
      "The current folder is ../.git/objects/e6\n",
      "FILE INSIDE ../.git/objects/e6: 021274c7803accd19285fbf93debde915a52c7\n",
      "\n",
      "The current folder is ../.git/objects/cb\n",
      "FILE INSIDE ../.git/objects/cb: 71ac3d4f1e6db919f73feaa25d6fd5c93a93d4\n",
      "\n",
      "The current folder is ../.git/objects/22\n",
      "FILE INSIDE ../.git/objects/22: 36cce407c400fcba1e8f52dc9ab971a6ad3ec0\n",
      "\n",
      "The current folder is ../.git/info\n",
      "FILE INSIDE ../.git/info: exclude\n",
      "\n",
      "The current folder is ../.git/logs\n",
      "SUBFOLDER OF ../.git/logs: refs\n",
      "FILE INSIDE ../.git/logs: HEAD\n",
      "\n",
      "The current folder is ../.git/logs/refs\n",
      "SUBFOLDER OF ../.git/logs/refs: heads\n",
      "SUBFOLDER OF ../.git/logs/refs: remotes\n",
      "\n",
      "The current folder is ../.git/logs/refs/heads\n",
      "FILE INSIDE ../.git/logs/refs/heads: master\n",
      "\n",
      "The current folder is ../.git/logs/refs/remotes\n",
      "SUBFOLDER OF ../.git/logs/refs/remotes: origin\n",
      "\n",
      "The current folder is ../.git/logs/refs/remotes/origin\n",
      "FILE INSIDE ../.git/logs/refs/remotes/origin: HEAD\n",
      "FILE INSIDE ../.git/logs/refs/remotes/origin: master\n",
      "\n",
      "The current folder is ../.git/hooks\n",
      "FILE INSIDE ../.git/hooks: commit-msg.sample\n",
      "FILE INSIDE ../.git/hooks: pre-rebase.sample\n",
      "FILE INSIDE ../.git/hooks: pre-commit.sample\n",
      "FILE INSIDE ../.git/hooks: applypatch-msg.sample\n",
      "FILE INSIDE ../.git/hooks: fsmonitor-watchman.sample\n",
      "FILE INSIDE ../.git/hooks: pre-receive.sample\n",
      "FILE INSIDE ../.git/hooks: prepare-commit-msg.sample\n",
      "FILE INSIDE ../.git/hooks: post-update.sample\n",
      "FILE INSIDE ../.git/hooks: pre-applypatch.sample\n",
      "FILE INSIDE ../.git/hooks: pre-push.sample\n",
      "FILE INSIDE ../.git/hooks: update.sample\n",
      "\n",
      "The current folder is ../.git/refs\n",
      "SUBFOLDER OF ../.git/refs: heads\n",
      "SUBFOLDER OF ../.git/refs: tags\n",
      "SUBFOLDER OF ../.git/refs: remotes\n",
      "\n",
      "The current folder is ../.git/refs/heads\n",
      "FILE INSIDE ../.git/refs/heads: master\n",
      "\n",
      "The current folder is ../.git/refs/tags\n",
      "\n",
      "The current folder is ../.git/refs/remotes\n",
      "SUBFOLDER OF ../.git/refs/remotes: origin\n",
      "\n",
      "The current folder is ../.git/refs/remotes/origin\n",
      "FILE INSIDE ../.git/refs/remotes/origin: HEAD\n",
      "FILE INSIDE ../.git/refs/remotes/origin: master\n",
      "\n",
      "The current folder is ../.git/branches\n",
      "\n"
     ]
    }
   ],
   "source": [
    "for folder_name, sub_folders, file_names in os.walk('../'):\n",
    "    print('The current folder is ' + folder_name)\n",
    "    \n",
    "    for sub_folder in sub_folders:\n",
    "        print('SUBFOLDER OF ' + folder_name + ': ' + sub_folder)\n",
    "    \n",
    "    for file_name in file_names:\n",
    "        print('FILE INSIDE ' + folder_name + ': ' + file_name)\n",
    "    \n",
    "    print()"
   ]
  },
  {
   "cell_type": "markdown",
   "metadata": {},
   "source": [
    "## Compressing Files with the zipfile Module\n",
    "\n",
    "### Creating and Adding to Zip Files"
   ]
  },
  {
   "cell_type": "code",
   "execution_count": 26,
   "metadata": {},
   "outputs": [],
   "source": [
    "import zipfile\n",
    "with zipfile.ZipFile('new.zip', 'w') as newZip:\n",
    "    newZip.write('spam.txt', compress_type=zipfile.ZIP_DEFLATED)"
   ]
  },
  {
   "cell_type": "markdown",
   "metadata": {},
   "source": [
    "### Reading ZIP Files"
   ]
  },
  {
   "cell_type": "code",
   "execution_count": 31,
   "metadata": {},
   "outputs": [
    {
     "name": "stdout",
     "output_type": "stream",
     "text": [
      "['spam.txt']\n",
      "172\n",
      "125\n",
      "Compressed file is 1.38x smaller!\n"
     ]
    }
   ],
   "source": [
    "with zipfile.ZipFile('new.zip') as example_zip:\n",
    "    print(example_zip.namelist())\n",
    "    spam_info = example_zip.getinfo('spam.txt')\n",
    "    print(spam_info.file_size)\n",
    "    print(spam_info.compress_size)\n",
    "    print(\"Compressed file is {}x smaller!\".format(\n",
    "                    round(spam_info.file_size / spam_info.compress_size, 2)))"
   ]
  },
  {
   "cell_type": "markdown",
   "metadata": {},
   "source": [
    "### Extracting from ZIP files"
   ]
  },
  {
   "cell_type": "code",
   "execution_count": 33,
   "metadata": {},
   "outputs": [],
   "source": [
    "with zipfile.ZipFile('new.zip') as example_zip:\n",
    "    example_zip.extractall()"
   ]
  },
  {
   "cell_type": "code",
   "execution_count": 36,
   "metadata": {},
   "outputs": [
    {
     "name": "stdout",
     "output_type": "stream",
     "text": [
      "some/new/folders/spam.txt\n"
     ]
    }
   ],
   "source": [
    "with zipfile.ZipFile('new.zip') as example_zip:\n",
    "    print(example_zip.extract('spam.txt', './some/new/folders'))"
   ]
  },
  {
   "cell_type": "markdown",
   "metadata": {},
   "source": [
    "## Project: Renaming Files with American-Style Dates to European-Style Dates\n",
    "Amercian-style dates(MM-DD-YYYY) --> European-style dates(DD-MM-YYYY). \n",
    "program does:\n",
    "- it searches all the filenames in the current working directory for American-style dates\n",
    "- when one is found, it renames the file with the month and day swapped to make it European-style"
   ]
  },
  {
   "cell_type": "code",
   "execution_count": null,
   "metadata": {},
   "outputs": [],
   "source": [
    "# %load Renaming_Files.py\n",
    "#!/usr/bin/env python3\n",
    "\"\"\"\n",
    "Created on Wed Aug 21 10:36:59 2019\n",
    "\n",
    "@author: soohyeonkim\n",
    "\n",
    "Renaming_Files.py - Renames filenames with American mm-dd-yyyy date format\n",
    "to European dd-mm-yyyy\n",
    "\"\"\"\n",
    "\n",
    "import shutil, os, re\n",
    "\n",
    "# TODO: Create a regex that matches files with the American date format\n",
    "date_patter = re.compile(r\"\"\"\n",
    "                    ^(.*?)           # all text before the date\n",
    "                    ((0|1)?\\d)-      # one or two digits for the month\n",
    "                    ((0|1|2|3)?\\d)-  # oen or two digits for the day\n",
    "                    ((19|20)\\d{2})   # four digits for the year\n",
    "                    (.*?)$           # all text after the date\n",
    "                         \"\"\", re.X)\n",
    "\n",
    "# TODO: loop over the files in the working directory\n",
    "for amer_filename in os.listdir():\n",
    "    mo = datePattern.search(amer_filename)\n",
    "\n",
    "    # TODO: skip files without a date\n",
    "    if mo == None:\n",
    "        continue\n",
    "\n",
    "    # TODO: Get the different parts of the filename.\n",
    "    before_part = mo.group(1)\n",
    "    month_part = mo.group(2)\n",
    "    day_part    = mo.group(4)\n",
    "    year_part   = mo.group(6)\n",
    "    after_part  = mo.group(8)\n",
    "\n",
    "    # TODO: Form the European-style filename.\n",
    "    euro_filename = before_part + day_part + '-' \\\n",
    "                   + month_part + '-'           \\\n",
    "                   + year_part + '-'\n",
    "    \n",
    "    # TODO: Get the full, absolute file paths\n",
    "    abs_working_dir = os.path.abspath('.')\n",
    "    amer_filename = os.path.join(abs_working_dir, amer_filename)\n",
    "    euro_filname = os.path.join(abs_working_dir, euro_filename)\n",
    "\n",
    "    # TODO: Rename the fiels\n",
    "    print('Renaming \"{}\" to \"{}\"...'.format(amer_filename, euro_filename))\n",
    "#    shutil.move(amer_filename, euro_filename) # uncomment after testing\n",
    "\n"
   ]
  },
  {
   "cell_type": "markdown",
   "metadata": {},
   "source": [
    "## Project: Backing Up a Folder into a Zip File\n",
    "You'd like to keep different versions, so you want the ZIP file's filename to increment each time it is made; for example, AlsPythonBook_1.zip, AlsPythonBook_2.zip and so on. "
   ]
  },
  {
   "cell_type": "code",
   "execution_count": 48,
   "metadata": {},
   "outputs": [
    {
     "name": "stdout",
     "output_type": "stream",
     "text": [
      "Creating CH9_2.zip...\n",
      "Adding files in /Users/soohyeonkim/GoogleDrive/Coding/python_coding/Automate_The_Boring_Stuff_With_Python/Automate_The_Boring_Stuff_With_Python/CH9...\n",
      "Adding files in /Users/soohyeonkim/GoogleDrive/Coding/python_coding/Automate_The_Boring_Stuff_With_Python/Automate_The_Boring_Stuff_With_Python/CH9/.ipynb_checkpoints...\n",
      "Adding files in /Users/soohyeonkim/GoogleDrive/Coding/python_coding/Automate_The_Boring_Stuff_With_Python/Automate_The_Boring_Stuff_With_Python/CH9/some...\n",
      "Adding files in /Users/soohyeonkim/GoogleDrive/Coding/python_coding/Automate_The_Boring_Stuff_With_Python/Automate_The_Boring_Stuff_With_Python/CH9/some/new...\n",
      "Adding files in /Users/soohyeonkim/GoogleDrive/Coding/python_coding/Automate_The_Boring_Stuff_With_Python/Automate_The_Boring_Stuff_With_Python/CH9/some/new/folders...\n",
      "Done.\n"
     ]
    }
   ],
   "source": [
    "# %load backup_to_zip.py\n",
    "#!/usr/bin/env python3\n",
    "\"\"\"\n",
    "Created on Wed Aug 21 11:32:13 2019\n",
    "\n",
    "@author: soohyeonkim\n",
    "\n",
    "Copies an entire folder and its content into a ZIP file whose filename\n",
    "incrementsf\n",
    "\"\"\"\n",
    "\n",
    "import zipfile, os\n",
    "\n",
    "def backup_to_zip(folder):\n",
    "    # Backup the entire contents of \"folder\" into a ZIP file.\n",
    "    folder = os.path.abspath(folder) # make surefolder is absolute\n",
    "    \n",
    "    # Figure out the filename this code should use based on\n",
    "    # what files already exist\n",
    "    number = 1\n",
    "    while True:\n",
    "        zip_filename = os.path.basename(folder) \\\n",
    "                            + '_' + str(number) + '.zip'\n",
    "        if not os.path.exists(zip_filename):\n",
    "            break\n",
    "        number += 1\n",
    "    \n",
    "    # Create the ZIP file\n",
    "    print('Creating {}...'.format(zip_filename))\n",
    "    backup_zip = zipfile.ZipFile(zip_filename, 'w')\n",
    "    \n",
    "    # Walk the entire folder tree and compress the files in each folder. \n",
    "    for foldername, subfolders, filenames in os.walk(folder):\n",
    "        print('Adding files in {}...'.format(foldername))\n",
    "        # Add the current folder to the zip file.\n",
    "        backup_zip.write(foldername)\n",
    "        # Add all the files in this folder to the zip file.\n",
    "        for filename in filenames:\n",
    "            new_base = os.path.basename(folder) + '_'\n",
    "            if filename.startswith(new_base) and filename.endswith('.zip'):\n",
    "                continue    # Don't back up the backup zip files\n",
    "            \n",
    "            backup_zip.write(os.path.join(foldername, filename))\n",
    "        \n",
    "    backup_zip.close()\n",
    "        \n",
    "    print('Done.')\n",
    "       \n",
    "#### TEST ********\n",
    "backup_to_zip('.')"
   ]
  },
  {
   "cell_type": "markdown",
   "metadata": {},
   "source": [
    "# Practice Projects\n",
    "\n",
    "## 1. Selective copy"
   ]
  },
  {
   "cell_type": "code",
   "execution_count": 55,
   "metadata": {},
   "outputs": [
    {
     "name": "stdout",
     "output_type": "stream",
     "text": [
      "Your current location is /Users/soohyeonkim/GoogleDrive/Coding/python_coding/Automate_The_Boring_Stuff_With_Python/Automate_The_Boring_Stuff_With_Python/CH9\n",
      "What location do you want to start search from? .\n",
      "What file format are you looking for? (e.g., .jpg, .txt) .py\n",
      "Where do you want copies located? Please include folder name ./copied\n",
      "Searching in /Users/soohyeonkim/GoogleDrive/Coding/python_coding/Automate_The_Boring_Stuff_With_Python/Automate_The_Boring_Stuff_With_Python/CH9...\n",
      "\tdelete_unneeded_files.py is copied.\n",
      "\tBackup_to_zip.py is copied.\n",
      "\tselective_copy.py is copied.\n",
      "\tRenaming_Files.py is copied.\n",
      "Searching in /Users/soohyeonkim/GoogleDrive/Coding/python_coding/Automate_The_Boring_Stuff_With_Python/Automate_The_Boring_Stuff_With_Python/CH9/some...\n",
      "Searching in /Users/soohyeonkim/GoogleDrive/Coding/python_coding/Automate_The_Boring_Stuff_With_Python/Automate_The_Boring_Stuff_With_Python/CH9/some/new...\n",
      "Searching in /Users/soohyeonkim/GoogleDrive/Coding/python_coding/Automate_The_Boring_Stuff_With_Python/Automate_The_Boring_Stuff_With_Python/CH9/some/new/folders...\n",
      "Done!\n"
     ]
    }
   ],
   "source": [
    "# %load selective_copy.py\n",
    "#!/usr/bin/env python3\n",
    "\"\"\"\n",
    "Created on Wed Aug 21 12:46:58 2019\n",
    "\n",
    "@author: soohyeonkim\n",
    "\n",
    "walks through a folder tree and searches for files with a certain file\n",
    "extension (e.g., .pdf, .jpg). Copy these files from whatever location \n",
    "they are in to a new folder.\n",
    "\n",
    "\"\"\"\n",
    "\n",
    "import os, re, shutil\n",
    "\n",
    "def selective_copy():\n",
    "    # TODO: get current location and show it to a user\n",
    "    cwd = os.getcwd()\n",
    "    print(\"Your current location is {}\".format(cwd))\n",
    "    \n",
    "    # TODO: Get inputs for root, extension, destination path\n",
    "    while True:\n",
    "        root = input(\"What location do you want to start search from? \").strip()\n",
    "        if os.path.exists(root): # make sure it is legitimate\n",
    "            break\n",
    "        else:\n",
    "            print(\"Please input root directory in relative or absolute path\")\n",
    "    \n",
    "    ext = input(\"What file format are you looking for? (e.g., .jpg, .txt) \")\\\n",
    "                    .strip().lower()\n",
    "    \n",
    "    if not ext.startswith(\".\"): # in case forget putting \".\"\n",
    "        ext = \".\" + ext\n",
    "    \n",
    "    while True:\n",
    "        dest =  input(\"Where do you want copies located? Please include folder name \")\\\n",
    "                    .strip()\n",
    "        if os.path.exists(dest): # make sure it exists\n",
    "            break   # exists\n",
    "        else:\n",
    "            # if not, make new one\n",
    "            try:\n",
    "                 os.mkdir(dest)\n",
    "            except OSError: # in case of error\n",
    "                print (\"Creation of the directory %s failed\" % dest)\n",
    "                print(\"Please input destination in relative or absolute path\")\n",
    "                continue # go get input again\n",
    "            \n",
    "            if os.path.exists(dest): # check again if made \n",
    "                break\n",
    "            else: # if not, address is wrong\n",
    "                print(\"Please input destination in relative or absolute path\")\n",
    "    \n",
    "    \n",
    "    # beware that it can be either relative or absolute path\n",
    "    # and we need absolute path\n",
    "    if not os.path.isabs(root): # if relative path\n",
    "        root = os.path.abspath(root)\n",
    "    if not os.path.isabs(dest):\n",
    "        dest = os.path.abspath(dest)\n",
    "    \n",
    "    # TODO: make regex pattern\n",
    "    search_pattern = re.compile(r\"^(.*?)\"+ext+\"$\")\n",
    "    \n",
    "    # TODO: walk through the folder and detect files and copy to destination\n",
    "    for foldername, subfolders, filenames in os.walk(root):\n",
    "        # we don't want hidden folders digged\n",
    "        if os.path.basename(foldername).startswith(\".\"):\n",
    "            continue\n",
    "        \n",
    "        if os.path.basename(foldername) == os.path.basename(dest):\n",
    "            continue  # we don't have to copy the copied ones\n",
    "        \n",
    "        print(\"Searching in {}...\".format(foldername))\n",
    "        # go through all files\n",
    "        for filename in filenames:\n",
    "            # we don't want hidden files searched\n",
    "            if filename.startswith(\".\"):\n",
    "                continue\n",
    "            \n",
    "            base = os.path.basename(filename)\n",
    "            \n",
    "            if search_pattern.search(base): # if matches\n",
    "                shutil.copy(filename, dest) # copy to destination\n",
    "                print(\"\\t{} is copied.\".format(base))\n",
    "    \n",
    "    print(\"Done!\")\n",
    "\n",
    "#### test *******    \n",
    "selective_copy()\n"
   ]
  },
  {
   "cell_type": "code",
   "execution_count": 57,
   "metadata": {},
   "outputs": [
    {
     "data": {
      "text/plain": [
       "['CH9_2.zip',\n",
       " 'CH9_1.zip',\n",
       " '.DS_Store',\n",
       " 'copied',\n",
       " 'new.zip',\n",
       " 'spam.txt',\n",
       " 'Backup_to_zip.py',\n",
       " 'selective_copy.py',\n",
       " 'Ch9_Organizing Files.ipynb',\n",
       " 'Renaming_Files.py',\n",
       " '.ipynb_checkpoints',\n",
       " 'some']"
      ]
     },
     "execution_count": 57,
     "metadata": {},
     "output_type": "execute_result"
    }
   ],
   "source": [
    "os.listdir()"
   ]
  },
  {
   "cell_type": "markdown",
   "metadata": {},
   "source": [
    "## 2. Deleting Unneeded Files"
   ]
  },
  {
   "cell_type": "code",
   "execution_count": 63,
   "metadata": {},
   "outputs": [
    {
     "name": "stdout",
     "output_type": "stream",
     "text": [
      "Search start from /Users/soohyeonkim/GoogleDrive/Coding/python_coding/Automate_The_Boring_Stuff_With_Python/Automate_The_Boring_Stuff_With_Python/CH9\n",
      "It will show files larger than 0.00015MB\n",
      "\n",
      "  Searching in /Users/soohyeonkim/GoogleDrive/Coding/python_coding/Automate_The_Boring_Stuff_With_Python/Automate_The_Boring_Stuff_With_Python/CH9 ...\n",
      "\tFound 10 files!\n",
      "  Searching in /Users/soohyeonkim/GoogleDrive/Coding/python_coding/Automate_The_Boring_Stuff_With_Python/Automate_The_Boring_Stuff_With_Python/CH9/copied ...\n",
      "\tFound 4 files!\n",
      "\n",
      "---- results ----\n",
      " [1] /Users/soohyeonkim/GoogleDrive/Coding/python_coding/Automate_The_Boring_Stuff_With_Python/Automate_The_Boring_Stuff_With_Python/CH9/CH9_2.zip\n",
      " [2] /Users/soohyeonkim/GoogleDrive/Coding/python_coding/Automate_The_Boring_Stuff_With_Python/Automate_The_Boring_Stuff_With_Python/CH9/CH9_1.zip\n",
      " [3] /Users/soohyeonkim/GoogleDrive/Coding/python_coding/Automate_The_Boring_Stuff_With_Python/Automate_The_Boring_Stuff_With_Python/CH9/delete_unneeded_files.py\n",
      " [4] /Users/soohyeonkim/GoogleDrive/Coding/python_coding/Automate_The_Boring_Stuff_With_Python/Automate_The_Boring_Stuff_With_Python/CH9/.DS_Store\n",
      " [5] /Users/soohyeonkim/GoogleDrive/Coding/python_coding/Automate_The_Boring_Stuff_With_Python/Automate_The_Boring_Stuff_With_Python/CH9/new.zip\n",
      " [6] /Users/soohyeonkim/GoogleDrive/Coding/python_coding/Automate_The_Boring_Stuff_With_Python/Automate_The_Boring_Stuff_With_Python/CH9/spam.txt\n",
      " [7] /Users/soohyeonkim/GoogleDrive/Coding/python_coding/Automate_The_Boring_Stuff_With_Python/Automate_The_Boring_Stuff_With_Python/CH9/Backup_to_zip.py\n",
      " [8] /Users/soohyeonkim/GoogleDrive/Coding/python_coding/Automate_The_Boring_Stuff_With_Python/Automate_The_Boring_Stuff_With_Python/CH9/selective_copy.py\n",
      " [9] /Users/soohyeonkim/GoogleDrive/Coding/python_coding/Automate_The_Boring_Stuff_With_Python/Automate_The_Boring_Stuff_With_Python/CH9/Ch9_Organizing Files.ipynb\n",
      " [10] /Users/soohyeonkim/GoogleDrive/Coding/python_coding/Automate_The_Boring_Stuff_With_Python/Automate_The_Boring_Stuff_With_Python/CH9/Renaming_Files.py\n",
      " [11] /Users/soohyeonkim/GoogleDrive/Coding/python_coding/Automate_The_Boring_Stuff_With_Python/Automate_The_Boring_Stuff_With_Python/CH9/delete_unneeded_files.py\n",
      " [12] /Users/soohyeonkim/GoogleDrive/Coding/python_coding/Automate_The_Boring_Stuff_With_Python/Automate_The_Boring_Stuff_With_Python/CH9/Backup_to_zip.py\n",
      " [13] /Users/soohyeonkim/GoogleDrive/Coding/python_coding/Automate_The_Boring_Stuff_With_Python/Automate_The_Boring_Stuff_With_Python/CH9/selective_copy.py\n",
      " [14] /Users/soohyeonkim/GoogleDrive/Coding/python_coding/Automate_The_Boring_Stuff_With_Python/Automate_The_Boring_Stuff_With_Python/CH9/Renaming_Files.py\n"
     ]
    }
   ],
   "source": [
    "# %load delete_unneeded_files.py\n",
    "#!/usr/bin/env python3\n",
    "\"\"\"\n",
    "Created on Wed Aug 21 14:01:30 2019\n",
    "\n",
    "@author: soohyeonkim\n",
    "\n",
    "walks through a folder tree and searches for exceptionally large files or \n",
    "folders - say, once that have a file size of more than 100MB. \n",
    "Print these files with their absolute path to the screen\n",
    "\"\"\"\n",
    "\n",
    "import os\n",
    "\n",
    "def detect_unneeded_files(cwd = os.getcwd(), cutoff=100):\n",
    "    print(\"Search start from \" + os.path.abspath(cwd))\n",
    "    print(\"It will show files larger than {}MB\".format(cutoff))\n",
    "    print()\n",
    "    \n",
    "    cutoff = cutoff * 10**6 \n",
    "    founds = []\n",
    "    \n",
    "    # TODO: walk through a folder\n",
    "    for foldername, subfolders, filenames in os.walk(cwd):\n",
    "        # TODO: skip small folders to save time\n",
    "        if os.path.getsize(foldername) <= cutoff:\n",
    "            continue\n",
    "        \n",
    "        # TODO: print where you are to the screen in absolute path\n",
    "        foldername = os.path.abspath(foldername)\n",
    "        print(\"  Searching in {} ...\".format(foldername))\n",
    "        \n",
    "        # TODO: search for large files/folders\n",
    "        count = 0\n",
    "        for filename in filenames:\n",
    "            if os.path.getsize(filename) >= cutoff:\n",
    "                filename = os.path.abspath(filename)\n",
    "                founds += [filename]\n",
    "                count += 1\n",
    "        print(\"\\tFound {} files!\".format(count))\n",
    "    \n",
    "    # TODO: print large files to screen\n",
    "    print(\"\\n---- results ----\")\n",
    "    for i in range(len(founds)):\n",
    "        print(\" [{}] \".format(i+1) + founds[i])\n",
    "    \n",
    "\n",
    "#### TEST ************ \n",
    "detect_unneeded_files(cutoff=0.0001)"
   ]
  },
  {
   "cell_type": "markdown",
   "metadata": {},
   "source": [
    "## 3. Filling in the Gaps"
   ]
  },
  {
   "cell_type": "code",
   "execution_count": 85,
   "metadata": {},
   "outputs": [
    {
     "name": "stdout",
     "output_type": "stream",
     "text": [
      "What is the prefix? spam\n",
      "I suggest you save file as 'spam3.txt'\n"
     ]
    }
   ],
   "source": [
    "# %load filling_gaps.py\n",
    "#!/usr/bin/env python3\n",
    "\"\"\"\n",
    "Created on Wed Aug 21 14:58:25 2019\n",
    "\n",
    "@author: Soo Hyeon Kim\n",
    "\n",
    "With a given prefix, such as spam001.txt, spam003.txt, adn so on. in a single\n",
    "folder and locates any gaps in the numbering. The program will rename all \n",
    "the later files to close this gap\n",
    "\"\"\"\n",
    "\n",
    "import os, re, shutil\n",
    "\n",
    "# TODO: get a parameter that determines adjust or add between gaps, \n",
    "#       Also, weather save file or not\n",
    "\n",
    "def filling_gaps(cwd=os.getcwd(), adjust=True):\n",
    "   \n",
    "    cwd = os.path.abspath(cwd) # make sure cwd is absolute path\n",
    "    prefix = input(\"What is the prefix? \")\n",
    "    \n",
    "    # group 1: all\n",
    "    # group 2: numbering\n",
    "    # group 3: extension\n",
    "    regex_pattern = re.compile(\\\n",
    "                    \"(\" + prefix  + \"[._\\-\\s]?([\\d]+))(\\.[\\d\\w]+)$\")\n",
    "     \n",
    "    # TODO: walk through a folder       \n",
    "    file_list = os.listdir()\n",
    "    numberings = []\n",
    "    \n",
    "    if file_list: # if not empty listextension = found[0][2]\n",
    "        i = 0\n",
    "        for file in file_list:\n",
    "            # TODO: find numbering files with regex pattern\n",
    "            found = regex_pattern.findall(file)\n",
    "            \n",
    "            if found:\n",
    "                # TODO: Extract all numbers in numbering part in order\n",
    "                numberings.append(found[0][1])\n",
    "                if i == 0:\n",
    "                    extension = found[0][2] # extract extension\n",
    "#                    print(found)\n",
    "#                    print(extension)\n",
    "                    i = 1 # to repeat extrating extension            \n",
    "            \n",
    "    else:\n",
    "        print(\"Empty folder. Nothing to show\")\n",
    "        return # terminate the program\n",
    "    \n",
    "    if not numberings:\n",
    "        print(\"No search result. Bye\")\n",
    "        return \n",
    "    \n",
    "    # sort in ascending order of value\n",
    "    numberings.sort(key=lambda x: int(x))\n",
    "    # for now for convinience convert spamto int\n",
    "    numberings = [int(number) for number in numberings]\n",
    "    min_num = min(numberings)\n",
    "    max_num = max(numberings)\n",
    "    # numbers not in numberings. i.e., complement set of numberings\n",
    "    numberings_c = [x for x in range(min_num, max_num) \\\n",
    "                                        if x not in numberings]\n",
    "    if not numberings_c:\n",
    "        print(\"All seems right\")\n",
    "        return \n",
    "    \n",
    "    min_gap = min(numberings_c) # minimum gap value\n",
    "    \n",
    "    ## let's make hashable dictionary {original: 'right form'}\n",
    "    length_of_out = len([x for x in numberings if x > min_gap])\n",
    "    added_numbers = list(range(min_gap, min_gap + length_of_out))\n",
    "    numberings_adj = [x for x in numberings if x < min_gap] + added_numbers\n",
    "    # to unify format\n",
    "    numberings_str = ['0'*(len(str(max(numberings_adj))) - \\\n",
    "                           len(str(int(num)))) \\\n",
    "                       + str(num) for num in numberings_adj]\n",
    "    # dictionary for search\n",
    "    numberings_dict = {k:v for k, v in zip(numberings, numberings_str)}\n",
    "    \n",
    "    min_gap_str = '0' * (len(numberings_str[0]) - len(str(min_gap))) \\\n",
    "                    + str(min_gap)\n",
    "    \n",
    "    \n",
    "    # TODO: check if it is adjust mode or add mode\n",
    "    if adjust:\n",
    "        # TODO: if adjust mode, \n",
    "        #       re-organize the order in ascending order from min_gap\n",
    "        file_list.sort(key= lambda x: len(x)) # in order not to overwrite already renamed one\n",
    "#         print(file_list)\n",
    "        \n",
    "        for file in file_list:\n",
    "            # TODO: find numbering files with regex pattern\n",
    "            found = regex_pattern.findall(file)\n",
    "            \n",
    "            if found:\n",
    "                \n",
    "                # adjust name in uniform format\n",
    "                num_str = numberings_dict[int(found[0][1])]\n",
    "#                print(numberings_dict, found, prefix + num_str + found[0][2])\n",
    "                # rename\n",
    "                shutil.move(\\\n",
    "                        os.path.join(cwd, file), \\\n",
    "                        os.path.join(cwd, prefix + num_str + found[0][2])\\\n",
    "                            )\n",
    "        print(\"Done adjusting!\")\n",
    "    \n",
    "    else:\n",
    "        # TODO: if add mode, add numbering from min_gap\n",
    "        print(\"I suggest you save file as '{}'\"\\\n",
    "              .format(prefix+min_gap_str+extension))\n",
    "       \n",
    "      \n",
    "#### test *******\n",
    "filling_gaps(cwd='./some', adjust=False)"
   ]
  },
  {
   "cell_type": "code",
   "execution_count": null,
   "metadata": {},
   "outputs": [],
   "source": []
  }
 ],
 "metadata": {
  "kernelspec": {
   "display_name": "Python 3",
   "language": "python",
   "name": "python3"
  },
  "language_info": {
   "codemirror_mode": {
    "name": "ipython",
    "version": 3
   },
   "file_extension": ".py",
   "mimetype": "text/x-python",
   "name": "python",
   "nbconvert_exporter": "python",
   "pygments_lexer": "ipython3",
   "version": "3.6.7"
  }
 },
 "nbformat": 4,
 "nbformat_minor": 2
}
