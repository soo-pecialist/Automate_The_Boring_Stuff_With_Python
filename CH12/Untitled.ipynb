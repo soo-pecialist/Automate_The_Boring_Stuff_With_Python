{
 "cells": [
  {
   "cell_type": "code",
   "execution_count": 1,
   "metadata": {},
   "outputs": [
    {
     "data": {
      "text/plain": [
       "openpyxl.workbook.workbook.Workbook"
      ]
     },
     "execution_count": 1,
     "metadata": {},
     "output_type": "execute_result"
    }
   ],
   "source": [
    "import openpyxl\n",
    "\n",
    "wb = openpyxl.load_workbook('example.xlsx')\n",
    "type(wb)"
   ]
  },
  {
   "cell_type": "code",
   "execution_count": 2,
   "metadata": {},
   "outputs": [
    {
     "data": {
      "text/plain": [
       "<openpyxl.workbook.workbook.Workbook at 0x7f9921682be0>"
      ]
     },
     "execution_count": 2,
     "metadata": {},
     "output_type": "execute_result"
    }
   ],
   "source": [
    "wb"
   ]
  },
  {
   "cell_type": "code",
   "execution_count": 8,
   "metadata": {},
   "outputs": [
    {
     "name": "stderr",
     "output_type": "stream",
     "text": [
      "/anaconda3/lib/python3.6/site-packages/ipykernel_launcher.py:1: DeprecationWarning: Call to deprecated function get_sheet_names (Use wb.sheetnames).\n",
      "  \"\"\"Entry point for launching an IPython kernel.\n"
     ]
    },
    {
     "data": {
      "text/plain": [
       "['Sheet1', 'Sheet2', 'Sheet3']"
      ]
     },
     "execution_count": 8,
     "metadata": {},
     "output_type": "execute_result"
    }
   ],
   "source": [
    "wb.get_sheet_names()\n",
    "## use this instead b/c of deprecation\n",
    "# wb.sheetnames"
   ]
  },
  {
   "cell_type": "code",
   "execution_count": 10,
   "metadata": {},
   "outputs": [
    {
     "data": {
      "text/plain": [
       "<Worksheet \"Sheet3\">"
      ]
     },
     "execution_count": 10,
     "metadata": {},
     "output_type": "execute_result"
    }
   ],
   "source": [
    "# sheet = wb.get_sheet_by_name('Sheet3')\n",
    "sheet = wb['Sheet3']\n",
    "sheet"
   ]
  },
  {
   "cell_type": "code",
   "execution_count": 11,
   "metadata": {},
   "outputs": [
    {
     "data": {
      "text/plain": [
       "'Sheet3'"
      ]
     },
     "execution_count": 11,
     "metadata": {},
     "output_type": "execute_result"
    }
   ],
   "source": [
    "sheet.title"
   ]
  },
  {
   "cell_type": "code",
   "execution_count": 12,
   "metadata": {},
   "outputs": [
    {
     "data": {
      "text/plain": [
       "<Worksheet \"Sheet1\">"
      ]
     },
     "execution_count": 12,
     "metadata": {},
     "output_type": "execute_result"
    }
   ],
   "source": [
    "another_sheet = wb.active\n",
    "another_sheet"
   ]
  },
  {
   "cell_type": "markdown",
   "metadata": {},
   "source": [
    "###  Getting Cells from the sheets"
   ]
  },
  {
   "cell_type": "code",
   "execution_count": 13,
   "metadata": {},
   "outputs": [
    {
     "data": {
      "text/plain": [
       "<Cell 'Sheet1'.A1>"
      ]
     },
     "execution_count": 13,
     "metadata": {},
     "output_type": "execute_result"
    }
   ],
   "source": [
    "import openpyxl\n",
    "wb = openpyxl.load_workbook('example.xlsx')\n",
    "sheet = wb['Sheet1']\n",
    "sheet['A1']"
   ]
  },
  {
   "cell_type": "code",
   "execution_count": 15,
   "metadata": {},
   "outputs": [
    {
     "data": {
      "text/plain": [
       "datetime.datetime(2015, 4, 5, 13, 34, 2)"
      ]
     },
     "execution_count": 15,
     "metadata": {},
     "output_type": "execute_result"
    }
   ],
   "source": [
    "sheet['A1'].value"
   ]
  },
  {
   "cell_type": "code",
   "execution_count": 16,
   "metadata": {},
   "outputs": [
    {
     "data": {
      "text/plain": [
       "'Apples'"
      ]
     },
     "execution_count": 16,
     "metadata": {},
     "output_type": "execute_result"
    }
   ],
   "source": [
    "c = sheet['B1']\n",
    "c.value"
   ]
  },
  {
   "cell_type": "code",
   "execution_count": 20,
   "metadata": {},
   "outputs": [
    {
     "data": {
      "text/plain": [
       "'Row 1, Column 2 is Apples'"
      ]
     },
     "execution_count": 20,
     "metadata": {},
     "output_type": "execute_result"
    }
   ],
   "source": [
    "'Row ' + str(c.row) + ', Column ' + str(c.column) + ' is ' + c.value"
   ]
  },
  {
   "cell_type": "code",
   "execution_count": 21,
   "metadata": {},
   "outputs": [
    {
     "data": {
      "text/plain": [
       "73"
      ]
     },
     "execution_count": 21,
     "metadata": {},
     "output_type": "execute_result"
    }
   ],
   "source": [
    "sheet['C1'].value"
   ]
  },
  {
   "cell_type": "code",
   "execution_count": 22,
   "metadata": {},
   "outputs": [
    {
     "data": {
      "text/plain": [
       "<Cell 'Sheet1'.B1>"
      ]
     },
     "execution_count": 22,
     "metadata": {},
     "output_type": "execute_result"
    }
   ],
   "source": [
    "sheet.cell(1, 2)"
   ]
  },
  {
   "cell_type": "code",
   "execution_count": 24,
   "metadata": {},
   "outputs": [
    {
     "data": {
      "text/plain": [
       "'Apples'"
      ]
     },
     "execution_count": 24,
     "metadata": {},
     "output_type": "execute_result"
    }
   ],
   "source": [
    "sheet.cell(row=1, column=2).value"
   ]
  },
  {
   "cell_type": "code",
   "execution_count": 25,
   "metadata": {},
   "outputs": [
    {
     "name": "stdout",
     "output_type": "stream",
     "text": [
      "1 Apples\n",
      "3 Pears\n",
      "5 Apples\n",
      "7 Strawberries\n"
     ]
    }
   ],
   "source": [
    "for i in range(1, 8, 2):\n",
    "    print(i, sheet.cell(i, 2).value)"
   ]
  },
  {
   "cell_type": "code",
   "execution_count": 26,
   "metadata": {},
   "outputs": [
    {
     "data": {
      "text/plain": [
       "(7, 3)"
      ]
     },
     "execution_count": 26,
     "metadata": {},
     "output_type": "execute_result"
    }
   ],
   "source": [
    "sheet.max_row, sheet.max_column"
   ]
  },
  {
   "cell_type": "markdown",
   "metadata": {},
   "source": [
    "### Converting Between column letters and numbers"
   ]
  },
  {
   "cell_type": "code",
   "execution_count": 34,
   "metadata": {},
   "outputs": [
    {
     "data": {
      "text/plain": [
       "'A'"
      ]
     },
     "execution_count": 34,
     "metadata": {},
     "output_type": "execute_result"
    }
   ],
   "source": [
    "from openpyxl.utils import get_column_letter, column_index_from_string\n",
    "\n",
    "get_column_letter(1)"
   ]
  },
  {
   "cell_type": "code",
   "execution_count": 35,
   "metadata": {},
   "outputs": [
    {
     "data": {
      "text/plain": [
       "'B'"
      ]
     },
     "execution_count": 35,
     "metadata": {},
     "output_type": "execute_result"
    }
   ],
   "source": [
    "get_column_letter(2)"
   ]
  },
  {
   "cell_type": "code",
   "execution_count": 36,
   "metadata": {},
   "outputs": [
    {
     "data": {
      "text/plain": [
       "'AA'"
      ]
     },
     "execution_count": 36,
     "metadata": {},
     "output_type": "execute_result"
    }
   ],
   "source": [
    "get_column_letter(27)"
   ]
  },
  {
   "cell_type": "code",
   "execution_count": 37,
   "metadata": {},
   "outputs": [
    {
     "data": {
      "text/plain": [
       "'AHP'"
      ]
     },
     "execution_count": 37,
     "metadata": {},
     "output_type": "execute_result"
    }
   ],
   "source": [
    "get_column_letter(900)"
   ]
  },
  {
   "cell_type": "code",
   "execution_count": 38,
   "metadata": {},
   "outputs": [
    {
     "data": {
      "text/plain": [
       "'C'"
      ]
     },
     "execution_count": 38,
     "metadata": {},
     "output_type": "execute_result"
    }
   ],
   "source": [
    "wb = openpyxl.load_workbook('example.xlsx')\n",
    "sheet = wb['Sheet1']\n",
    "get_column_letter(sheet.max_column)"
   ]
  },
  {
   "cell_type": "code",
   "execution_count": 40,
   "metadata": {},
   "outputs": [
    {
     "data": {
      "text/plain": [
       "1"
      ]
     },
     "execution_count": 40,
     "metadata": {},
     "output_type": "execute_result"
    }
   ],
   "source": [
    "column_index_from_string('A')"
   ]
  },
  {
   "cell_type": "code",
   "execution_count": 41,
   "metadata": {},
   "outputs": [
    {
     "data": {
      "text/plain": [
       "27"
      ]
     },
     "execution_count": 41,
     "metadata": {},
     "output_type": "execute_result"
    }
   ],
   "source": [
    "column_index_from_string('AA')"
   ]
  },
  {
   "cell_type": "markdown",
   "metadata": {},
   "source": [
    "### Getting Rows and Columns from the Sheets"
   ]
  },
  {
   "cell_type": "code",
   "execution_count": 42,
   "metadata": {},
   "outputs": [
    {
     "data": {
      "text/plain": [
       "((<Cell 'Sheet1'.A1>, <Cell 'Sheet1'.B1>, <Cell 'Sheet1'.C1>),\n",
       " (<Cell 'Sheet1'.A2>, <Cell 'Sheet1'.B2>, <Cell 'Sheet1'.C2>),\n",
       " (<Cell 'Sheet1'.A3>, <Cell 'Sheet1'.B3>, <Cell 'Sheet1'.C3>))"
      ]
     },
     "execution_count": 42,
     "metadata": {},
     "output_type": "execute_result"
    }
   ],
   "source": [
    "wb = openpyxl.load_workbook('example.xlsx')\n",
    "sheet = wb['Sheet1']\n",
    "tuple(sheet['A1':'C3'])"
   ]
  },
  {
   "cell_type": "code",
   "execution_count": 46,
   "metadata": {},
   "outputs": [
    {
     "name": "stdout",
     "output_type": "stream",
     "text": [
      "A1] 2015-04-05 13:34:02\n",
      "B1] Apples\n",
      "C1] 73\n",
      "--- END OF ROW ---\n",
      "A2] 2015-04-05 03:41:23\n",
      "B2] Cherries\n",
      "C2] 85\n",
      "--- END OF ROW ---\n",
      "A3] 2015-04-06 12:46:51\n",
      "B3] Pears\n",
      "C3] 14\n",
      "--- END OF ROW ---\n"
     ]
    }
   ],
   "source": [
    "for row in sheet['A1':'C3']:\n",
    "    for cell in row:\n",
    "        print(cell.coordinate, cell.value, sep='] ')\n",
    "    print('--- END OF ROW ---')"
   ]
  },
  {
   "cell_type": "code",
   "execution_count": 48,
   "metadata": {},
   "outputs": [
    {
     "data": {
      "text/plain": [
       "(<generator object Worksheet._cells_by_row at 0x7f99018a3468>,\n",
       " <generator object Worksheet._cells_by_col at 0x7f99018a30a0>)"
      ]
     },
     "execution_count": 48,
     "metadata": {},
     "output_type": "execute_result"
    }
   ],
   "source": [
    "sheet.rows, sheet.columns"
   ]
  },
  {
   "cell_type": "code",
   "execution_count": 53,
   "metadata": {},
   "outputs": [
    {
     "data": {
      "text/plain": [
       "(<Cell 'Sheet1'.B1>,\n",
       " <Cell 'Sheet1'.B2>,\n",
       " <Cell 'Sheet1'.B3>,\n",
       " <Cell 'Sheet1'.B4>,\n",
       " <Cell 'Sheet1'.B5>,\n",
       " <Cell 'Sheet1'.B6>,\n",
       " <Cell 'Sheet1'.B7>)"
      ]
     },
     "execution_count": 53,
     "metadata": {},
     "output_type": "execute_result"
    }
   ],
   "source": [
    "list(sheet.columns)[1]"
   ]
  },
  {
   "cell_type": "code",
   "execution_count": 56,
   "metadata": {},
   "outputs": [
    {
     "name": "stdout",
     "output_type": "stream",
     "text": [
      "Apples\n",
      "Cherries\n",
      "Pears\n",
      "Oranges\n",
      "Apples\n",
      "Bananas\n",
      "Strawberries\n"
     ]
    }
   ],
   "source": [
    "for cell in list(sheet.columns)[1]:\n",
    "    print(cell.value)"
   ]
  },
  {
   "cell_type": "code",
   "execution_count": 58,
   "metadata": {},
   "outputs": [
    {
     "data": {
      "text/plain": [
       "[(<Cell 'Sheet1'.A1>, <Cell 'Sheet1'.B1>, <Cell 'Sheet1'.C1>),\n",
       " (<Cell 'Sheet1'.A2>, <Cell 'Sheet1'.B2>, <Cell 'Sheet1'.C2>),\n",
       " (<Cell 'Sheet1'.A3>, <Cell 'Sheet1'.B3>, <Cell 'Sheet1'.C3>),\n",
       " (<Cell 'Sheet1'.A4>, <Cell 'Sheet1'.B4>, <Cell 'Sheet1'.C4>),\n",
       " (<Cell 'Sheet1'.A5>, <Cell 'Sheet1'.B5>, <Cell 'Sheet1'.C5>),\n",
       " (<Cell 'Sheet1'.A6>, <Cell 'Sheet1'.B6>, <Cell 'Sheet1'.C6>),\n",
       " (<Cell 'Sheet1'.A7>, <Cell 'Sheet1'.B7>, <Cell 'Sheet1'.C7>)]"
      ]
     },
     "execution_count": 58,
     "metadata": {},
     "output_type": "execute_result"
    }
   ],
   "source": [
    "list(sheet.rows)"
   ]
  },
  {
   "cell_type": "markdown",
   "metadata": {},
   "source": [
    "## Project: Reading Data from a spreadsheet"
   ]
  },
  {
   "cell_type": "code",
   "execution_count": 64,
   "metadata": {},
   "outputs": [
    {
     "name": "stdout",
     "output_type": "stream",
     "text": [
      "Opening workbook...\n",
      "Reading rows...\n",
      "Writing results...\n",
      "Done.\n",
      "\n",
      "Glimpse of result\n",
      "[('AK',\n",
      "  {'Aleutians East': {'pop': 3141, 'tracts': 1},\n",
      "   'Aleutians West': {'pop': 5561, 'tracts': 2},\n",
      "   'Anchorage': {'pop': 291826, 'tracts': 55},\n",
      "   'Bethel': {'pop': 17013, 'tracts': 3},\n",
      "   'Bristol Bay': {'pop': 997, 'tracts': 1},\n",
      "   'Denali': {'pop': 1826, 'tracts': 1},\n",
      "   'Dillingham': {'pop': 4847, 'tracts': 2},\n",
      "   'Fairbanks North Star': {'pop': 97581, 'tracts': 19},\n",
      "   'Haines': {'pop': 2508, 'tracts': 1},\n",
      "   'Hoonah-Angoon': {'pop': 2150, 'tracts': 2},\n",
      "   'Juneau': {'pop': 31275, 'tracts': 6},\n",
      "   'Kenai Peninsula': {'pop': 55400, 'tracts': 13},\n",
      "   'Ketchikan Gateway': {'pop': 13477, 'tracts': 4},\n",
      "   'Kodiak Island': {'pop': 13592, 'tracts': 5},\n",
      "   'Lake and Peninsula': {'pop': 1631, 'tracts': 1},\n",
      "   'Matanuska-Susitna': {'pop': 88995, 'tracts': 24},\n",
      "   'Nome': {'pop': 9492, 'tracts': 2},\n",
      "   'North Slope': {'pop': 9430, 'tracts': 3},\n",
      "   'Northwest Arctic': {'pop': 7523, 'tracts': 2},\n",
      "   'Petersburg': {'pop': 3815, 'tracts': 1},\n",
      "   'Prince of Wales-Hyder': {'pop': 5559, 'tracts': 4},\n",
      "   'Sitka': {'pop': 8881, 'tracts': 2},\n",
      "   'Skagway': {'pop': 968, 'tracts': 1},\n",
      "   'Southeast Fairbanks': {'pop': 7029, 'tracts': 2},\n",
      "   'Valdez-Cordova': {'pop': 9636, 'tracts': 3},\n",
      "   'Wade Hampton': {'pop': 7459, 'tracts': 1},\n",
      "   'Wrangell': {'pop': 2369, 'tracts': 1},\n",
      "   'Yakutat': {'pop': 662, 'tracts': 1},\n",
      "   'Yukon-Koyukuk': {'pop': 5588, 'tracts': 4}})]\n"
     ]
    }
   ],
   "source": [
    "# %load read_census_excel.py\n",
    "#!/usr/bin/env python3\n",
    "\"\"\"\n",
    "Created on Fri Aug 23 11:46:28 2019\n",
    "\n",
    "@author: Soo Hyeon Kim\n",
    "- Reads the data from the Excel spreadsheet\n",
    "- counts the number of census tracts in each county\n",
    "- counts the total population of each county\n",
    "- prints the results\n",
    "\"\"\"\n",
    "\n",
    "import openpyxl, pprint\n",
    "\n",
    "print(\"Opening workbook...\")\n",
    "wb = openpyxl.load_workbook('censuspopdata.xlsx')\n",
    "sheet = wb['Population by Census Tract']\n",
    "county_data = {}\n",
    "\n",
    "# TODO: Fill in county_data with each county's pop, and tracts.\n",
    "print('Reading rows...')\n",
    "for row in range(2, sheet.max_row+1): # starts from row 2 b/c row 1 is header\n",
    "    # Each row in the spreadsheet has data for one census tract.\n",
    "    state   = sheet['B' + str(row)].value\n",
    "    county  = sheet['C' + str(row)].value\n",
    "    pop     = sheet['D' + str(row)].value\n",
    "    \n",
    "    # Make sure the key for this state exists\n",
    "    county_data.setdefault(state, {})\n",
    "    # Make sure the key for this county in this state exists.\n",
    "    county_data[state].setdefault(county, {'tracts': 0, 'pop': 0})\n",
    "    \n",
    "    # Each row represents one census tract so increment by one.\n",
    "    county_data[state][county]['tracts'] += 1\n",
    "    # Increase the county pop by the pop by the pop in this census tract\n",
    "    county_data[state][county]['pop'] += int(pop)\n",
    "    \n",
    "    \n",
    "# TODO: Open a new text file and write the contents of county_data to it. \n",
    "print('Writing results...')\n",
    "with open('census2010.py', 'w') as result_file:\n",
    "    result_file.write('all_data = '+ pprint.pformat(county_data))\n",
    "print('Done.')\n",
    "    \n",
    "#### take a partial view of census2010.py\n",
    "import census2010\n",
    "print()\n",
    "print(\"Glimpse of result\")\n",
    "pprint.pprint(list(census2010.all_data.items())[0:1])"
   ]
  },
  {
   "cell_type": "markdown",
   "metadata": {},
   "source": [
    "### Writing Excel Documents"
   ]
  },
  {
   "cell_type": "code",
   "execution_count": 65,
   "metadata": {},
   "outputs": [
    {
     "data": {
      "text/plain": [
       "['Sheet']"
      ]
     },
     "execution_count": 65,
     "metadata": {},
     "output_type": "execute_result"
    }
   ],
   "source": [
    "wb = openpyxl.Workbook()\n",
    "wb.sheetnames"
   ]
  },
  {
   "cell_type": "code",
   "execution_count": 66,
   "metadata": {},
   "outputs": [
    {
     "data": {
      "text/plain": [
       "'Sheet'"
      ]
     },
     "execution_count": 66,
     "metadata": {},
     "output_type": "execute_result"
    }
   ],
   "source": [
    "sheet = wb.active\n",
    "sheet.title"
   ]
  },
  {
   "cell_type": "code",
   "execution_count": 67,
   "metadata": {},
   "outputs": [
    {
     "data": {
      "text/plain": [
       "['Spam Bacon Eggs Sheet']"
      ]
     },
     "execution_count": 67,
     "metadata": {},
     "output_type": "execute_result"
    }
   ],
   "source": [
    "sheet.title = 'Spam Bacon Eggs Sheet'\n",
    "wb.sheetnames"
   ]
  },
  {
   "cell_type": "code",
   "execution_count": 72,
   "metadata": {},
   "outputs": [
    {
     "name": "stdout",
     "output_type": "stream",
     "text": [
      "'example_copy.xlsx' is in the directory? True\n"
     ]
    }
   ],
   "source": [
    "## spreadsheet file will not be saved until you call the save() method\n",
    "import os\n",
    "\n",
    "wb = openpyxl.load_workbook('example.xlsx')\n",
    "sheet = wb.active\n",
    "sheet.title = 'Spam Spam Spam'\n",
    "wb.save('example_copy.xlsx')\n",
    "    \n",
    "is_in = 'example_copy.xlsx' in os.listdir()\n",
    "print(\"'example_copy.xlsx' is in the directory? {}\".format(is_in))"
   ]
  },
  {
   "cell_type": "markdown",
   "metadata": {},
   "source": [
    "### Creating and Removing Sheets"
   ]
  },
  {
   "cell_type": "code",
   "execution_count": 76,
   "metadata": {},
   "outputs": [
    {
     "data": {
      "text/plain": [
       "['Sheet']"
      ]
     },
     "execution_count": 76,
     "metadata": {},
     "output_type": "execute_result"
    }
   ],
   "source": [
    "wb = openpyxl.Workbook()\n",
    "wb.sheetnames"
   ]
  },
  {
   "cell_type": "code",
   "execution_count": 77,
   "metadata": {},
   "outputs": [
    {
     "data": {
      "text/plain": [
       "['Sheet', 'Sheet1']"
      ]
     },
     "execution_count": 77,
     "metadata": {},
     "output_type": "execute_result"
    }
   ],
   "source": [
    "wb.create_sheet()\n",
    "wb.sheetnames"
   ]
  },
  {
   "cell_type": "code",
   "execution_count": 78,
   "metadata": {},
   "outputs": [
    {
     "data": {
      "text/plain": [
       "['First Sheet', 'Sheet', 'Sheet1']"
      ]
     },
     "execution_count": 78,
     "metadata": {},
     "output_type": "execute_result"
    }
   ],
   "source": [
    "wb.create_sheet(title='First Sheet', index=0)\n",
    "wb.sheetnames"
   ]
  },
  {
   "cell_type": "code",
   "execution_count": 79,
   "metadata": {},
   "outputs": [
    {
     "data": {
      "text/plain": [
       "['First Sheet', 'Sheet', 'Middle Sheet', 'Sheet1']"
      ]
     },
     "execution_count": 79,
     "metadata": {},
     "output_type": "execute_result"
    }
   ],
   "source": [
    "wb.create_sheet(title='Middle Sheet', index=2)\n",
    "wb.sheetnames"
   ]
  },
  {
   "cell_type": "markdown",
   "metadata": {},
   "source": [
    "### Writing Values to Cells"
   ]
  },
  {
   "cell_type": "code",
   "execution_count": 80,
   "metadata": {},
   "outputs": [
    {
     "data": {
      "text/plain": [
       "'Hello world!'"
      ]
     },
     "execution_count": 80,
     "metadata": {},
     "output_type": "execute_result"
    }
   ],
   "source": [
    "wb = openpyxl.Workbook()\n",
    "sheet = wb['Sheet']\n",
    "sheet['A1'] = 'Hello world!'\n",
    "sheet['A1'].value"
   ]
  },
  {
   "cell_type": "markdown",
   "metadata": {},
   "source": [
    "## Project: Updating a Spreadsheet"
   ]
  },
  {
   "cell_type": "code",
   "execution_count": 82,
   "metadata": {},
   "outputs": [
    {
     "name": "stdout",
     "output_type": "stream",
     "text": [
      "'updated_ProduceSales.xlsx' is saved!\n"
     ]
    }
   ],
   "source": [
    "# %load update_produce.py\n",
    "#!/usr/bin/env python3\n",
    "\"\"\"\n",
    "Created on Fri Aug 23 13:41:55 2019\n",
    "\n",
    "@author: Soo Hyeon Kim\n",
    "Your program will look through the spreadsheet, find specific kinds of produce,\n",
    "and update their prices. \n",
    "\"\"\"\n",
    "\n",
    "\"\"\"\n",
    "the prices that you need to update are as follows\n",
    "Celery      1.19\n",
    "Garlic      3.07\n",
    "Lemon       1.27\n",
    "\"\"\"\n",
    "\n",
    "import openpyxl\n",
    "\n",
    "wb = openpyxl.load_workbook('produceSales.xlsx')\n",
    "sheet = wb['Sheet']\n",
    "\n",
    "# The produce types and their updated prices\n",
    "PRICE_UPDATES = {'Garlic': 3.07,\n",
    "                 'Celery': 1.19,\n",
    "                 'Lemon': 1.27}\n",
    "\n",
    "# TODO: Loop through the rows and update the prices.\n",
    "for row_num in range(2, sheet.max_row): # skip the first row\n",
    "    produce_name = sheet.cell(row=row_num, column=1).value\n",
    "    if produce_name in PRICE_UPDATES:\n",
    "        sheet.cell(row=row_num, column=2).value = PRICE_UPDATES[produce_name]\n",
    "        \n",
    "wb.save('updated_ProduceSales.xlsx')\n",
    "\n",
    "print(\"'updated_ProduceSales.xlsx' is saved!\")    "
   ]
  },
  {
   "cell_type": "markdown",
   "metadata": {},
   "source": [
    "### Setting the font style of Cells"
   ]
  },
  {
   "cell_type": "code",
   "execution_count": 83,
   "metadata": {},
   "outputs": [],
   "source": [
    "from openpyxl.styles import Font"
   ]
  },
  {
   "cell_type": "code",
   "execution_count": 84,
   "metadata": {},
   "outputs": [],
   "source": [
    "wb = openpyxl.Workbook()\n",
    "sheet = wb['Sheet']\n",
    "italic24_font = Font(size=24, italic=True)\n",
    "sheet['A1'].font = italic24_font\n",
    "sheet['A1'] = 'Hello world!'\n",
    "wb.save('styled.xlsx')"
   ]
  },
  {
   "cell_type": "markdown",
   "metadata": {},
   "source": [
    "### Font Objects"
   ]
  },
  {
   "cell_type": "code",
   "execution_count": 85,
   "metadata": {},
   "outputs": [],
   "source": [
    "wb = openpyxl.Workbook()\n",
    "sheet = wb['Sheet']\n",
    "\n",
    "font_1 = Font(name='Times New Roman', bold=True)\n",
    "sheet['A1'].font = font_1\n",
    "sheet['A1'] = 'Bold Times New Roman'\n",
    "\n",
    "font_2 = Font(size=24, italic=True)\n",
    "sheet['B3'].font = font_2\n",
    "sheet['B3'] = '24 pt Italic'\n",
    "\n",
    "wb.save('styles.xlsx')"
   ]
  },
  {
   "cell_type": "markdown",
   "metadata": {},
   "source": [
    "### Formulas"
   ]
  },
  {
   "cell_type": "code",
   "execution_count": 86,
   "metadata": {},
   "outputs": [],
   "source": [
    "wb = openpyxl.Workbook()\n",
    "sheet = wb.active\n",
    "sheet['A1'] = 200\n",
    "sheet['A2'] = 300\n",
    "sheet['A3'] = '=SUM(A1:A2)'\n",
    "\n",
    "wb.save('write_formula.xlsx')"
   ]
  },
  {
   "cell_type": "markdown",
   "metadata": {},
   "source": [
    "### Adjusting Rows and Columns"
   ]
  },
  {
   "cell_type": "code",
   "execution_count": 87,
   "metadata": {},
   "outputs": [],
   "source": [
    "wb = openpyxl.Workbook()\n",
    "sheet = wb.active\n",
    "sheet['A1'] = 'Tall row'\n",
    "sheet['B2'] = 'Wide column'\n",
    "sheet.row_dimensions[1].height = 70\n",
    "sheet.column_dimensions['B'].width = 20\n",
    "wb.save('dimensions.xlsx')"
   ]
  },
  {
   "cell_type": "markdown",
   "metadata": {},
   "source": [
    "### Merging and Unmerging Cells"
   ]
  },
  {
   "cell_type": "code",
   "execution_count": 89,
   "metadata": {},
   "outputs": [],
   "source": [
    "wb = openpyxl.Workbook()\n",
    "sheet = wb.active\n",
    "sheet.merge_cells('A1:D3')\n",
    "sheet['A1'] = 'Twelve cells merged together.'\n",
    "sheet.merge_cells('C5:D5')\n",
    "sheet['C5'] = 'Two merged cells'\n",
    "wb.save('merged.xlsx')"
   ]
  },
  {
   "cell_type": "markdown",
   "metadata": {},
   "source": [
    "### Freeze Panes"
   ]
  },
  {
   "cell_type": "code",
   "execution_count": 92,
   "metadata": {},
   "outputs": [],
   "source": [
    "wb = openpyxl.load_workbook('produceSales.xlsx')\n",
    "sheet = wb.active\n",
    "sheet.freeze_panes = 'A2'\n",
    "wb.save('freezeExample.xlsx')"
   ]
  },
  {
   "cell_type": "markdown",
   "metadata": {},
   "source": [
    "### Charts"
   ]
  },
  {
   "cell_type": "code",
   "execution_count": 97,
   "metadata": {},
   "outputs": [],
   "source": [
    "wb = openpyxl.Workbook()\n",
    "sheet = wb.active\n",
    "\n",
    "for i in range(1, 11):       # create some data in column A\n",
    "    sheet['A' + str(i)] = i\n",
    "    \n",
    "ref = openpyxl.chart.Reference(sheet, min_col=1, min_row=1, max_col=1, max_row=10)\n",
    "\n",
    "\n",
    "series = openpyxl.chart.Series(ref, title='First series')\n",
    "\n",
    "chart = openpyxl.chart.BarChart()\n",
    "chart.title = 'My Chart'\n",
    "chart.append(series)\n",
    "\n",
    "sheet.add_chart(chart, 'C5')\n",
    "wb.save('sample_chart.xlsx')"
   ]
  },
  {
   "cell_type": "markdown",
   "metadata": {},
   "source": [
    "# Practice Projects\n",
    "\n",
    "## Multiplication Table Maker"
   ]
  },
  {
   "cell_type": "code",
   "execution_count": 100,
   "metadata": {},
   "outputs": [
    {
     "name": "stdout",
     "output_type": "stream",
     "text": [
      "'multiplicatin_table.xlsx' is created for 15x15!\r\n"
     ]
    }
   ],
   "source": [
    "# # %load multiplication_table.py\n",
    "# #!/usr/bin/env python3\n",
    "# \"\"\"\n",
    "# Created on Fri Aug 23 16:21:04 2019\n",
    "\n",
    "# @author: Soo Hyeon Kim\n",
    "# Takes a number N from the command line and creates and NxN multiplication \n",
    "# table in an Excel spreadsheet\n",
    "\n",
    "# usage:\n",
    "#     python3 multiplication_table.py 6\n",
    "# \"\"\"\n",
    "\n",
    "# import openpyxl, sys\n",
    "# from openpyxl.styles import Font\n",
    "\n",
    "# if len(sys.argv) > 1:\n",
    "#     N = int(sys.argv[1])\n",
    "# else: \n",
    "#     N = int(input(\"Forgot to input N? Type N please: \"))\n",
    "\n",
    "# wb = openpyxl.Workbook()\n",
    "# sheet = wb.active\n",
    "\n",
    "# bold_font = Font(bold=True)\n",
    "\n",
    "# for n in range(1, N+1):\n",
    "#     sheet.cell(row=1, column=n+1).value = n\n",
    "#     sheet.cell(row=1, column=n+1).font = bold_font\n",
    "    \n",
    "# for n in range(1, N+1):\n",
    "#     sheet.cell(row=n+1, column=1).value = n\n",
    "#     sheet.cell(row=n+1, column=1).font = bold_font\n",
    "\n",
    "# for r in range(2, N+2):   ## n+1 row (first row is header)\n",
    "#     for c in range(2, N+2):  ## n+1 column (first column is header)\n",
    "#         sheet.cell(row=r, column=c).value = (r-1) * (c-1)\n",
    "\n",
    "# wb.save(\"multiplicatin_table.xlsx\")\n",
    "# print(\"'multiplicatin_table.xlsx' is created for {}x{}!\".format(N, N))\n",
    "\n",
    "# ## TEST ***\n",
    "!python3 multiplication_table.py 15"
   ]
  },
  {
   "cell_type": "markdown",
   "metadata": {},
   "source": [
    "## Blank Row Inserter"
   ]
  },
  {
   "cell_type": "code",
   "execution_count": 102,
   "metadata": {},
   "outputs": [
    {
     "name": "stdout",
     "output_type": "stream",
     "text": [
      "Start running...\n",
      "3 blank rows are inserted at row 5 of 'myProduce.xlsx'\n",
      "File 'myProduce_blanked.xlsx' is created!\n"
     ]
    }
   ],
   "source": [
    "# # %load blank_row_inserter.py\n",
    "# #!/usr/bin/env python3\n",
    "# \"\"\"\n",
    "# Created on Fri Aug 23 16:48:41 2019\n",
    "\n",
    "# @author: Soo Hyeon Kim\n",
    "# Takes two integers and a filename string from command line. (N, M, filename)\n",
    "# Starting at row N, the program inserts M blank rows into the spread sheet.\n",
    "# e.g., \n",
    "# !python3 blank_row_inserter.py 3 2 myProduce.xlsx\n",
    "# \"\"\"\n",
    "\n",
    "# import sys, openpyxl\n",
    "# from openpyxl.utils import get_column_letter, column_index_from_string\n",
    "\n",
    "# try:\n",
    "#     n, m, filename = sys.argv[1:4]\n",
    "# except:\n",
    "#     print(\"You need to input arguments for N, M, and Excel file name!\")\n",
    "#     print(\"By default, N = 3, M = 2, and file name is 'myProduce.xlsx'\\n\")\n",
    "#     n, m, filename = '3', '2', 'myProduce.xlsx'\n",
    "\n",
    "# print(\"Start running...\")\n",
    "\n",
    "# n = int(n)\n",
    "# m = int(m)\n",
    "\n",
    "# wb = openpyxl.load_workbook(filename)\n",
    "# sheet = wb.active\n",
    "\n",
    "# last_col_letter = get_column_letter(sheet.max_column)\n",
    "# max_row = sheet.max_row\n",
    "# max_col = sheet.max_column\n",
    "\n",
    "# for row_num in range(max_row + m, n-1):   #last row to n's row\n",
    "#     for col_num in range(1, max_col+1):\n",
    "#         sheet.cell(row=row_num, column=col_num).value =\\\n",
    "#             sheet.cell(row=row_num - m, column=col_num).value\n",
    "\n",
    "\n",
    "# for row in sheet['A'+str(n) : last_col_letter+str(n+m-1)]:          \n",
    "#     for cell in row:\n",
    "#         cell.value = None\n",
    "        \n",
    "# saved_name = filename.strip('.xlsx')+'_blanked'+'.xlsx'\n",
    "# wb.save(saved_name)\n",
    "\n",
    "# print(\"{} blank rows are inserted at row {} of '{}'\".format(m, n, filename))\n",
    "# print(\"File '{}' is created!\".format(saved_name))\n",
    "\n",
    "## Test ***\n",
    "!python3 blank_row_inserter.py 5 3 myProduce.xlsx"
   ]
  },
  {
   "cell_type": "markdown",
   "metadata": {},
   "source": [
    "## Spreadsheet Cell Inverter"
   ]
  },
  {
   "cell_type": "code",
   "execution_count": 106,
   "metadata": {},
   "outputs": [
    {
     "name": "stdout",
     "output_type": "stream",
     "text": [
      "File 'example_inverted.xlsx' is created!\r\n"
     ]
    }
   ],
   "source": [
    "# # %load spreadsheet_cell_inverter.py\n",
    "# #!/usr/bin/env python3\n",
    "# \"\"\"\n",
    "# Created on Fri Aug 23 17:56:33 2019\n",
    "\n",
    "# @author: Soo Hyeon Kim\n",
    "# \"\"\"\n",
    "\n",
    "# import openpyxl, sys, os\n",
    "\n",
    "# try:\n",
    "#     filename = sys.argv[1]\n",
    "# except:\n",
    "#     print(\"You didn't type Excel file name you want to transpose\")\n",
    "#     filename = input(\"what is your file name?: \")\n",
    "\n",
    "# abs_filename = os.path.abspath(filename)\n",
    "\n",
    "# while not os.path.exists(abs_filename):\n",
    "#     filename = input(\"Your file name is wrong. Please type file name again: \")\n",
    "#     abs_filename = os.path.abspath(filename)\n",
    "\n",
    "# wb = openpyxl.load_workbook(filename)\n",
    "# sheet = wb.active\n",
    "\n",
    "# max_row = sheet.max_row\n",
    "# max_col = sheet.max_column\n",
    "\n",
    "# holder = []\n",
    "# row = []\n",
    "# for row_num in range(1, max_row+1):\n",
    "#     row = []\n",
    "    \n",
    "#     for col_num in range(1, max_col+1):\n",
    "#         row.append(sheet.cell(row=row_num, column=col_num).value)\n",
    "    \n",
    "#     holder.append(row)\n",
    "\n",
    "# wb = openpyxl.Workbook()\n",
    "# sheet = wb.active\n",
    "\n",
    "# for row_num in range(1, max_row+1):\n",
    "#     for col_num in range(1, max_col+1):\n",
    "#         sheet.cell(row=col_num, column=row_num).value = \\\n",
    "#                     holder[row_num-1][col_num-1]\n",
    "        \n",
    "# saved_name = filename.strip('.xlsx')+'_inverted'+'.xlsx'\n",
    "# wb.save(saved_name)\n",
    "\n",
    "# print(\"File '{}' is created!\".format(saved_name))\n",
    "\n",
    "### Test *****\n",
    "!python3 spreadsheet_cell_inverter.py example.xlsx"
   ]
  },
  {
   "cell_type": "markdown",
   "metadata": {},
   "source": [
    "## Text Files to Spreadsheet"
   ]
  },
  {
   "cell_type": "code",
   "execution_count": 109,
   "metadata": {},
   "outputs": [
    {
     "name": "stdout",
     "output_type": "stream",
     "text": [
      "'text_file.xlsx' has been created!\n"
     ]
    }
   ],
   "source": [
    "# %load text_files_to_spreadsheet.py\n",
    "#!/usr/bin/env python3\n",
    "\"\"\"\n",
    "Created on Fri Aug 23 19:13:03 2019\n",
    "\n",
    "@author: Soo Hyeon Kim\n",
    "Read tex files and insert those contents into a spreadsheet. \n",
    "First line of text will be in the cells of column A, Second line column B, \n",
    "and so on. \n",
    "\"\"\"\n",
    "\n",
    "\n",
    "import openpyxl, re\n",
    "\n",
    "filename = 'text_file.txt'\n",
    "\n",
    "wb = openpyxl.Workbook()\n",
    "sheet = wb['Sheet']\n",
    "\n",
    "\n",
    "text_file = open(filename, 'r')\n",
    "\n",
    "text = text_file.read()\n",
    "\n",
    "## Let's clean text taking symbols out\n",
    "regex = re.compile(r'[.,-_?!\"\\']')\n",
    "text = regex.sub(\"\", text)\n",
    "\n",
    "text_lines = text.split('\\n')\n",
    "holder = []\n",
    "for line in text.split('\\n'):\n",
    "    holder.append(line.split())\n",
    "\n",
    "    \n",
    "max_col = len(holder)\n",
    "row_num = 0\n",
    "col_num = 1\n",
    "\n",
    "# write to spreadsheet\n",
    "for col in holder: # col is list\n",
    "\n",
    "    row_num = len(col)\n",
    "    for r in range(1, row_num+1):\n",
    "        sheet.cell(row=r, column=col_num).value = col[r-1]\n",
    "    \n",
    "    col_num += 1\n",
    "    \n",
    "base = re.findall(r'^([\\w\\d_]+)\\.[\\d\\w]+', filename)[0]\n",
    "saved_file = base + '.xlsx'\n",
    "wb.save(saved_file)\n",
    "\n",
    "print(\"'{}' has been created!\".format(saved_file))"
   ]
  },
  {
   "cell_type": "code",
   "execution_count": null,
   "metadata": {},
   "outputs": [],
   "source": []
  }
 ],
 "metadata": {
  "kernelspec": {
   "display_name": "Python 3",
   "language": "python",
   "name": "python3"
  },
  "language_info": {
   "codemirror_mode": {
    "name": "ipython",
    "version": 3
   },
   "file_extension": ".py",
   "mimetype": "text/x-python",
   "name": "python",
   "nbconvert_exporter": "python",
   "pygments_lexer": "ipython3",
   "version": "3.6.7"
  }
 },
 "nbformat": 4,
 "nbformat_minor": 2
}
