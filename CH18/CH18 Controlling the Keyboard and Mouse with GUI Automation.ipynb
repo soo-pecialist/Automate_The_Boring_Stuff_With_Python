{
 "cells": [
  {
   "cell_type": "markdown",
   "metadata": {},
   "source": [
    "### Pause and Fail-Safes"
   ]
  },
  {
   "cell_type": "code",
   "execution_count": 1,
   "metadata": {},
   "outputs": [],
   "source": [
    "import pyautogui\n",
    "pyautogui.PAUSE = 1  # one-second pause after each function call\n",
    "pyautogui.FAILSAFE = True"
   ]
  },
  {
   "cell_type": "code",
   "execution_count": 2,
   "metadata": {},
   "outputs": [
    {
     "data": {
      "text/plain": [
       "Size(width=1680, height=1050)"
      ]
     },
     "execution_count": 2,
     "metadata": {},
     "output_type": "execute_result"
    }
   ],
   "source": [
    "pyautogui.size()"
   ]
  },
  {
   "cell_type": "code",
   "execution_count": 3,
   "metadata": {},
   "outputs": [],
   "source": [
    "width, height = pyautogui.size()"
   ]
  },
  {
   "cell_type": "markdown",
   "metadata": {},
   "source": [
    "### Moving the Mouse"
   ]
  },
  {
   "cell_type": "code",
   "execution_count": 7,
   "metadata": {},
   "outputs": [],
   "source": [
    "for i in range(5):\n",
    "    pyautogui.moveTo(1580, 100, duration=0.25)\n",
    "    pyautogui.moveTo(1580, 950, duration=0.25)\n",
    "    pyautogui.moveTo(100, 950, duration=0.25)\n",
    "    pyautogui.moveTo(100, 100, duration=0.25)"
   ]
  },
  {
   "cell_type": "code",
   "execution_count": 8,
   "metadata": {},
   "outputs": [],
   "source": [
    "for i in range(5):\n",
    "    pyautogui.moveRel(100, 0, duration=0.25)\n",
    "    pyautogui.moveRel(0, 100, duration=0.25)\n",
    "    pyautogui.moveRel(-100, 0, duration=0.25)\n",
    "    pyautogui.moveRel(0, -100, duration=0.25)"
   ]
  },
  {
   "cell_type": "markdown",
   "metadata": {},
   "source": [
    "### Getting the Mouse Position"
   ]
  },
  {
   "cell_type": "code",
   "execution_count": 9,
   "metadata": {},
   "outputs": [
    {
     "data": {
      "text/plain": [
       "Point(x=385, y=787)"
      ]
     },
     "execution_count": 9,
     "metadata": {},
     "output_type": "execute_result"
    }
   ],
   "source": [
    "pyautogui.position()"
   ]
  },
  {
   "cell_type": "code",
   "execution_count": 10,
   "metadata": {},
   "outputs": [
    {
     "data": {
      "text/plain": [
       "Point(x=1616, y=987)"
      ]
     },
     "execution_count": 10,
     "metadata": {},
     "output_type": "execute_result"
    }
   ],
   "source": [
    "pyautogui.position()"
   ]
  },
  {
   "cell_type": "markdown",
   "metadata": {},
   "source": [
    "## Project: \"Where is the mouse right now?\""
   ]
  },
  {
   "cell_type": "code",
   "execution_count": 37,
   "metadata": {
    "scrolled": true
   },
   "outputs": [
    {
     "name": "stdout",
     "output_type": "stream",
     "text": [
      "Press Ctrl-C to quit.\n",
      "X:  514 Y:  189\n",
      "Done.\n"
     ]
    }
   ],
   "source": [
    "# %load where_is_the_mouse.py\n",
    "#!/usr/bin/env python3\n",
    "\"\"\"\n",
    "Created on Tue Aug 27 11:29:04 2019\n",
    "\n",
    "@author: Soo Hyeon Kim\n",
    "- Display the current x- and y-coordinates of the mouse cursor\n",
    "0 Update these coordinates as the mouse moves around the screen\n",
    "\"\"\"\n",
    "\n",
    "import pyautogui, time\n",
    "print(\"Press Ctrl-C to quit.\")\n",
    "\n",
    "# TODO: Get and print th emouse coordinates.\n",
    "try:\n",
    "    while True:\n",
    "        x, y = pyautogui.position()\n",
    "        position_str = 'X: ' + str(x).rjust(4) + ' Y: ' + str(y).rjust(4)\n",
    "        print(position_str, end='')\n",
    "        time.sleep(0.75) \n",
    "        delete = '\\b'*len(position_str)\n",
    "        for d in delete:\n",
    "            print(d, end='', flush=True)\n",
    "        time.sleep(0.25) \n",
    "        \n",
    "except KeyboardInterrupt:\n",
    "    print('\\nDone.')\n"
   ]
  },
  {
   "cell_type": "markdown",
   "metadata": {},
   "source": [
    "## Controlling Mouse Interaction\n",
    "### Clicking the Moues"
   ]
  },
  {
   "cell_type": "code",
   "execution_count": 38,
   "metadata": {},
   "outputs": [],
   "source": [
    "pyautogui.click(10, 5, button='left')"
   ]
  },
  {
   "cell_type": "markdown",
   "metadata": {},
   "source": [
    "### Dragging the mouse"
   ]
  },
  {
   "cell_type": "code",
   "execution_count": 41,
   "metadata": {},
   "outputs": [],
   "source": [
    "time.sleep(2)\n",
    "pyautogui.click()\n",
    "distance = 100\n",
    "while distance > 0:\n",
    "    pyautogui.dragRel(distance, 0, button='left', duration=0.2)  # move right\n",
    "    distance = distance - 5\n",
    "    pyautogui.dragRel(0, distance, button='left', duration=0.2)  # move down\n",
    "    pyautogui.dragRel(-distance, 0, button='left', duration=0.2) # move left\n",
    "    distance = distance -5\n",
    "    pyautogui.dragRel(0, -distance, button='left', duration=0.2) # move up"
   ]
  },
  {
   "cell_type": "markdown",
   "metadata": {},
   "source": [
    "### Scrolling the Mouse"
   ]
  },
  {
   "cell_type": "code",
   "execution_count": 49,
   "metadata": {},
   "outputs": [],
   "source": [
    "import pyperclip\n",
    "numbers = ''\n",
    "for i in range(200):\n",
    "    numbers = numbers + str(i) + '\\n'\n",
    "    \n",
    "pyperclip.copy(numbers)\n",
    "time.sleep(5); pyautogui.scroll(100)"
   ]
  },
  {
   "cell_type": "markdown",
   "metadata": {},
   "source": [
    "### Working with the Screen"
   ]
  },
  {
   "cell_type": "code",
   "execution_count": 51,
   "metadata": {},
   "outputs": [],
   "source": [
    "im = pyautogui.screenshot()\n",
    "im.show()"
   ]
  },
  {
   "cell_type": "code",
   "execution_count": 54,
   "metadata": {},
   "outputs": [
    {
     "data": {
      "text/plain": [
       "(24, 24, 25, 255)"
      ]
     },
     "execution_count": 54,
     "metadata": {},
     "output_type": "execute_result"
    }
   ],
   "source": [
    "im.getpixel((0,0))"
   ]
  },
  {
   "cell_type": "code",
   "execution_count": 55,
   "metadata": {},
   "outputs": [
    {
     "data": {
      "text/plain": [
       "(0, 0, 2, 255)"
      ]
     },
     "execution_count": 55,
     "metadata": {},
     "output_type": "execute_result"
    }
   ],
   "source": [
    "im.getpixel((50, 200))"
   ]
  },
  {
   "cell_type": "markdown",
   "metadata": {},
   "source": [
    "### Analyzing the Screenshot"
   ]
  },
  {
   "cell_type": "code",
   "execution_count": 56,
   "metadata": {},
   "outputs": [
    {
     "data": {
      "text/plain": [
       "(0, 0, 2, 255)"
      ]
     },
     "execution_count": 56,
     "metadata": {},
     "output_type": "execute_result"
    }
   ],
   "source": [
    "im = pyautogui.screenshot()\n",
    "im.getpixel((50, 200))"
   ]
  },
  {
   "cell_type": "code",
   "execution_count": 59,
   "metadata": {},
   "outputs": [
    {
     "data": {
      "text/plain": [
       "True"
      ]
     },
     "execution_count": 59,
     "metadata": {},
     "output_type": "execute_result"
    }
   ],
   "source": [
    "pyautogui.pixelMatchesColor(50, 200, (0,0,2, 255))"
   ]
  },
  {
   "cell_type": "code",
   "execution_count": 60,
   "metadata": {},
   "outputs": [
    {
     "data": {
      "text/plain": [
       "False"
      ]
     },
     "execution_count": 60,
     "metadata": {},
     "output_type": "execute_result"
    }
   ],
   "source": [
    "pyautogui.pixelMatchesColor(50, 200, (0,200,2, 255))"
   ]
  },
  {
   "cell_type": "markdown",
   "metadata": {},
   "source": [
    "## Project: Extending the 'where_is_the_mouse.py'"
   ]
  },
  {
   "cell_type": "code",
   "execution_count": 62,
   "metadata": {},
   "outputs": [
    {
     "name": "stdout",
     "output_type": "stream",
     "text": [
      "Press Ctrl-C to quit.\n",
      "\n",
      "Done.\n"
     ]
    }
   ],
   "source": [
    "# %load updated_where_is_the_mouse.py\n",
    "#!/usr/bin/env python3\n",
    "\"\"\"\n",
    "Created on Tue Aug 27 13:21:47 2019\n",
    "\n",
    "@author: Soo Hyeon Kim\n",
    "Displays the mouse cursor's current position and rgba value. \n",
    "\"\"\"\n",
    "\n",
    "import pyautogui, time\n",
    "print(\"Press Ctrl-C to quit.\")\n",
    "\n",
    "# TODO: Get and print th emouse coordinates.\n",
    "try:\n",
    "    while True:\n",
    "        x, y = pyautogui.position()\n",
    "        position_str = 'X: ' + str(x).rjust(4) + ' Y: ' + str(y).rjust(4)\n",
    "        pixel_color = pyautogui.screenshot().getpixel((x,y))\n",
    "        position_str += ' RGB: (' + str(pixel_color[0]).rjust(3)\n",
    "        position_str += ', ' + str(pixel_color[1]).rjust(3)\n",
    "        position_str += ', ' + str(pixel_color[2]).rjust(3) + ')'\n",
    "        print(position_str, end='')\n",
    "        \n",
    "        time.sleep(0.75) \n",
    "        delete = '\\b'*len(position_str)\n",
    "        for d in delete:\n",
    "            print(d, end='', flush=True)\n",
    "        time.sleep(0.25) \n",
    "        \n",
    "except KeyboardInterrupt:\n",
    "    print('\\nDone.')\n",
    "\n"
   ]
  },
  {
   "cell_type": "markdown",
   "metadata": {},
   "source": [
    "### Image Recognition"
   ]
  },
  {
   "cell_type": "code",
   "execution_count": 65,
   "metadata": {},
   "outputs": [
    {
     "data": {
      "text/plain": [
       "Box(left=534, top=298, width=134, height=66)"
      ]
     },
     "execution_count": 65,
     "metadata": {},
     "output_type": "execute_result"
    }
   ],
   "source": [
    "pyautogui.locateOnScreen('save.png')"
   ]
  },
  {
   "cell_type": "code",
   "execution_count": 68,
   "metadata": {},
   "outputs": [],
   "source": [
    "pyautogui.click(pyautogui.center(pyautogui.locateOnScreen('save.png')))"
   ]
  },
  {
   "cell_type": "markdown",
   "metadata": {},
   "source": [
    "## Controlling the Keyboard"
   ]
  },
  {
   "cell_type": "code",
   "execution_count": 73,
   "metadata": {},
   "outputs": [],
   "source": [
    "pyautogui.click(100, 100)\n",
    "pyautogui.typewrite('Hello world!')"
   ]
  },
  {
   "cell_type": "code",
   "execution_count": 74,
   "metadata": {},
   "outputs": [
    {
     "data": {
      "text/plain": [
       "Point(x=-970, y=622)"
      ]
     },
     "execution_count": 74,
     "metadata": {},
     "output_type": "execute_result"
    }
   ],
   "source": [
    "pyautogui.position()"
   ]
  }
 ],
 "metadata": {
  "kernelspec": {
   "display_name": "Python 3",
   "language": "python",
   "name": "python3"
  },
  "language_info": {
   "codemirror_mode": {
    "name": "ipython",
    "version": 3
   },
   "file_extension": ".py",
   "mimetype": "text/x-python",
   "name": "python",
   "nbconvert_exporter": "python",
   "pygments_lexer": "ipython3",
   "version": "3.6.7"
  }
 },
 "nbformat": 4,
 "nbformat_minor": 2
}
