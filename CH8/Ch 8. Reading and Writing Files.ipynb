{
 "cells": [
  {
   "cell_type": "code",
   "execution_count": 1,
   "metadata": {},
   "outputs": [
    {
     "data": {
      "text/plain": [
       "'usr/bin/spam'"
      ]
     },
     "execution_count": 1,
     "metadata": {},
     "output_type": "execute_result"
    }
   ],
   "source": [
    "import os\n",
    "os.path.join('usr', 'bin', 'spam')"
   ]
  },
  {
   "cell_type": "code",
   "execution_count": 2,
   "metadata": {},
   "outputs": [
    {
     "data": {
      "text/plain": [
       "'/Users/soohyeonkim/GoogleDrive/Coding/python_coding/Automate_The_Boring_Stuff_With_Python'"
      ]
     },
     "execution_count": 2,
     "metadata": {},
     "output_type": "execute_result"
    }
   ],
   "source": [
    "os.getcwd() ## current working directory"
   ]
  },
  {
   "cell_type": "code",
   "execution_count": 3,
   "metadata": {},
   "outputs": [],
   "source": [
    "os.makedirs('./testfolder')"
   ]
  },
  {
   "cell_type": "code",
   "execution_count": 4,
   "metadata": {},
   "outputs": [
    {
     "name": "stdout",
     "output_type": "stream",
     "text": [
      "Ch 8. Reading and Writing Files.ipynb flowcontrol.py\r\n",
      "Ch.7 Regex.ipynb                      \u001b[34mtestfolder\u001b[m\u001b[m\r\n"
     ]
    }
   ],
   "source": [
    "!ls"
   ]
  },
  {
   "cell_type": "code",
   "execution_count": 5,
   "metadata": {},
   "outputs": [
    {
     "data": {
      "text/plain": [
       "'Automate_The_Boring_Stuff_With_Python'"
      ]
     },
     "execution_count": 5,
     "metadata": {},
     "output_type": "execute_result"
    }
   ],
   "source": [
    "os.path.basename(os.getcwd())"
   ]
  },
  {
   "cell_type": "code",
   "execution_count": 6,
   "metadata": {},
   "outputs": [
    {
     "data": {
      "text/plain": [
       "'/Users/soohyeonkim/GoogleDrive/Coding/python_coding'"
      ]
     },
     "execution_count": 6,
     "metadata": {},
     "output_type": "execute_result"
    }
   ],
   "source": [
    "os.path.dirname(os.getcwd())"
   ]
  },
  {
   "cell_type": "code",
   "execution_count": 7,
   "metadata": {},
   "outputs": [
    {
     "data": {
      "text/plain": [
       "('/Users/soohyeonkim/GoogleDrive/Coding/python_coding',\n",
       " 'Automate_The_Boring_Stuff_With_Python')"
      ]
     },
     "execution_count": 7,
     "metadata": {},
     "output_type": "execute_result"
    }
   ],
   "source": [
    "os.path.split(os.getcwd())"
   ]
  },
  {
   "cell_type": "code",
   "execution_count": 8,
   "metadata": {},
   "outputs": [
    {
     "data": {
      "text/plain": [
       "'/'"
      ]
     },
     "execution_count": 8,
     "metadata": {},
     "output_type": "execute_result"
    }
   ],
   "source": [
    "os.path.sep"
   ]
  },
  {
   "cell_type": "code",
   "execution_count": 11,
   "metadata": {},
   "outputs": [
    {
     "data": {
      "text/plain": [
       "[\"When, in disgrace with forture and men's eyes,\\n\",\n",
       " 'I all alone beweep my outcast state,\\n',\n",
       " 'And trouble deaf heaven with my bootless cries,\\n',\n",
       " 'And look upon myself and curse my fate, ']"
      ]
     },
     "execution_count": 11,
     "metadata": {},
     "output_type": "execute_result"
    }
   ],
   "source": [
    "sonnetFile = open('sonnet29.txt')\n",
    "sonnetFile.readlines()"
   ]
  },
  {
   "cell_type": "code",
   "execution_count": 14,
   "metadata": {},
   "outputs": [
    {
     "data": {
      "text/plain": [
       "\"When, in disgrace with forture and men's eyes,\\nI all alone beweep my outcast state,\\nAnd trouble deaf heaven with my bootless cries,\\nAnd look upon myself and curse my fate, \""
      ]
     },
     "execution_count": 14,
     "metadata": {},
     "output_type": "execute_result"
    }
   ],
   "source": [
    "sonnetFile = open('sonnet29.txt')\n",
    "sonnetFile.read()"
   ]
  },
  {
   "cell_type": "code",
   "execution_count": 16,
   "metadata": {},
   "outputs": [],
   "source": [
    "import shelve\n",
    "shelfFile = shelve.open('mydata_CH8')\n",
    "cats = ['Zophie', 'Pooka', 'Simon']\n",
    "shelfFile['cats'] = cats"
   ]
  },
  {
   "cell_type": "code",
   "execution_count": null,
   "metadata": {},
   "outputs": [],
   "source": [
    "shelfFile.close()"
   ]
  },
  {
   "cell_type": "code",
   "execution_count": 21,
   "metadata": {},
   "outputs": [
    {
     "data": {
      "text/plain": [
       "(shelve.DbfilenameShelf, {'cats': ['Zophie', 'Pooka', 'Simon']})"
      ]
     },
     "execution_count": 21,
     "metadata": {},
     "output_type": "execute_result"
    }
   ],
   "source": [
    "shelfFile = shelve.open('mydata_CH8')\n",
    "type(shelfFile), dict(shelfFile)"
   ]
  },
  {
   "cell_type": "code",
   "execution_count": 22,
   "metadata": {},
   "outputs": [
    {
     "data": {
      "text/plain": [
       "(['cats'],\n",
       " [['Zophie', 'Pooka', 'Simon']],\n",
       " [('cats', ['Zophie', 'Pooka', 'Simon'])])"
      ]
     },
     "execution_count": 22,
     "metadata": {},
     "output_type": "execute_result"
    }
   ],
   "source": [
    "list(shelfFile.keys()), list(shelfFile.values()), list(shelfFile.items())"
   ]
  },
  {
   "cell_type": "code",
   "execution_count": 44,
   "metadata": {},
   "outputs": [],
   "source": [
    "shelfFile.close()"
   ]
  },
  {
   "cell_type": "code",
   "execution_count": 28,
   "metadata": {},
   "outputs": [
    {
     "data": {
      "text/plain": [
       "\"[{'desc': 'chubby', 'name': 'Zophie'}, {'desc': 'fluffy', 'name': 'Pooka'}]\""
      ]
     },
     "execution_count": 28,
     "metadata": {},
     "output_type": "execute_result"
    }
   ],
   "source": [
    "import pprint\n",
    "cats = [{'name': 'Zophie',\n",
    "         'desc': 'chubby'\n",
    "        },\n",
    "        {'name': 'Pooka',\n",
    "         'desc': 'fluffy'\n",
    "        }]\n",
    "pprint.pformat(cats)"
   ]
  },
  {
   "cell_type": "code",
   "execution_count": 33,
   "metadata": {},
   "outputs": [],
   "source": [
    "fileObj = open('myCats.py', 'w')\n",
    "fileObj.write('cats = ' + pprint.pformat(cats) + '\\n')\n",
    "fileObj.close()"
   ]
  },
  {
   "cell_type": "code",
   "execution_count": 45,
   "metadata": {},
   "outputs": [
    {
     "data": {
      "text/plain": [
       "[{'desc': 'chubby', 'name': 'Zophie'}, {'desc': 'fluffy', 'name': 'Pooka'}]"
      ]
     },
     "execution_count": 45,
     "metadata": {},
     "output_type": "execute_result"
    }
   ],
   "source": [
    "import myCats\n",
    "myCats.cats"
   ]
  },
  {
   "cell_type": "markdown",
   "metadata": {},
   "source": [
    "# Generating Random Quiz - State & Capital"
   ]
  },
  {
   "cell_type": "code",
   "execution_count": 61,
   "metadata": {},
   "outputs": [],
   "source": [
    "import random\n",
    "\n",
    "# The quiz data. Keys are states and values are their capitals.\n",
    "def generate_random_quiz():\n",
    "        capitals ={\n",
    "        'Alabama': 'Montgomery', 'Alaska': 'Juneau', 'Arizona':'Phoenix',\n",
    "        'Arkansas':'Little Rock', 'California': 'Sacramento', 'Colorado':'Denver',\n",
    "        'Connecticut':'Hartford', 'Delaware':'Dover', 'Florida': 'Tallahassee',\n",
    "        'Georgia': 'Atlanta', 'Hawaii': 'Honolulu', 'Idaho': 'Boise',\n",
    "        'Illinios': 'Springfield', 'Indiana': 'Indianapolis', 'Iowa': 'Des Monies',\n",
    "        'Kansas': 'Topeka', 'Kentucky': 'Frankfort', 'Louisiana': 'Baton Rouge',\n",
    "        'Maine': 'Augusta', 'Maryland': 'Annapolis', 'Massachusetts': 'Boston',\n",
    "        'Michigan': 'Lansing', 'Minnesota': 'St. Paul', 'Mississippi': 'Jackson',\n",
    "        'Missouri': 'Jefferson City', 'Montana': 'Helena', 'Nebraska': 'Lincoln',\n",
    "        'Neveda': 'Carson City', 'New Hampshire': 'Concord', 'New Jersey': 'Trenton',\n",
    "        'New Mexico': 'Santa Fe', 'New York': 'Albany', 'North Carolina': 'Raleigh',\n",
    "        'North Dakota': 'Bismarck', 'Ohio': 'Columbus', 'Oklahoma': 'Oklahoma City',\n",
    "        'Oregon': 'Salem', 'Pennsylvania': 'Harrisburg', 'Rhoda Island': 'Providence',\n",
    "        'South Carolina': 'Columbia', 'South Dakoda': 'Pierre', 'Tennessee': 'Nashville',\n",
    "        'Texas': 'Austin', 'Utah': 'Salt Lake City', 'Vermont': 'Montpelier',\n",
    "        'Virginia': 'Richmond', 'Washington': 'Olympia', 'West Virginia': 'Charleston',\n",
    "        'Wisconsin': 'Madison', 'Wyoming': 'Cheyenne'  \n",
    "        }\n",
    "\n",
    "\n",
    "        # Generate 35 quiz files.\n",
    "        for quizNum in range(35):\n",
    "            # Create the quiz and answer key files\n",
    "            quizFile = open('./quizrandom/capitalquiz%s.txt' % (quizNum + 1), 'w')\n",
    "            answerKeyFile = open('./quizrandom/capitalquiz_answers%s.txt' % (quizNum + 1), 'w')\n",
    "\n",
    "            # Write out the header for the quiz.\n",
    "            quizFile.write('Name:\\n\\nDate:\\n\\nPeriod:\\n\\n')\n",
    "            quizFile.write((' ' * 20) + 'State Capital Quiz (Form {})'.format(quizNum + 1))\n",
    "            quizFile.write('\\n\\n')\n",
    "\n",
    "            # Shuffle the order of the states.\n",
    "            states = list(capitals.keys())\n",
    "            random.shuffle(states)\n",
    "\n",
    "            # Loop through all 50 states, making a question for each. \n",
    "            for questionNum in range(50):\n",
    "                # Get right and wrong answers.\n",
    "                correctAnswer = capitals[states[questionNum]]\n",
    "                wrongAnswers = list(capitals.values())\n",
    "                del wrongAnswers[wrongAnswers.index(correctAnswer)]\n",
    "                wrongAnswers = random.sample(wrongAnswers, 3)\n",
    "                answerOptions = wrongAnswers + [correctAnswer]\n",
    "                random.shuffle(answerOptions)\n",
    "\n",
    "                # Write the question and the answer options to the quiz file. \n",
    "                quizFile.write('{}. What is the capital of {}?\\n'.format(questionNum + 1, states[questionNum]))\n",
    "                for i in range(4):\n",
    "                    quizFile.write('    {}. {}\\n'.format('ABCD'[i], answerOptions[i]))\n",
    "                quizFile.write('\\n')\n",
    "\n",
    "                # write the answer key to a file\n",
    "                answerKeyFile.write('{}. {}\\n'.format(questionNum + 1, \n",
    "                                                      'ABCD'[answerOptions.index(correctAnswer)]))\n",
    "            quizFile.close()\n",
    "            answerKeyFile.close()\n",
    "            \n",
    "## RUN ***************************\n",
    "generate_random_quiz()"
   ]
  },
  {
   "cell_type": "markdown",
   "metadata": {},
   "source": [
    "## Multiclipboard"
   ]
  },
  {
   "cell_type": "code",
   "execution_count": 62,
   "metadata": {},
   "outputs": [],
   "source": [
    "#! python3\n",
    "# mcb.pyw - Saves and loads pices of text to the clipboard.\n",
    "# Usage: py.exe mcb.pyw save <keyword> -> Saves clipboard to keyword\n",
    "#        py.exe mcb.pyw <keyword> -> Loads keyword to clipboard\n",
    "#        py.exe mcb.pyw list -> Loads all keywords to clipboard.\n",
    "\n",
    "\n",
    "import shelve, pyperclip, sys\n",
    "mcbShelf = shelve.open('mcb')\n",
    "\n",
    "# Save clipboard content.\n",
    "if len(sys.argv) == 3 and sys.argv[1].lower() == 'save':\n",
    "    mcbShelf[sys.argv[2]] = pyperclip.paste()\n",
    "# list keywords and load content\n",
    "elif len(sys.argv) == 2:\n",
    "    if sys.argv[1].lower() == 'list':\n",
    "        pyperclip.copy(str(list(mcbShelf.keys())))\n",
    "    elif sys.arv[1] in mcbShelf:\n",
    "        pyperclip.copy(mcbShelf[sys.argv[1]])\n",
    "\n",
    "mcbShelf.close()"
   ]
  },
  {
   "cell_type": "code",
   "execution_count": null,
   "metadata": {},
   "outputs": [],
   "source": []
  }
 ],
 "metadata": {
  "kernelspec": {
   "display_name": "Python 3",
   "language": "python",
   "name": "python3"
  },
  "language_info": {
   "codemirror_mode": {
    "name": "ipython",
    "version": 3
   },
   "file_extension": ".py",
   "mimetype": "text/x-python",
   "name": "python",
   "nbconvert_exporter": "python",
   "pygments_lexer": "ipython3",
   "version": "3.6.8"
  }
 },
 "nbformat": 4,
 "nbformat_minor": 2
}
