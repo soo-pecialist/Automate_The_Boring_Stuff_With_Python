{
 "cells": [
  {
   "cell_type": "code",
   "execution_count": 1,
   "metadata": {},
   "outputs": [
    {
     "name": "stdout",
     "output_type": "stream",
     "text": [
      "415-555-4242 is a phone number\n",
      "True\n",
      "Moshi moshi is a phone number\n",
      "False\n"
     ]
    }
   ],
   "source": [
    "def isPhoneNumber(text):\n",
    "    if len(text) != 12:\n",
    "        return False\n",
    "    for i in range(0,3):\n",
    "        if not text[i].isdecimal():\n",
    "            return False\n",
    "    if text[3] != '-':\n",
    "        return False\n",
    "    for i in range(4,7):\n",
    "        if not text[i].isdecimal():\n",
    "            return False\n",
    "    if text[7] != '-':\n",
    "        return False\n",
    "    for i in range(8, 12):\n",
    "        if not text[i].isdecimal():\n",
    "            return False\n",
    "    \n",
    "    return True\n",
    "\n",
    "print('415-555-4242 is a phone number')\n",
    "print(isPhoneNumber('415-555-4242'))\n",
    "print('Moshi moshi is a phone number')\n",
    "print(isPhoneNumber('Moshi moshi'))"
   ]
  },
  {
   "cell_type": "code",
   "execution_count": 2,
   "metadata": {},
   "outputs": [
    {
     "name": "stdout",
     "output_type": "stream",
     "text": [
      "Phone number found: 415-555-1011\n",
      "Phone number found: 415-555-9999\n",
      "Done\n"
     ]
    }
   ],
   "source": [
    "message = 'Call me at 415-555-1011 tomorrow, 415-555-9999 is my office'\n",
    "\n",
    "for i in range(len(message)):\n",
    "    chunk = message[i:i+12]\n",
    "    if isPhoneNumber(chunk):\n",
    "        print('Phone number found:', chunk)\n",
    "print('Done')"
   ]
  },
  {
   "cell_type": "code",
   "execution_count": 3,
   "metadata": {},
   "outputs": [],
   "source": [
    "import re\n",
    "\n",
    "phoneNumRegex = re.compile(r'\\d\\d\\d-\\d\\d\\d-\\d\\d\\d\\d')\n",
    "mo = phoneNumRegex.match('My number is 415-555-4242 and 415-555-1011')\n",
    "# print('Phone number found: ' + mo.groups())"
   ]
  },
  {
   "cell_type": "code",
   "execution_count": 4,
   "metadata": {},
   "outputs": [
    {
     "data": {
      "text/plain": [
       "'1000'"
      ]
     },
     "execution_count": 4,
     "metadata": {},
     "output_type": "execute_result"
    }
   ],
   "source": [
    "text = '100 in 1000 dollars'\n",
    "re.search(r'\\d+(?= dollars)', text).group()"
   ]
  },
  {
   "cell_type": "code",
   "execution_count": 5,
   "metadata": {},
   "outputs": [
    {
     "data": {
      "text/plain": [
       "'1000'"
      ]
     },
     "execution_count": 5,
     "metadata": {},
     "output_type": "execute_result"
    }
   ],
   "source": [
    "re.search(r'(?=\\d+ dollars)\\d+', text).group()"
   ]
  },
  {
   "cell_type": "code",
   "execution_count": 6,
   "metadata": {},
   "outputs": [
    {
     "data": {
      "text/plain": [
       "'100'"
      ]
     },
     "execution_count": 6,
     "metadata": {},
     "output_type": "execute_result"
    }
   ],
   "source": [
    "re.search(r'(?!\\d+ dollars)\\d+', text).group()"
   ]
  },
  {
   "cell_type": "code",
   "execution_count": 7,
   "metadata": {},
   "outputs": [
    {
     "data": {
      "text/plain": [
       "'1000'"
      ]
     },
     "execution_count": 7,
     "metadata": {},
     "output_type": "execute_result"
    }
   ],
   "source": [
    "re.search(r'(?<=in )\\d+', text).group()"
   ]
  },
  {
   "cell_type": "code",
   "execution_count": 8,
   "metadata": {},
   "outputs": [],
   "source": [
    "text = '100 in 1000'\n",
    "re.search(r'\\d+ (?<=in\\d{4})', text)"
   ]
  },
  {
   "cell_type": "code",
   "execution_count": 9,
   "metadata": {},
   "outputs": [
    {
     "data": {
      "text/plain": [
       "['Chloe']"
      ]
     },
     "execution_count": 9,
     "metadata": {},
     "output_type": "execute_result"
    }
   ],
   "source": [
    "re.findall(r'(Bob|Chloe)\\d\\d', 'Chloe44')"
   ]
  },
  {
   "cell_type": "code",
   "execution_count": 10,
   "metadata": {},
   "outputs": [
    {
     "data": {
      "text/plain": [
       "['pple', 'nt']"
      ]
     },
     "execution_count": 10,
     "metadata": {},
     "output_type": "execute_result"
    }
   ],
   "source": [
    "re.findall(r'A(nt|pple)', 'AppleAnt')"
   ]
  },
  {
   "cell_type": "code",
   "execution_count": 11,
   "metadata": {},
   "outputs": [
    {
     "data": {
      "text/plain": [
       "('bbabbbabbbb',)"
      ]
     },
     "execution_count": 11,
     "metadata": {},
     "output_type": "execute_result"
    }
   ],
   "source": [
    "re.search(r'(.*|b*)[ac]', 'bbabbbabbbbc').groups()"
   ]
  },
  {
   "cell_type": "code",
   "execution_count": 12,
   "metadata": {},
   "outputs": [
    {
     "data": {
      "text/plain": [
       "['Batman', 'Tina Fey']"
      ]
     },
     "execution_count": 12,
     "metadata": {},
     "output_type": "execute_result"
    }
   ],
   "source": [
    "heroRegex = re.compile(r'Batman|Tina Fey')\n",
    "heroRegex.findall('Batman and Tina Fey.')"
   ]
  },
  {
   "cell_type": "code",
   "execution_count": 13,
   "metadata": {},
   "outputs": [],
   "source": [
    "haRegex = re.compile(r'(Ha){3}')\n",
    "mo1 = haRegex.search('HaHaHa')"
   ]
  },
  {
   "cell_type": "code",
   "execution_count": 14,
   "metadata": {},
   "outputs": [
    {
     "data": {
      "text/plain": [
       "'HaHaHa'"
      ]
     },
     "execution_count": 14,
     "metadata": {},
     "output_type": "execute_result"
    }
   ],
   "source": [
    "mo1.group()"
   ]
  },
  {
   "cell_type": "markdown",
   "metadata": {},
   "source": [
    "# Phone number & Email extractor"
   ]
  },
  {
   "cell_type": "code",
   "execution_count": 15,
   "metadata": {},
   "outputs": [],
   "source": [
    "import pyperclip, re\n",
    "\n",
    "# phoneRegex = re.compile(r'''\n",
    "#                         (?:(\\d{3})|\\((\\d{3})\\))?               # area code (optional)\n",
    "#                         (?:\\s|-|\\.)?                       # seperator\n",
    "#                         (\\d{3})                          # first 3 digits\n",
    "#                         (?:\\s|-|\\.)                        # seperator\n",
    "#                         (\\d{4})                          # last 4 digits\n",
    "#                         (\\s*(ext|x|ext.)?\\s*(\\d{2,5}))?  # extension\n",
    "#                         ''', re.X)\n",
    "\n",
    "phoneRegex = re.compile(r'''(\n",
    "                        (\\d{3}|\\(\\d{3}\\))?               # area code (optional)\n",
    "                        (\\s|-|\\.)?                       # seperator\n",
    "                        (\\d{3})                          # first 3 digits\n",
    "                        (\\s|-|\\.)                        # seperator\n",
    "                        (\\d{4})                          # last 4 digits\n",
    "                        (\\s*(ext|x|ext.)?\\s*(\\d{2,5}))?  # extension\n",
    "                        )''', re.X)"
   ]
  },
  {
   "cell_type": "code",
   "execution_count": 16,
   "metadata": {},
   "outputs": [],
   "source": [
    "# testphone = '(209) 293.1293 ext 5293'\n",
    "# phoneRegex.search(testphone).groups()"
   ]
  },
  {
   "cell_type": "code",
   "execution_count": 17,
   "metadata": {},
   "outputs": [
    {
     "data": {
      "text/plain": [
       "'(209) 293.1293 ext 5293'"
      ]
     },
     "execution_count": 17,
     "metadata": {},
     "output_type": "execute_result"
    }
   ],
   "source": [
    "testphone = '(209) 293.1293 ext 5293'\n",
    "phoneRegex.search(testphone).group()"
   ]
  },
  {
   "cell_type": "code",
   "execution_count": 18,
   "metadata": {},
   "outputs": [
    {
     "data": {
      "text/plain": [
       "[('(209) 293.1293 ext 5293',\n",
       "  '(209)',\n",
       "  ' ',\n",
       "  '293',\n",
       "  '.',\n",
       "  '1293',\n",
       "  ' ext 5293',\n",
       "  'ext',\n",
       "  '5293')]"
      ]
     },
     "execution_count": 18,
     "metadata": {},
     "output_type": "execute_result"
    }
   ],
   "source": [
    "phoneRegex.findall(testphone)"
   ]
  },
  {
   "cell_type": "code",
   "execution_count": 19,
   "metadata": {},
   "outputs": [],
   "source": [
    "# create email regex\n",
    "emailRegex = re.compile(r\"\"\"(\n",
    "        [a-zA-Z0-9._%+-]+           # username\n",
    "        @                           # @ symbol\n",
    "        [a-zA-Z0-9.-]+              # domain name\n",
    "        (\\.[a-zA-Z]{2,4})           # dot-something\n",
    "        )\"\"\", re.VERBOSE)"
   ]
  },
  {
   "cell_type": "code",
   "execution_count": 20,
   "metadata": {},
   "outputs": [
    {
     "data": {
      "text/plain": [
       "('test_trythis@letssee.com', '.com')"
      ]
     },
     "execution_count": 20,
     "metadata": {},
     "output_type": "execute_result"
    }
   ],
   "source": [
    "testemail = 'test_trythis@letssee.com catchthis'\n",
    "emailRegex.search(testemail).groups()"
   ]
  },
  {
   "cell_type": "code",
   "execution_count": 21,
   "metadata": {},
   "outputs": [
    {
     "data": {
      "text/plain": [
       "[('test_trythis@letssee.com', '.com')]"
      ]
     },
     "execution_count": 21,
     "metadata": {},
     "output_type": "execute_result"
    }
   ],
   "source": [
    "emailRegex.findall(testemail)"
   ]
  },
  {
   "cell_type": "code",
   "execution_count": 22,
   "metadata": {},
   "outputs": [],
   "source": [
    "# find matches in clipboard text.\n",
    "\n",
    "text = str(pyperclip.paste())\n",
    "\n",
    "matches = []\n",
    "for groups in phoneRegex.findall(text):\n",
    "    phoneNum = '-'.join([groups[1], groups[3], groups[5]])\n",
    "    if groups[8] != '':\n",
    "        phoneNum += ' x' + groups[8]\n",
    "    matches.append(phoneNum)\n",
    "\n",
    "for groups in emailRegex.findall(text):\n",
    "    matches.append(groups[0])"
   ]
  },
  {
   "cell_type": "code",
   "execution_count": 23,
   "metadata": {},
   "outputs": [
    {
     "name": "stdout",
     "output_type": "stream",
     "text": [
      "Copied to clipboard:\n",
      "800-420-7240 x293\n",
      "415-863-9900\n",
      "415-863-9950\n",
      "info@nostarch.com\n",
      "media@nostarch.com\n",
      "academic@nostarch.com\n",
      "info@nostarch.com\n"
     ]
    }
   ],
   "source": [
    "# Copy results to the clipboard\n",
    "if len(matches) > 0:\n",
    "    pyperclip.copy('\\n'.join(matches))\n",
    "    print('Copied to clipboard:')\n",
    "    print('\\n'.join(matches))\n",
    "else:\n",
    "    print('No phone numbers or email addresses found.')"
   ]
  },
  {
   "cell_type": "code",
   "execution_count": 24,
   "metadata": {},
   "outputs": [],
   "source": [
    "## combine and make function\n",
    "def Extractor():\n",
    "    phoneRegex = re.compile(r'''(\n",
    "                        (\\d{3}|\\(\\d{3}\\))?               # area code (optional)\n",
    "                        (\\s|-|\\.)?                       # seperator\n",
    "                        (\\d{3})                          # first 3 digits\n",
    "                        (\\s|-|\\.)                        # seperator\n",
    "                        (\\d{4})                          # last 4 digits\n",
    "                        (\\s*(ext|x|ext.)?\\s*(\\d{2,5}))?  # extension\n",
    "                        )''', re.X)\n",
    "    # create email regex\n",
    "    emailRegex = re.compile(r\"\"\"(\n",
    "            [a-zA-Z0-9._%+-]+           # username\n",
    "            @                           # @ symbol\n",
    "            [a-zA-Z0-9.-]+              # domain name\n",
    "            (\\.[a-zA-Z]{2,4})           # dot-something\n",
    "            )\"\"\", re.VERBOSE)\n",
    "    \n",
    "    # find matches in clipboard text.\n",
    "\n",
    "    text = str(pyperclip.paste())\n",
    "\n",
    "    matches = []\n",
    "#     print(phoneRegex.findall(text))\n",
    "    for groups in phoneRegex.findall(text):\n",
    "        phoneNum = '-'.join([groups[1], groups[3], groups[5]])\n",
    "        if groups[8] != '':\n",
    "            phoneNum += ' x' + groups[8]\n",
    "        matches.append(phoneNum)\n",
    "    \n",
    "#     print(emailRegex.findall(text))\n",
    "    for groups in emailRegex.findall(text):\n",
    "        matches.append(groups[0])\n",
    "        \n",
    "    # Copy results to the clipboard\n",
    "    if len(matches) > 0:\n",
    "        pyperclip.copy('\\n'.join(matches))\n",
    "        print('Copied to clipboard:')\n",
    "        print('\\n'.join(matches))\n",
    "    else:\n",
    "        print('No phone numbers or email addresses found.')"
   ]
  },
  {
   "cell_type": "code",
   "execution_count": 31,
   "metadata": {},
   "outputs": [
    {
     "name": "stdout",
     "output_type": "stream",
     "text": [
      "Copied to clipboard:\n",
      "800-420-7240 x293\n",
      "415-863-9900\n",
      "415-863-9950\n",
      "info@nostarch.com\n",
      "media@nostarch.com\n",
      "academic@nostarch.com\n",
      "info@nostarch.com\n"
     ]
    }
   ],
   "source": [
    "## copy below contents\n",
    "\"\"\"\n",
    "Contact Us\n",
    "\n",
    "No Starch Press, Inc.\n",
    "245 8th Street\n",
    "San Francisco, CA 94103 USA\n",
    "Phone: 800.420.7240 ext 293 or +1 415.863.9900 (9 a.m. to 5 p.m., M-F, PST)\n",
    "Fax: +1 415.863.9950\n",
    "\n",
    "Reach Us by Email\n",
    "\n",
    "General inquiries: info@nostarch.com\n",
    "Media requests: media@nostarch.com\n",
    "Academic requests: academic@nostarch.com (Please see this page for academic review requests)\n",
    "Help with your order: info@nostarch.com\n",
    "Reach Us on Social Media\n",
    "Twitter\n",
    "Facebook\n",
    "Instagram\n",
    "Pinterest\n",
    "\"\"\"\n",
    "\n",
    "Extractor()"
   ]
  },
  {
   "cell_type": "markdown",
   "metadata": {},
   "source": [
    "### just playing with it"
   ]
  },
  {
   "cell_type": "code",
   "execution_count": 26,
   "metadata": {},
   "outputs": [],
   "source": [
    "pattern = r\"\"\"(\n",
    "               [\\d]{1,4}\n",
    "               [/-_.]+\n",
    "               [\\d]{,2}\n",
    "               [/-_.]+\n",
    "               [\\d]{1,4}\n",
    "               )\"\"\"\n",
    "\n",
    "testdates = ['3/14/2015', '03-14-2015', '2015/3/14']\n",
    "\n",
    "# subpattern = r\"\"\"\n",
    "#                    [\\d]{1,4}\n",
    "#                    ([/-_.]+)\n",
    "#                    [\\d]{,2}\n",
    "#                    ([/-_.]+)\n",
    "#                    [\\d]{1,4}\n",
    "#                   \"\"\"\n",
    "\n",
    "subpattern = r'[-/.]'"
   ]
  },
  {
   "cell_type": "code",
   "execution_count": 27,
   "metadata": {},
   "outputs": [
    {
     "data": {
      "text/plain": [
       "('3/14/2015', '3/14/2015', '3-14-2015')"
      ]
     },
     "execution_count": 27,
     "metadata": {},
     "output_type": "execute_result"
    }
   ],
   "source": [
    "testdates[0], re.findall(pattern, testdates[0], re.X)[0], re.sub(subpattern, '-', testdates[0], re.X)"
   ]
  },
  {
   "cell_type": "code",
   "execution_count": 28,
   "metadata": {},
   "outputs": [
    {
     "name": "stdout",
     "output_type": "stream",
     "text": [
      "3/14/2015 -> 3/14/2015 -> 3-14-2015\n",
      "03-14-2015 -> 2015 -> 03-14-2015\n",
      "2015/3/14 -> 2015/3/14 -> 2015-3-14\n"
     ]
    }
   ],
   "source": [
    "for elem in testdates:\n",
    "    print(elem, re.findall(pattern, elem, re.X)[0], re.sub(subpattern, '-', elem, re.X), sep=\" -> \")"
   ]
  },
  {
   "cell_type": "markdown",
   "metadata": {},
   "source": [
    "# Practice projects\n",
    "\n",
    "## 1. Strong Password detection\n",
    "- at least 8 characters long\n",
    "- contains both uppercase and lowercase characters\n",
    "- at least one digit"
   ]
  },
  {
   "cell_type": "code",
   "execution_count": 29,
   "metadata": {},
   "outputs": [
    {
     "name": "stdout",
     "output_type": "stream",
     "text": [
      "Askej#32!dks is a strong password\n",
      "Askej2 is NOT a strong password b/c shorter than 8 characters\n",
      "asdfskej2 is NOT a strong password b/c no uppercase\n",
      "ASBSKE3B# is NOT a strong password b/c no lowercase\n",
      "@#S%!@#%^^^!@ is NOT a strong password b/c no lowercase\n",
      "AbAsefjekSF is NOT a strong password b/c no number\n"
     ]
    }
   ],
   "source": [
    "def isStrongPassword(pw):\n",
    "    # need regex to capture capital, lowercase, digit\n",
    "    cap_regex = re.compile(r\"[A-Z]\")\n",
    "    lower_regex = re.compile(r\"[a-z]\")\n",
    "    digit_regex = re.compile(r\"[\\d]\")\n",
    "\n",
    "    # make parameters to check if the password meets the standards for strong \n",
    "    n_all = len(pw)\n",
    "    n_cap = len(cap_regex.findall(pw))\n",
    "    n_low = len(lower_regex.findall(pw))\n",
    "    n_dit = len(digit_regex.findall(pw))\n",
    "    \n",
    "    # do check\n",
    "    result = False\n",
    "    \n",
    "    if n_all >= 8:                     # at least 8 length\n",
    "        if n_cap:                  # at least 1 uppercase\n",
    "            if n_low:              # at least 1 lowercase\n",
    "                if n_dit:          # at least 1 number\n",
    "                    print(\"{} is a strong password\".format(pw))\n",
    "                    result = True      # then it is strong password\n",
    "                else:\n",
    "                    print(\"{} is NOT a strong password b/c no number\".format(pw))\n",
    "            else:\n",
    "                print(\"{} is NOT a strong password b/c no lowercase\".format(pw))\n",
    "        else:\n",
    "            print(\"{} is NOT a strong password b/c no uppercase\".format(pw))\n",
    "    else:\n",
    "        print(\"{} is NOT a strong password b/c shorter than 8 characters\".format(pw))\n",
    "        \n",
    "    \n",
    "    return result\n",
    "\n",
    "## TEST **************************\n",
    "testpws = [\"Askej#32!dks\", \"Askej2\", \"asdfskej2\", \"ASBSKE3B#\", \"@#S%!@#%^^^!@\", \"AbAsefjekSF\"]\n",
    "\n",
    "for elem in testpws:\n",
    "    isStrongPassword(elem)"
   ]
  },
  {
   "cell_type": "markdown",
   "metadata": {},
   "source": [
    "## Regex Version of strip()\n",
    "** The strip() removes characters from both left and right based on the argument (a string specifying the set of characters to be removed).If the argument is not provided, all leading and trailing whitespaces are removed from the string.\n",
    "\n",
    "\n"
   ]
  },
  {
   "cell_type": "code",
   "execution_count": 30,
   "metadata": {},
   "outputs": [
    {
     "name": "stdout",
     "output_type": "stream",
     "text": [
      "re_strip(string, arg) //vs// string.strip(arg)\n",
      "xoxo love xoxo  //vs//  xoxo love xoxo\n",
      "lov  //vs//  lov\n",
      "ndroid is awesom  //vs//  ndroid is awesom\n",
      "xampl  //vs//  xampl\n"
     ]
    }
   ],
   "source": [
    "def re_strip(string, arg=None):\n",
    "    regex = \"\"\n",
    "    if not arg:\n",
    "        regex = re.compile(r\"^[\\s]*|[\\s]*$\")\n",
    "    else:\n",
    "        regex = re.compile(\"^[\"+\"\".join(set(arg))+\"]*|[\"+\"\".join(set(arg))+\"]*$\")\n",
    "        # \"^[arg]*|[arg]*$\"\n",
    "    \n",
    "    clean_string = regex.sub(\"\", string)\n",
    "#     print(regex.findall(string))\n",
    "    \n",
    "    return clean_string\n",
    "\n",
    "## TEST **************\n",
    "print('re_strip(string, arg) //vs// string.strip(arg)')\n",
    "string = ' xoxo love xoxo   '\n",
    "print(re_strip(string),' //vs// ', string.strip())\n",
    "print(re_strip(string, ' xoxoe'), ' //vs// ', string.strip(' xoxoe'))\n",
    "\n",
    "string = 'android is awesome'\n",
    "print(re_strip(string, 'eaee'), ' //vs// ', string.strip('eaee'))\n",
    "\n",
    "string = 'www.example.com'\n",
    "print(re_strip(string, 'camowze.'), ' //vs// ', string.strip('camowze.'))"
   ]
  },
  {
   "cell_type": "code",
   "execution_count": null,
   "metadata": {},
   "outputs": [],
   "source": []
  }
 ],
 "metadata": {
  "kernelspec": {
   "display_name": "Python 3",
   "language": "python",
   "name": "python3"
  },
  "language_info": {
   "codemirror_mode": {
    "name": "ipython",
    "version": 3
   },
   "file_extension": ".py",
   "mimetype": "text/x-python",
   "name": "python",
   "nbconvert_exporter": "python",
   "pygments_lexer": "ipython3",
   "version": "3.6.8"
  }
 },
 "nbformat": 4,
 "nbformat_minor": 2
}
