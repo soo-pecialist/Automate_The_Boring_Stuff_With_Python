{
 "cells": [
  {
   "cell_type": "code",
   "execution_count": 1,
   "metadata": {},
   "outputs": [],
   "source": [
    "import smtplib"
   ]
  },
  {
   "cell_type": "code",
   "execution_count": 4,
   "metadata": {},
   "outputs": [],
   "source": [
    "smtp_obj = smtplib.SMTP('smtp.gmail.com', 587)"
   ]
  },
  {
   "cell_type": "code",
   "execution_count": 8,
   "metadata": {},
   "outputs": [
    {
     "data": {
      "text/plain": [
       "smtplib.SMTP"
      ]
     },
     "execution_count": 8,
     "metadata": {},
     "output_type": "execute_result"
    }
   ],
   "source": [
    "type(smtp_obj)"
   ]
  },
  {
   "cell_type": "markdown",
   "metadata": {},
   "source": [
    "## Sending the SMTP \"Hello\" Message"
   ]
  },
  {
   "cell_type": "code",
   "execution_count": 9,
   "metadata": {},
   "outputs": [
    {
     "data": {
      "text/plain": [
       "(250,\n",
       " b'smtp.gmail.com at your service, [2601:c6:c880:b98:4ca5:a687:8746:7b03]\\nSIZE 35882577\\n8BITMIME\\nSTARTTLS\\nENHANCEDSTATUSCODES\\nPIPELINING\\nCHUNKING\\nSMTPUTF8')"
      ]
     },
     "execution_count": 9,
     "metadata": {},
     "output_type": "execute_result"
    }
   ],
   "source": [
    "smtp_obj.ehlo()"
   ]
  },
  {
   "cell_type": "markdown",
   "metadata": {},
   "source": [
    "## Starting TLS Encryption"
   ]
  },
  {
   "cell_type": "code",
   "execution_count": 10,
   "metadata": {},
   "outputs": [
    {
     "data": {
      "text/plain": [
       "(220, b'2.0.0 Ready to start TLS')"
      ]
     },
     "execution_count": 10,
     "metadata": {},
     "output_type": "execute_result"
    }
   ],
   "source": [
    "smtp_obj.starttls()"
   ]
  },
  {
   "cell_type": "markdown",
   "metadata": {},
   "source": [
    "## Logging in to the SMTP server"
   ]
  },
  {
   "cell_type": "code",
   "execution_count": 24,
   "metadata": {},
   "outputs": [
    {
     "name": "stdout",
     "output_type": "stream",
     "text": [
      "(235, b'2.7.0 Accepted')\n"
     ]
    }
   ],
   "source": [
    "## Doesn't work with Gmail without changing security setting on your gmail account.\n",
    "account = input(\"What's your account?\")\n",
    "pw = input(\"What's your password? \")\n",
    "smtp_obj.login(account, pw)\n",
    "print(\"(235, b'2.7.0 Accepted')\")"
   ]
  },
  {
   "cell_type": "markdown",
   "metadata": {},
   "source": [
    "## Sending an Email"
   ]
  },
  {
   "cell_type": "code",
   "execution_count": 27,
   "metadata": {},
   "outputs": [
    {
     "name": "stdout",
     "output_type": "stream",
     "text": [
      "{}\n"
     ]
    }
   ],
   "source": [
    "smtp_obj.sendmail(account, 'recipient@gmail.com', 'Subject: So long.\\n Hi, so long and thanks for the help. Bye' )"
   ]
  },
  {
   "cell_type": "markdown",
   "metadata": {},
   "source": [
    "## Disconnecting from the SMTP Server"
   ]
  },
  {
   "cell_type": "code",
   "execution_count": 28,
   "metadata": {},
   "outputs": [
    {
     "data": {
      "text/plain": [
       "(221, b'2.0.0 closing connection q81sm2327884ywc.24 - gsmtp')"
      ]
     },
     "execution_count": 28,
     "metadata": {},
     "output_type": "execute_result"
    }
   ],
   "source": [
    "smtp_obj.quit()"
   ]
  },
  {
   "cell_type": "markdown",
   "metadata": {},
   "source": [
    "## Retrieving and Deleting Emails with IMAP"
   ]
  },
  {
   "cell_type": "code",
   "execution_count": 29,
   "metadata": {},
   "outputs": [],
   "source": [
    "import imapclient\n",
    "imap_obj = imapclient.IMAPClient('imap.gmail.com', ssl=True)"
   ]
  },
  {
   "cell_type": "code",
   "execution_count": 31,
   "metadata": {},
   "outputs": [
    {
     "name": "stdout",
     "output_type": "stream",
     "text": [
      "b'myaccount@gmail.com authenticated (Success)'\n"
     ]
    }
   ],
   "source": [
    "account = input(\"What's your account?\")\n",
    "pw = input(\"What's your password? \")\n",
    "imap_obj.login(account, pw)"
   ]
  },
  {
   "cell_type": "code",
   "execution_count": 32,
   "metadata": {},
   "outputs": [
    {
     "data": {
      "text/plain": [
       "{b'PERMANENTFLAGS': (),\n",
       " b'FLAGS': (b'\\\\Answered',\n",
       "  b'\\\\Flagged',\n",
       "  b'\\\\Draft',\n",
       "  b'\\\\Deleted',\n",
       "  b'\\\\Seen',\n",
       "  b'$Forwarded',\n",
       "  b'$Junk',\n",
       "  b'$NotJunk',\n",
       "  b'$NotPhishing',\n",
       "  b'$Phishing',\n",
       "  b'JunkRecorded',\n",
       "  b'NotJunk'),\n",
       " b'UIDVALIDITY': 651809638,\n",
       " b'EXISTS': 4203,\n",
       " b'RECENT': 0,\n",
       " b'UIDNEXT': 53894,\n",
       " b'HIGHESTMODSEQ': 6530034,\n",
       " b'READ-ONLY': [b'']}"
      ]
     },
     "execution_count": 32,
     "metadata": {},
     "output_type": "execute_result"
    }
   ],
   "source": [
    "imap_obj.select_folder('INBOX', readonly=True)"
   ]
  },
  {
   "cell_type": "markdown",
   "metadata": {},
   "source": [
    "## Project: Sending Member Dues Reminder Emails"
   ]
  },
  {
   "cell_type": "code",
   "execution_count": 35,
   "metadata": {},
   "outputs": [],
   "source": [
    "# %load reminder_emails.py\n",
    "#!/usr/bin/env python3\n",
    "\"\"\"\n",
    "Created on Mon Aug 26 11:54:22 2019\n",
    "\n",
    "@author: Soo Hyeon Kim\n",
    "- Read data from an Excel spreadsheet\n",
    "- Find all members who have not paid dues for the latest month\n",
    "- Find their email addresses and send them personalized reminders\n",
    "\"\"\"\n",
    "\n",
    "import openpyxl, smtplib, sys\n",
    "\n",
    "wb = openpyxl.load_workbook('duesRecords.xlsx')\n",
    "sheet = wb['Sheet1']\n",
    "\n",
    "last_col = sheet.max_column\n",
    "latest_month = sheet.cell(row=1, column=last_col).value\n",
    "\n",
    "# TODO: Check each member's payment status\n",
    "unpaid_members = {}\n",
    "for r in range(2, sheet.max_row+1):\n",
    "    payment = sheet.cell(row=r, column=last_col).value\n",
    "    if payment != 'paid':\n",
    "        name = sheet.cell(row=r, column=1).value\n",
    "        email = sheet.cell(row=r, column=2).value\n",
    "        unpaid_members[name] = email\n",
    "\n",
    "# TODO: Log in to email account.\n",
    "smtp_obj = smtplib('smtp.gmail.com', 587)\n",
    "smtplib.ehlo()\n",
    "smtp_obj.starttls()\n",
    "smtp_obj.login('my_email_address@gmail.com', sys.argv[1])\n",
    "\n",
    "# TODO: Send out reminder emails.\n",
    "for name, email in unpaid_members.items():\n",
    "    body = \"Subject: %s dues unpaid. \\nDear %s, \\n Records show that you have not paid dues for %s. Please make this payment as soon as possible. Thank you!\" % (latest_month, name, latest_month)\n",
    "    print('Sending email to {} ...'.format(email))\n",
    "    send_mail_status = smtp_obj.sendmail('my_email_address@gmail.com', email, body)\n",
    "    \n",
    "    if send_mail_status != {}:\n",
    "        print('There was a problem sending email to {}: {}'.format(email, send_mail_status))\n",
    "\n",
    "smtp_obj.quit()"
   ]
  },
  {
   "cell_type": "markdown",
   "metadata": {},
   "source": [
    "# Sending Text Messages with Twilio\n",
    "\n",
    "## Sending Text Messages"
   ]
  },
  {
   "cell_type": "code",
   "execution_count": 51,
   "metadata": {},
   "outputs": [
    {
     "name": "stdout",
     "output_type": "stream",
     "text": [
      "SMc38af9ae9f6f4678acc87f4bcebeb17b\n"
     ]
    }
   ],
   "source": [
    "import re\n",
    "from twilio.rest import Client\n",
    "\n",
    "account_sid = 'AC3379113d9452dccd0ac68e4d2420d6f2'\n",
    "auth_token = '976c949023bc60b8bdc7eee6fbb12545'\n",
    "twilio_client = Client(account_sid, auth_token)\n",
    "my_twilio_number = '+xxxxxxxxxxx'\n",
    "my_cell_phone = '+xxxxxxxxxxx'\n",
    "\n",
    "body_message = 'Hi, This is Sean. \\\n",
    "                I am sending this message from my coding program. \\\n",
    "                I just want to message you that \"GOOD LUCK\"'\n",
    "\n",
    "body_message = re.sub(\"[\\s]+\", \" \", body_message)\n",
    "body_message\n",
    "\n",
    "\n",
    "message = twilio_client.messages.create(body=body_message, from_=my_twilio_number, \\\n",
    "                                       to=my_cell_phone)\n",
    "\n",
    "print(message.sid)"
   ]
  },
  {
   "cell_type": "code",
   "execution_count": 59,
   "metadata": {},
   "outputs": [],
   "source": [
    "message.to"
   ]
  },
  {
   "cell_type": "code",
   "execution_count": 60,
   "metadata": {},
   "outputs": [],
   "source": [
    "message.from_"
   ]
  },
  {
   "cell_type": "code",
   "execution_count": 52,
   "metadata": {},
   "outputs": [
    {
     "data": {
      "text/plain": [
       "'queued'"
      ]
     },
     "execution_count": 52,
     "metadata": {},
     "output_type": "execute_result"
    }
   ],
   "source": [
    "message.status"
   ]
  },
  {
   "cell_type": "code",
   "execution_count": 53,
   "metadata": {},
   "outputs": [
    {
     "data": {
      "text/plain": [
       "datetime.datetime(2019, 8, 26, 16, 52, 23, tzinfo=<UTC>)"
      ]
     },
     "execution_count": 53,
     "metadata": {},
     "output_type": "execute_result"
    }
   ],
   "source": [
    "message.date_created"
   ]
  },
  {
   "cell_type": "code",
   "execution_count": 54,
   "metadata": {},
   "outputs": [
    {
     "data": {
      "text/plain": [
       "True"
      ]
     },
     "execution_count": 54,
     "metadata": {},
     "output_type": "execute_result"
    }
   ],
   "source": [
    "message.date_sent == None"
   ]
  },
  {
   "cell_type": "markdown",
   "metadata": {},
   "source": [
    "## Project: \"Just Text Me\" Module"
   ]
  },
  {
   "cell_type": "code",
   "execution_count": 1,
   "metadata": {},
   "outputs": [],
   "source": [
    "import text_myself"
   ]
  },
  {
   "cell_type": "code",
   "execution_count": 2,
   "metadata": {},
   "outputs": [],
   "source": [
    "text_myself.text_myself('The boring task is finished')"
   ]
  },
  {
   "cell_type": "code",
   "execution_count": 4,
   "metadata": {},
   "outputs": [],
   "source": [
    "# # %load text_myself.py\n",
    "# #!/usr/bin/env python3\n",
    "# \"\"\"\n",
    "# Created on Mon Aug 26 12:57:13 2019\n",
    "\n",
    "# @author: Soo Hyeon Kim\n",
    "# \"\"\"\n",
    "\n",
    "# # Preset Values:\n",
    "# account_sid = 'Axxxxxxxxxxxxxxxxxxxxxxxxxxxxxxxxx'\n",
    "# auth_token = '9xxxxxxxxxxxxxxxxxxxxxxxxxxxxxx5'\n",
    "# my_number = '+1xxxxxxxxxx'\n",
    "# twilio_number = '+16784986617'\n",
    "\n",
    "# from twilio.rest import Client\n",
    "\n",
    "# def text_myself(message):\n",
    "#     twilio_client = Client(account_sid, auth_token)\n",
    "#     twilio_client.messages.create(body=message, from_=twilio_number, to=my_number)"
   ]
  },
  {
   "cell_type": "code",
   "execution_count": null,
   "metadata": {},
   "outputs": [],
   "source": []
  }
 ],
 "metadata": {
  "kernelspec": {
   "display_name": "Python 3",
   "language": "python",
   "name": "python3"
  },
  "language_info": {
   "codemirror_mode": {
    "name": "ipython",
    "version": 3
   },
   "file_extension": ".py",
   "mimetype": "text/x-python",
   "name": "python",
   "nbconvert_exporter": "python",
   "pygments_lexer": "ipython3",
   "version": "3.6.7"
  }
 },
 "nbformat": 4,
 "nbformat_minor": 2
}
