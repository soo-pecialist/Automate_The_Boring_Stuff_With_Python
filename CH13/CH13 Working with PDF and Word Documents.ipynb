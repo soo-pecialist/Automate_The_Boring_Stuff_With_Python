{
 "cells": [
  {
   "cell_type": "markdown",
   "metadata": {},
   "source": [
    "### Extracting Text From Pdfs"
   ]
  },
  {
   "cell_type": "code",
   "execution_count": 7,
   "metadata": {},
   "outputs": [
    {
     "data": {
      "text/plain": [
       "19"
      ]
     },
     "execution_count": 7,
     "metadata": {},
     "output_type": "execute_result"
    }
   ],
   "source": [
    "import PyPDF2 as pypdf2\n",
    "pdf_file = open('meetingminutes.pdf', 'rb')\n",
    "pdf_reader = pypdf2.PdfFileReader(pdf_file)\n",
    "pdf_reader.numPages"
   ]
  },
  {
   "cell_type": "code",
   "execution_count": 8,
   "metadata": {},
   "outputs": [
    {
     "data": {
      "text/plain": [
       "'OOFFFFIICCIIAALL  BBOOAARRDD  MMIINNUUTTEESS   Meeting of \\nMarch 7\\n, 2014\\n        \\n     The Board of Elementary and Secondary Education shall provide leadership and \\ncreate policies for education that expand opportunities for children, empower \\nfamilies and communities, and advance Louisiana in an increasingly \\ncompetitive glob\\nal market.\\n BOARD \\n of ELEMENTARY\\n and \\n SECONDARY\\n EDUCATION\\n  '"
      ]
     },
     "execution_count": 8,
     "metadata": {},
     "output_type": "execute_result"
    }
   ],
   "source": [
    "page = pdf_reader.getPage(0)\n",
    "page.extractText()"
   ]
  },
  {
   "cell_type": "code",
   "execution_count": 11,
   "metadata": {},
   "outputs": [
    {
     "data": {
      "text/plain": [
       "'BOARD MINUTES\\n -18- MARCH 7, 2014\\n    Amendments for BESE\\n-Authorized Charter Schools\\n; §1905. Non\\n-Material \\nAmendments for BESE\\n-Authorized Charter\\n Schools\\n; §2301. State \\nFunding\\n; §2303. Federal Funding\\n; §2713. At\\n-Risk Students\\n; §2907.  \\nLeave of Absence\\n; and §2909. Employee Benefits, as presented by the \\nLDE.\\n  Dr. Beebe and Ms. Hill were recorded as being opposed to the motion.\\n  Agenda\\n Item 6.\\n Board A\\ndvisory Council Reports\\n   Agenda\\n Item 6.1.\\n Nonpublic School Council\\n (Schedule 6)\\n  On motion of Dr. Miranti, seconded by Mr. Guillot, the Board received the \\nminutes of the Nonpublic School Council meeting held February 4, 2014, \\nand approved the tentative a\\ngenda for March 25, 2014.\\n  Agenda\\n Item 6.2.\\n Superintendents™ Advisory Council\\n (Schedule 7)\\n  On motion of \\nDr. Miranti,\\n seconded by \\nMr. Guillot,\\n the Board received the \\nminutes of the\\n Superintendents™ Advisory Council meeting held \\nFebruary\\n 13, 2014, and appr\\noved the tentative agenda for March\\n 20, \\n2014.  With no further business to come before the Board, the meeting was adjourned at \\n10:15\\n a.m.\\n  '"
      ]
     },
     "execution_count": 11,
     "metadata": {},
     "output_type": "execute_result"
    }
   ],
   "source": [
    "pdf_reader.getPage(18).extractText()"
   ]
  },
  {
   "cell_type": "markdown",
   "metadata": {},
   "source": [
    "### Decrypting PDFs"
   ]
  },
  {
   "cell_type": "code",
   "execution_count": 16,
   "metadata": {},
   "outputs": [
    {
     "data": {
      "text/plain": [
       "True"
      ]
     },
     "execution_count": 16,
     "metadata": {},
     "output_type": "execute_result"
    }
   ],
   "source": [
    "pdf_reader = pypdf2.PdfFileReader(open('encrypted.pdf', 'rb'))\n",
    "pdf_reader.isEncrypted"
   ]
  },
  {
   "cell_type": "code",
   "execution_count": 17,
   "metadata": {},
   "outputs": [
    {
     "data": {
      "text/plain": [
       "1"
      ]
     },
     "execution_count": 17,
     "metadata": {},
     "output_type": "execute_result"
    }
   ],
   "source": [
    "pdf_reader.decrypt('rosebud')"
   ]
  },
  {
   "cell_type": "code",
   "execution_count": 20,
   "metadata": {},
   "outputs": [
    {
     "data": {
      "text/plain": [
       "'OOFFFFIICCIIAALL  BBOOAARRDD  MMIINNUUTTEESS   Meeting of \\nMarch 7\\n, 2014\\n        \\n     The Board of Elementary and Secondary Education shall provide leadership and \\ncreate policies for education that expand opportunities for children, empower \\nfamilies and communities, and advance Louisiana in an increasingly \\ncompetitive glob\\nal market.\\n BOARD \\n of ELEMENTARY\\n and \\n SECONDARY\\n EDUCATION\\n  '"
      ]
     },
     "execution_count": 20,
     "metadata": {},
     "output_type": "execute_result"
    }
   ],
   "source": [
    "page = pdf_reader.getPage(0)\n",
    "page.extractText()"
   ]
  },
  {
   "cell_type": "markdown",
   "metadata": {},
   "source": [
    "### Copying PDFs"
   ]
  },
  {
   "cell_type": "code",
   "execution_count": 21,
   "metadata": {},
   "outputs": [],
   "source": [
    "pdf_1 = open('meetingminutes.pdf', 'rb')\n",
    "pdf_2 = open('meetingminutes2.pdf', 'rb')\n",
    "pdf_1_reader = pypdf2.PdfFileReader(pdf_1)\n",
    "pdf_2_reader = pypdf2.PdfFileReader(pdf_2)\n",
    "pdf_writer = pypdf2.PdfFileWriter()\n",
    "\n",
    "for page_num in range(pdf_1_reader.numPages):\n",
    "    page = pdf_1_reader.getPage(page_num)\n",
    "    pdf_writer.addPage(page)\n",
    "    \n",
    "for page_num in range(pdf_2_reader.numPages):\n",
    "    page = pdf_2_reader.getPage(page_num)\n",
    "    pdf_writer.addPage(page)\n",
    "    \n",
    "pdf_output = open('combined_minutes.pdf', 'wb')\n",
    "pdf_writer.write(pdf_output)\n",
    "pdf_output.close\n",
    "pdf_1.close()\n",
    "pdf_2.close()"
   ]
  },
  {
   "cell_type": "markdown",
   "metadata": {},
   "source": [
    "### Rotating Pages"
   ]
  },
  {
   "cell_type": "code",
   "execution_count": 24,
   "metadata": {},
   "outputs": [],
   "source": [
    "minutesFile = open('meetingminutes.pdf', 'rb')\n",
    "pdfReader = pypdf2.PdfFileReader(minutesFile)\n",
    "page = pdfReader.getPage(0)\n",
    "page.rotateClockwise(90)\n",
    "\n",
    "pdfWriter = pypdf2.PdfFileWriter()\n",
    "pdfWriter.addPage(page)\n",
    "resultPdfFile = open('rotatedPage.pdf', 'wb')\n",
    "pdfWriter.write(resultPdfFile)\n",
    "resultPdfFile.close()\n",
    "minutesFile.close()"
   ]
  },
  {
   "cell_type": "markdown",
   "metadata": {},
   "source": [
    "## Project: Combining Select Pages from Many PDFs"
   ]
  },
  {
   "cell_type": "code",
   "execution_count": 6,
   "metadata": {},
   "outputs": [
    {
     "name": "stdout",
     "output_type": "stream",
     "text": [
      "Done. allminutes.pdf is created for your sake\n"
     ]
    }
   ],
   "source": [
    "# %load combine_pdfs.py\n",
    "#!/usr/bin/env python3\n",
    "\"\"\"\n",
    "Created on Sat Aug 24 15:47:49 2019\n",
    "\n",
    "@author: Soo Hyeon Kim\n",
    "- Find all pdf files in the current working directory\n",
    "- sort the filenames so the pdfs are added in order\n",
    "- write an each page, excluding the first page, of each pdf to the output file.\n",
    "\"\"\"\n",
    "\n",
    "import PyPDF2 as pypdf2\n",
    "import os\n",
    "\n",
    "# Get all the PDF filenames\n",
    "pdf_files = []\n",
    "for filename in os.listdir('.'):\n",
    "    if filename.endswith('.pdf'):\n",
    "        pdf_files.append(filename)\n",
    "        \n",
    "# sort in alphabetical order\n",
    "pdf_files.sort(key=str.lower)\n",
    "\n",
    "# to write pdf that merged all pdfs\n",
    "pdf_writer = pypdf2.PdfFileWriter()\n",
    "\n",
    "# TODO: loop through all the pdf files\n",
    "for filename in pdf_files:\n",
    "    pdf = open(filename, 'rb')\n",
    "    pdf_reader = pypdf2.PdfFileReader(pdf)\n",
    "\n",
    "    # TODO: loop through all the pages (except the first) and add them.\n",
    "    for page_num in range(1, pdf_reader.numPages):\n",
    "        page = pdf_reader.getPage(page_num)\n",
    "        pdf_writer.addPage(page)\n",
    "\n",
    "# TODO: save the resulting PDF to a file.\n",
    "save_name = 'allminutes.pdf'\n",
    "with open(save_name, 'wb') as pdf_output:\n",
    "    pdf_writer.write(pdf_output)\n",
    "\n",
    "print(\"Done. {} is created for your sake\".format(save_name))"
   ]
  },
  {
   "cell_type": "markdown",
   "metadata": {},
   "source": [
    "# Word Documents\n",
    "### Reading Word Documents"
   ]
  },
  {
   "cell_type": "code",
   "execution_count": 13,
   "metadata": {},
   "outputs": [
    {
     "data": {
      "text/plain": [
       "7"
      ]
     },
     "execution_count": 13,
     "metadata": {},
     "output_type": "execute_result"
    }
   ],
   "source": [
    "import docx\n",
    "doc = docx.Document('demo.docx')\n",
    "len(doc.paragraphs)"
   ]
  },
  {
   "cell_type": "code",
   "execution_count": 17,
   "metadata": {},
   "outputs": [
    {
     "data": {
      "text/plain": [
       "'Document Title'"
      ]
     },
     "execution_count": 17,
     "metadata": {},
     "output_type": "execute_result"
    }
   ],
   "source": [
    "doc.paragraphs[0].text"
   ]
  },
  {
   "cell_type": "code",
   "execution_count": 18,
   "metadata": {},
   "outputs": [
    {
     "data": {
      "text/plain": [
       "'A plain paragraph with some bold and some italic'"
      ]
     },
     "execution_count": 18,
     "metadata": {},
     "output_type": "execute_result"
    }
   ],
   "source": [
    "doc.paragraphs[1].text"
   ]
  },
  {
   "cell_type": "code",
   "execution_count": 19,
   "metadata": {},
   "outputs": [
    {
     "data": {
      "text/plain": [
       "5"
      ]
     },
     "execution_count": 19,
     "metadata": {},
     "output_type": "execute_result"
    }
   ],
   "source": [
    "len(doc.paragraphs[1].runs)"
   ]
  },
  {
   "cell_type": "code",
   "execution_count": 20,
   "metadata": {},
   "outputs": [
    {
     "name": "stdout",
     "output_type": "stream",
     "text": [
      "A plain paragraph with\n",
      " some \n",
      "bold\n",
      " and some \n",
      "italic\n"
     ]
    }
   ],
   "source": [
    "for run in doc.paragraphs[1].runs:\n",
    "    print(run.text)"
   ]
  },
  {
   "cell_type": "markdown",
   "metadata": {},
   "source": [
    "### Getting the full text from a .docx file"
   ]
  },
  {
   "cell_type": "code",
   "execution_count": 27,
   "metadata": {},
   "outputs": [],
   "source": [
    "# %load read_docx.py\n",
    "#!/usr/bin/env python3\n",
    "\"\"\"\n",
    "Created on Sat Aug 24 16:44:35 2019\n",
    "\n",
    "@author: Soo Hyeon Kim\n",
    "\"\"\"\n",
    "\n",
    "import docx\n",
    "\n",
    "def get_text(filename):\n",
    "    doc = docx.Document(filename)\n",
    "    full_text = []\n",
    "    for para in doc.paragraphs:\n",
    "        full_text.append(para.text)\n",
    "    return '\\n'.join(full_text)"
   ]
  },
  {
   "cell_type": "code",
   "execution_count": 33,
   "metadata": {},
   "outputs": [
    {
     "name": "stdout",
     "output_type": "stream",
     "text": [
      "Document Title\n",
      "A plain paragraph with some bold and some italic\n",
      "Heading, level 1\n",
      "Intense quote\n",
      "first item in unordered list\n",
      "first item in ordered list\n",
      "\n",
      "\n"
     ]
    }
   ],
   "source": [
    "print(get_text('demo.docx'))"
   ]
  },
  {
   "cell_type": "markdown",
   "metadata": {},
   "source": [
    "### Creating Word Documents with Nondefault Styles"
   ]
  },
  {
   "cell_type": "code",
   "execution_count": 34,
   "metadata": {},
   "outputs": [
    {
     "data": {
      "text/plain": [
       "_ParagraphStyle('Title') id: 140214893076264"
      ]
     },
     "execution_count": 34,
     "metadata": {},
     "output_type": "execute_result"
    }
   ],
   "source": [
    "doc = docx.Document('demo.docx')\n",
    "doc.paragraphs[0].style"
   ]
  },
  {
   "cell_type": "code",
   "execution_count": 35,
   "metadata": {},
   "outputs": [],
   "source": [
    "doc.paragraphs[0].style = 'Normal'"
   ]
  },
  {
   "cell_type": "code",
   "execution_count": 36,
   "metadata": {},
   "outputs": [
    {
     "data": {
      "text/plain": [
       "'A plain paragraph with some bold and some italic'"
      ]
     },
     "execution_count": 36,
     "metadata": {},
     "output_type": "execute_result"
    }
   ],
   "source": [
    "doc.paragraphs[1].text"
   ]
  },
  {
   "cell_type": "code",
   "execution_count": 39,
   "metadata": {},
   "outputs": [
    {
     "name": "stderr",
     "output_type": "stream",
     "text": [
      "UserWarning: style lookup by style_id is deprecated. Use style name as key instead. [styles.py:139]\n"
     ]
    }
   ],
   "source": [
    "doc.paragraphs[1].runs[0].style = 'QuoteChar'\n",
    "doc.paragraphs[1].runs[1].underline = True\n",
    "doc.paragraphs[1].runs[3].underline = True\n",
    "doc.save('restyled.docx')"
   ]
  },
  {
   "cell_type": "markdown",
   "metadata": {},
   "source": [
    "### Writing word documents"
   ]
  },
  {
   "cell_type": "code",
   "execution_count": 40,
   "metadata": {},
   "outputs": [
    {
     "data": {
      "text/plain": [
       "<docx.text.paragraph.Paragraph at 0x7f8648444828>"
      ]
     },
     "execution_count": 40,
     "metadata": {},
     "output_type": "execute_result"
    }
   ],
   "source": [
    "doc = docx.Document()\n",
    "doc.add_paragraph('Hello World!')"
   ]
  },
  {
   "cell_type": "code",
   "execution_count": 41,
   "metadata": {},
   "outputs": [],
   "source": [
    "doc.save('helloworld.docx')"
   ]
  },
  {
   "cell_type": "markdown",
   "metadata": {},
   "source": [
    "# Practice Projects\n",
    "\n",
    "## PDF Paranoia\n",
    "\n",
    "### pdf encrypter"
   ]
  },
  {
   "cell_type": "code",
   "execution_count": 56,
   "metadata": {},
   "outputs": [
    {
     "name": "stdout",
     "output_type": "stream",
     "text": [
      "You haven't provided password. What is it? peachtree123\n",
      "What location do you want to search through?.\n",
      "All PDF's in the folder tree have been successfully encrypted.\n",
      "Original files are deleted\n"
     ]
    }
   ],
   "source": [
    "# %load pdf_encrypter.py\n",
    "#!/usr/bin/env python3\n",
    "\"\"\"\n",
    "Created on Sat Aug 24 22:22:21 2019\n",
    "\n",
    "@author: Soo Hyeon Kim\n",
    "Finds all pdfs in a folder and encrypt th epdfs using a password provided \n",
    "on the command line with '_encrypted.pdf' suffix added to the original file. \n",
    "Get rid of original files in the end. \n",
    "\"\"\"\n",
    "\n",
    "import os, sys\n",
    "import PyPDF2 as pypdf2\n",
    "\n",
    "try:\n",
    "    password = sys.arg[1].strip()\n",
    "except:\n",
    "    password = input(\"You haven't provided password. What is it? \").strip()\n",
    "\n",
    "\n",
    "while True:\n",
    "        root = input(\"What location do you want to search through?\").strip()\n",
    "        root = os.path.abspath(root)\n",
    "        \n",
    "        if os.path.exists(root): # make sure it is legitimate\n",
    "            break\n",
    "        else:\n",
    "            print(\"Please input root directory in relative or absolute path\")\n",
    "\n",
    "\n",
    "\n",
    "encrypt_failed = [] # in case failure\n",
    "\n",
    "for folder, subfolders, filenames in os.walk(root):\n",
    "    \n",
    "    for filename in filenames:\n",
    "        if filename.endswith('.pdf'):\n",
    "            path = os.path.join(folder, filename)\n",
    "            path_ = open(path, 'rb')\n",
    "            try:\n",
    "                pdf_reader = pypdf2.PdfFileReader(path_)\n",
    "            except:\n",
    "                continue\n",
    "            \n",
    "            # file shouldn't be encrypted to be read\n",
    "            if not pdf_reader.isEncrypted:\n",
    "                pdf_writer = pypdf2.PdfFileWriter()\n",
    "                for page_num in range(pdf_reader.numPages):\n",
    "                    pdf_writer.addPage(pdf_reader.getPage(page_num))\n",
    "                \n",
    "                # Encrypt copy of pdf and save with _encrypted suffix\n",
    "                pdf_writer.encrypt(password)\n",
    "                encrypted_path = path[:-4] + '_encrypted.pdf'\n",
    "                encrypted_version = open(encrypted_path, 'wb')\n",
    "                \n",
    "                pdf_writer.write(encrypted_version)\n",
    "                encrypted_version.close()\n",
    "                \n",
    "                # check file was encrypted properly\n",
    "                encrypted_path_ = open(encrypted_path, 'rb')\n",
    "                pdf_reader2 = pypdf2.PdfFileReader(encrypted_path_)\n",
    "                if (pdf_reader2.isEncrypted) \\\n",
    "                        and (pdf_reader2.decrypt(password)):\n",
    "                    os.remove(path)\n",
    "                else:\n",
    "                    encrypt_failed.append(filename)\n",
    "                \n",
    "            path_.close()\n",
    "            \n",
    "if encrypt_failed:\n",
    "    print(\"The following files failed their encryption checks and were\"\n",
    "          \" not deleted: \")\n",
    "    for filename in encrypt_failed:\n",
    "        print(filename)\n",
    "else:\n",
    "    print(\"All PDF's in the folder tree have been successfully encrypted.\")\n",
    "    print(\"Original files are deleted\")"
   ]
  },
  {
   "cell_type": "markdown",
   "metadata": {},
   "source": [
    "### Pdf decrypter"
   ]
  },
  {
   "cell_type": "code",
   "execution_count": 58,
   "metadata": {},
   "outputs": [
    {
     "name": "stdout",
     "output_type": "stream",
     "text": [
      "You haven't provided password. What is it? peachtree123\n",
      "What location do you want to search through?.\n",
      "All encrypted PDF's in the folder tree were decrypted successfully. The original files have been kept.\n"
     ]
    }
   ],
   "source": [
    "# %load pdf_decrypter.py\n",
    "#!/usr/bin/env python3\n",
    "\"\"\"\n",
    "Created on Sat Aug 24 23:41:21 2019\n",
    "\n",
    "@author: Soo Hyeon Kim\n",
    "Finds all pdfs in a folder and deencrypt th epdfs using a password provided \n",
    "on the command line with '_decrypted.pdf' suffix removed to the original file. \n",
    "Get rid of original files in the end. \n",
    "\"\"\"\n",
    "\n",
    "import os, sys\n",
    "import PyPDF2 as pypdf2\n",
    "\n",
    "try:\n",
    "    password = sys.arg[1].strip()\n",
    "except:\n",
    "    password = input(\"You haven't provided password. What is it? \").strip()\n",
    "\n",
    "\n",
    "while True:\n",
    "        root = input(\"What location do you want to search through?\").strip()\n",
    "        root = os.path.abspath(root)\n",
    "        \n",
    "        if os.path.exists(root): # make sure it is legitimate\n",
    "            break\n",
    "        else:\n",
    "            print(\"Please input root directory in relative or absolute path\")\n",
    "\n",
    "\n",
    "\n",
    "decrypt_failed = [] # in case failure\n",
    "\n",
    "for folder, subfolders, filenames in os.walk(root):\n",
    "    \n",
    "    for filename in filenames:\n",
    "        if filename.endswith('.pdf'):\n",
    "            path = os.path.join(folder, filename)\n",
    "            path_ = open(path, 'rb')\n",
    "            try:\n",
    "                pdf_reader = pypdf2.PdfFileReader(path_)\n",
    "            except:\n",
    "                continue\n",
    "\n",
    "            if pdf_reader.isEncrypted is True:\n",
    "                if not pdf_reader.decrypt(password):\n",
    "                    print(filename + ' failed to decrypt.')\n",
    "                    decrypt_failed.append(filename)\n",
    "                else:\n",
    "                    pdf_writer = pypdf2.PdfFileWriter()\n",
    "                    for page_num in range(pdf_reader.numPages):\n",
    "                        pdf_writer.addPage(pdf_reader.getPage(page_num))\n",
    "\n",
    "                    # Encrypt copy of PDF and save with _encrypted suffix\n",
    "                    decrypted_path = path[:-4] + '_decrpyted.pdf'\n",
    "                    decrypted_version = open(decrypted_path, 'wb')\n",
    "                    pdf_writer.write(decrypted_version)\n",
    "                    decrypted_version.close()\n",
    "\n",
    "if decrypt_failed != []:\n",
    "    print(\"All encrypted PDF's, except those listed above, were \"\n",
    "          \"decrypted successfully. All of the original files have been kept.\")\n",
    "else:\n",
    "    print(\"All encrypted PDF's in the folder tree were decrypted successfully. \"\n",
    "          \"The original files have been kept.\")\n"
   ]
  },
  {
   "cell_type": "markdown",
   "metadata": {},
   "source": [
    "## Custom Invitation as Word Documents"
   ]
  },
  {
   "cell_type": "code",
   "execution_count": 61,
   "metadata": {},
   "outputs": [
    {
     "name": "stdout",
     "output_type": "stream",
     "text": [
      "'invites.docx' has been created\n"
     ]
    },
    {
     "name": "stderr",
     "output_type": "stream",
     "text": [
      "UserWarning: style lookup by style_id is deprecated. Use style name as key instead. [styles.py:139]\n"
     ]
    }
   ],
   "source": [
    "# %load custom_invitation_docx.py\n",
    "#!/usr/bin/env python3\n",
    "\"\"\"\n",
    "Created on Sat Aug 24 23:57:11 2019\n",
    "\n",
    "@author: Soo Hyeon Kim\n",
    "Read guest names from text file and generate a Word document with custom \n",
    "invitations.\n",
    "\"\"\"\n",
    "\n",
    "import docx\n",
    "from docx.enum.text import WD_ALIGN_PARAGRAPH\n",
    "\n",
    "with open('guest.txt') as f:\n",
    "    names = f.readlines()\n",
    "    document = docx.Document()\n",
    "    \n",
    "    for name in names:\n",
    "        name = name.strip()\n",
    "        \n",
    "        paragraph = document.add_paragraph('It would be a pleasure to have the' \n",
    "                               ' company of', style='Heading1')\n",
    "        paragraph.alignment = WD_ALIGN_PARAGRAPH.CENTER\n",
    "        \n",
    "        paragraph = document.add_paragraph(name, style='Caption')\n",
    "        paragraph.alignment = WD_ALIGN_PARAGRAPH.CENTER\n",
    "        \n",
    "        paragraph = document.add_paragraph('at 11010 Memory Lane on '\n",
    "                                           'the Evening of', style='Heading1')\n",
    "        paragraph.alignment = WD_ALIGN_PARAGRAPH.CENTER\n",
    "        \n",
    "        paragraph = document.add_paragraph('April 1st', style='BodyText')\n",
    "        paragraph.alignment = WD_ALIGN_PARAGRAPH.CENTER\n",
    "        \n",
    "        paragraph = document.add_paragraph('at 7 o\\'clock', style='Heading1')\n",
    "        paragraph.alignment = WD_ALIGN_PARAGRAPH.CENTER\n",
    "        \n",
    "        document.add_page_break()\n",
    "    \n",
    "    document.save('invites.docx')\n",
    "    \n",
    "    print(\"'invites.docx' has been created\")\n"
   ]
  },
  {
   "cell_type": "markdown",
   "metadata": {},
   "source": [
    "### Brute-Force PDF Password Breaker"
   ]
  },
  {
   "cell_type": "code",
   "execution_count": 63,
   "metadata": {},
   "outputs": [
    {
     "name": "stdout",
     "output_type": "stream",
     "text": [
      "Enter the directory of the PDF you wish to break:\n",
      "allminutes_encrypted.pdf\n"
     ]
    }
   ],
   "source": [
    "# %load password_breaker.py\n",
    "#!/usr/bin/env python3\n",
    "\"\"\"\n",
    "Created on Sun Aug 25 00:23:34 2019\n",
    "\n",
    "@author: Soo Hyeon Kim\n",
    "Finding a single english password. \n",
    "\"\"\"\n",
    "\n",
    "import PyPDF2, os\n",
    "\n",
    "print('Enter the directory of the PDF you wish to break:')\n",
    "file = input()\n",
    "file = os.path.abspath(file)\n",
    "\n",
    "with open('dictionary.txt') as f:\n",
    "    words = f.readlines()\n",
    "\n",
    "    pdf_reader = PyPDF2.PdfFileReader(open(file, 'rb'))\n",
    "\n",
    "    for word in words:\n",
    "        word = word.strip()\n",
    "        lower = word.lower()\n",
    "        upper = word.upper()\n",
    "        if pdf_reader.decrypt(lower) == 1:\n",
    "            print('Password = ' + lower)\n",
    "            break\n",
    "        elif pdf_reader.decrypt(upper) == 1:\n",
    "            print('Password = ' + upper)\n",
    "            break"
   ]
  },
  {
   "cell_type": "code",
   "execution_count": null,
   "metadata": {},
   "outputs": [],
   "source": []
  }
 ],
 "metadata": {
  "kernelspec": {
   "display_name": "Python 3",
   "language": "python",
   "name": "python3"
  },
  "language_info": {
   "codemirror_mode": {
    "name": "ipython",
    "version": 3
   },
   "file_extension": ".py",
   "mimetype": "text/x-python",
   "name": "python",
   "nbconvert_exporter": "python",
   "pygments_lexer": "ipython3",
   "version": "3.6.7"
  }
 },
 "nbformat": 4,
 "nbformat_minor": 2
}
