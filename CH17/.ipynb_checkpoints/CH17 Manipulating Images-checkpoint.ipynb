{
 "cells": [
  {
   "cell_type": "markdown",
   "metadata": {},
   "source": [
    "## Colors and RGBA values"
   ]
  },
  {
   "cell_type": "code",
   "execution_count": 1,
   "metadata": {},
   "outputs": [],
   "source": [
    "from PIL import ImageColor"
   ]
  },
  {
   "cell_type": "code",
   "execution_count": 2,
   "metadata": {},
   "outputs": [
    {
     "data": {
      "text/plain": [
       "(255, 0, 0, 255)"
      ]
     },
     "execution_count": 2,
     "metadata": {},
     "output_type": "execute_result"
    }
   ],
   "source": [
    "ImageColor.getcolor('red', 'RGBA')"
   ]
  },
  {
   "cell_type": "code",
   "execution_count": 3,
   "metadata": {},
   "outputs": [
    {
     "data": {
      "text/plain": [
       "(255, 0, 0, 255)"
      ]
     },
     "execution_count": 3,
     "metadata": {},
     "output_type": "execute_result"
    }
   ],
   "source": [
    "ImageColor.getcolor('RED', 'RGBA')"
   ]
  },
  {
   "cell_type": "code",
   "execution_count": 4,
   "metadata": {},
   "outputs": [
    {
     "data": {
      "text/plain": [
       "(0, 0, 0, 255)"
      ]
     },
     "execution_count": 4,
     "metadata": {},
     "output_type": "execute_result"
    }
   ],
   "source": [
    "ImageColor.getcolor('Black', 'RGBA')"
   ]
  },
  {
   "cell_type": "code",
   "execution_count": 5,
   "metadata": {},
   "outputs": [
    {
     "data": {
      "text/plain": [
       "(210, 105, 30, 255)"
      ]
     },
     "execution_count": 5,
     "metadata": {},
     "output_type": "execute_result"
    }
   ],
   "source": [
    "ImageColor.getcolor('chocolate', 'RGBA')"
   ]
  },
  {
   "cell_type": "code",
   "execution_count": 6,
   "metadata": {},
   "outputs": [
    {
     "data": {
      "text/plain": [
       "(100, 149, 237, 255)"
      ]
     },
     "execution_count": 6,
     "metadata": {},
     "output_type": "execute_result"
    }
   ],
   "source": [
    "ImageColor.getcolor('CornflowerBlue', 'RGBA')"
   ]
  },
  {
   "cell_type": "markdown",
   "metadata": {},
   "source": [
    "## Manipulating Images with Pillow"
   ]
  },
  {
   "cell_type": "code",
   "execution_count": 8,
   "metadata": {},
   "outputs": [],
   "source": [
    "from PIL import Image\n",
    "cat_img = Image.open('zophie.png')"
   ]
  },
  {
   "cell_type": "markdown",
   "metadata": {},
   "source": [
    "## Working with the Image Data Type"
   ]
  },
  {
   "cell_type": "code",
   "execution_count": 9,
   "metadata": {},
   "outputs": [
    {
     "data": {
      "text/plain": [
       "(816, 1088)"
      ]
     },
     "execution_count": 9,
     "metadata": {},
     "output_type": "execute_result"
    }
   ],
   "source": [
    "cat_img.size"
   ]
  },
  {
   "cell_type": "code",
   "execution_count": 11,
   "metadata": {},
   "outputs": [
    {
     "data": {
      "text/plain": [
       "(816, 1088)"
      ]
     },
     "execution_count": 11,
     "metadata": {},
     "output_type": "execute_result"
    }
   ],
   "source": [
    "width, height = cat_img.size\n",
    "width, height"
   ]
  },
  {
   "cell_type": "code",
   "execution_count": 12,
   "metadata": {},
   "outputs": [
    {
     "data": {
      "text/plain": [
       "'zophie.png'"
      ]
     },
     "execution_count": 12,
     "metadata": {},
     "output_type": "execute_result"
    }
   ],
   "source": [
    "cat_img.filename"
   ]
  },
  {
   "cell_type": "code",
   "execution_count": 14,
   "metadata": {},
   "outputs": [
    {
     "data": {
      "text/plain": [
       "'PNG'"
      ]
     },
     "execution_count": 14,
     "metadata": {},
     "output_type": "execute_result"
    }
   ],
   "source": [
    "cat_img.format"
   ]
  },
  {
   "cell_type": "code",
   "execution_count": 16,
   "metadata": {},
   "outputs": [
    {
     "data": {
      "text/plain": [
       "'Portable network graphics'"
      ]
     },
     "execution_count": 16,
     "metadata": {},
     "output_type": "execute_result"
    }
   ],
   "source": [
    "cat_img.format_description"
   ]
  },
  {
   "cell_type": "code",
   "execution_count": 17,
   "metadata": {},
   "outputs": [],
   "source": [
    "cat_img.save('zophie.jpg')"
   ]
  },
  {
   "cell_type": "code",
   "execution_count": 18,
   "metadata": {},
   "outputs": [],
   "source": [
    "img = Image.new('RGBA', (100, 200), 'purple')\n",
    "img.save('purple_image.png')\n",
    "img2 = Image.new('RGBA', (20, 20))\n",
    "img2.save('transparent_image.png')"
   ]
  },
  {
   "cell_type": "markdown",
   "metadata": {},
   "source": [
    "## Cropping Images"
   ]
  },
  {
   "cell_type": "code",
   "execution_count": 19,
   "metadata": {},
   "outputs": [],
   "source": [
    "cropped_img = cat_img.crop((335, 345, 565, 560))\n",
    "cropped_img.save('cropped.png')"
   ]
  },
  {
   "cell_type": "markdown",
   "metadata": {},
   "source": [
    "## Copying and Pasting Images onto Other Images"
   ]
  },
  {
   "cell_type": "code",
   "execution_count": 20,
   "metadata": {},
   "outputs": [],
   "source": [
    "cat_copy_img = cat_img.copy()"
   ]
  },
  {
   "cell_type": "code",
   "execution_count": 21,
   "metadata": {},
   "outputs": [
    {
     "data": {
      "text/plain": [
       "(230, 215)"
      ]
     },
     "execution_count": 21,
     "metadata": {},
     "output_type": "execute_result"
    }
   ],
   "source": [
    "face_img = cat_img.crop((335, 345, 565, 560))\n",
    "face_img.size"
   ]
  },
  {
   "cell_type": "code",
   "execution_count": 22,
   "metadata": {},
   "outputs": [],
   "source": [
    "cat_copy_img.paste(face_img, (0,0))\n",
    "cat_copy_img.paste(face_img, (400, 500))\n",
    "cat_copy_img.save('pasted.png')"
   ]
  },
  {
   "cell_type": "code",
   "execution_count": 24,
   "metadata": {},
   "outputs": [],
   "source": [
    "cat_img_width, cat_img_height = cat_img.size\n",
    "face_img_width, face_img_height = face_img.size\n",
    "cat_copy_two = cat_img.copy()"
   ]
  },
  {
   "cell_type": "code",
   "execution_count": 26,
   "metadata": {},
   "outputs": [
    {
     "name": "stdout",
     "output_type": "stream",
     "text": [
      "0 0\n",
      "0 215\n",
      "0 430\n",
      "0 645\n",
      "0 860\n",
      "0 1075\n",
      "230 0\n",
      "230 215\n",
      "230 430\n",
      "230 645\n",
      "230 860\n",
      "230 1075\n",
      "460 0\n",
      "460 215\n",
      "460 430\n",
      "460 645\n",
      "460 860\n",
      "460 1075\n",
      "690 0\n",
      "690 215\n",
      "690 430\n",
      "690 645\n",
      "690 860\n",
      "690 1075\n"
     ]
    }
   ],
   "source": [
    "for left in range(0, cat_img_width, face_img_width):\n",
    "    for top in range(0, cat_img_height, face_img_height):\n",
    "        print(left, top)\n",
    "        cat_copy_two.paste(face_img, (left, top))\n",
    "\n",
    "cat_copy_two.save('tiled.png')"
   ]
  },
  {
   "cell_type": "markdown",
   "metadata": {},
   "source": [
    "## Resizing an Image"
   ]
  },
  {
   "cell_type": "code",
   "execution_count": 27,
   "metadata": {},
   "outputs": [],
   "source": [
    "width, height = cat_img.size\n",
    "quartersized_img = cat_img.resize((int(width/2), int(height/2)))\n",
    "quartersized_img.save('quartersized.png')\n",
    "\n",
    "svelte_img = cat_img.resize((width, height+300))\n",
    "svelte_img.save('svelte.png')"
   ]
  },
  {
   "cell_type": "markdown",
   "metadata": {},
   "source": [
    "## Rotating and Flipping Images"
   ]
  },
  {
   "cell_type": "code",
   "execution_count": 28,
   "metadata": {},
   "outputs": [],
   "source": [
    "cat_img.rotate(90).save('rotated_90.png')\n",
    "cat_img.rotate(180).save('rotated_180.png')\n",
    "cat_img.rotate(270).save('rotated_279.png')"
   ]
  },
  {
   "cell_type": "code",
   "execution_count": 29,
   "metadata": {},
   "outputs": [],
   "source": [
    "cat_img.rotate(6).save('rotated_6.png')\n",
    "cat_img.rotate(6, expand=True).save('rotated_6_expanded.png')"
   ]
  },
  {
   "cell_type": "code",
   "execution_count": 31,
   "metadata": {},
   "outputs": [],
   "source": [
    "cat_img.transpose(Image.FLIP_LEFT_RIGHT).save('horizontal_flip.png')\n",
    "cat_img.transpose(Image.FLIP_TOP_BOTTOM).save('vertical_flip.png')"
   ]
  },
  {
   "cell_type": "markdown",
   "metadata": {},
   "source": [
    "## Changing Individual Pixels"
   ]
  },
  {
   "cell_type": "code",
   "execution_count": 32,
   "metadata": {},
   "outputs": [
    {
     "data": {
      "text/plain": [
       "(0, 0, 0, 0)"
      ]
     },
     "execution_count": 32,
     "metadata": {},
     "output_type": "execute_result"
    }
   ],
   "source": [
    "img = Image.new('RGBA', (100, 100))\n",
    "img.getpixel((0,0))"
   ]
  },
  {
   "cell_type": "code",
   "execution_count": 33,
   "metadata": {},
   "outputs": [],
   "source": [
    "for x in range(100):\n",
    "    for y in range(50):\n",
    "        img.putpixel((x,y), (210, 210, 210))"
   ]
  },
  {
   "cell_type": "code",
   "execution_count": 34,
   "metadata": {},
   "outputs": [
    {
     "data": {
      "text/plain": [
       "(210, 210, 210, 255)"
      ]
     },
     "execution_count": 34,
     "metadata": {},
     "output_type": "execute_result"
    }
   ],
   "source": [
    "from PIL import ImageColor\n",
    "for x in range(100):\n",
    "    for y in range(50, 100):\n",
    "        img.putpixel((x, y), ImageColor.getcolor('darkgray', 'RGBA'))\n",
    "\n",
    "img.getpixel((0,0))"
   ]
  },
  {
   "cell_type": "code",
   "execution_count": 35,
   "metadata": {},
   "outputs": [
    {
     "data": {
      "text/plain": [
       "(169, 169, 169, 255)"
      ]
     },
     "execution_count": 35,
     "metadata": {},
     "output_type": "execute_result"
    }
   ],
   "source": [
    "img.getpixel((0, 50))"
   ]
  },
  {
   "cell_type": "code",
   "execution_count": 36,
   "metadata": {},
   "outputs": [],
   "source": [
    "img.save('put_pixel.png')"
   ]
  },
  {
   "cell_type": "markdown",
   "metadata": {},
   "source": [
    "# Project: Adding a logo"
   ]
  },
  {
   "cell_type": "code",
   "execution_count": 38,
   "metadata": {},
   "outputs": [
    {
     "name": "stdout",
     "output_type": "stream",
     "text": [
      "Adding logo to cropped.png ...\n",
      "Resizing quartersized.png ...\n",
      "Adding logo to quartersized.png ...\n",
      "Resizing rotated_180.png ...\n",
      "Adding logo to rotated_180.png ...\n",
      "Resizing rotated_6_expanded.png ...\n",
      "Adding logo to rotated_6_expanded.png ...\n",
      "Resizing rotated_279.png ...\n",
      "Adding logo to rotated_279.png ...\n",
      "Adding logo to purple_image.png ...\n",
      "Adding logo to transparent_image.png ...\n",
      "Resizing zophie.png ...\n",
      "Adding logo to zophie.png ...\n",
      "Resizing zophie.jpg ...\n",
      "Adding logo to zophie.jpg ...\n",
      "Resizing rotated_6.png ...\n",
      "Adding logo to rotated_6.png ...\n",
      "Resizing rotated_90.png ...\n",
      "Adding logo to rotated_90.png ...\n",
      "Adding logo to put_pixel.png ...\n",
      "Resizing pasted.png ...\n",
      "Adding logo to pasted.png ...\n",
      "Resizing tiled.png ...\n",
      "Adding logo to tiled.png ...\n",
      "Resizing horizontal_flip.png ...\n",
      "Adding logo to horizontal_flip.png ...\n",
      "Resizing svelte.png ...\n",
      "Adding logo to svelte.png ...\n",
      "Resizing vertical_flip.png ...\n",
      "Adding logo to vertical_flip.png ...\n"
     ]
    }
   ],
   "source": [
    "# %load resize_and_add_logo.py\n",
    "#!/usr/bin/env python3\n",
    "\"\"\"\n",
    "Created on Mon Aug 26 15:03:47 2019\n",
    "\n",
    "@author: Soo Hyeon Kim\n",
    "- load the logo image\n",
    "- loop over all .png and .jpg files in the working directory\n",
    "- check whether the image is wider or taller than 300 pixels\n",
    "- If so, reduce the width or height(whichever is larger) to 300 pixels and\n",
    "  scale down the othe rdimension proportionally.\n",
    "- Paste the logo image into the corner\n",
    "- Save the altered images to another folder\n",
    "\"\"\"\n",
    "\n",
    "import os\n",
    "from PIL import Image\n",
    "\n",
    "SQUARE_FIT_SIZE = 300\n",
    "LOGO_FILENAME = 'catlogo.png'\n",
    "\n",
    "logo_img = Image.open(LOGO_FILENAME)\n",
    "logo_width, logo_height = logo_img.size\n",
    "prop = 1/logo_width\n",
    "\n",
    "## logo needs to be smaller\n",
    "logo_width = int(90 * logo_width * prop)\n",
    "logo_height = int(90 * logo_height * prop)\n",
    "\n",
    "logo_img = logo_img.resize((logo_width, logo_height))\n",
    "\n",
    "# TODO: Loop over all files in the working directory\n",
    "os.makedirs('with_logo', exist_ok=True)\n",
    "# Loop over all files in the working directory.\n",
    "for filename in os.listdir('.'):\n",
    "    \n",
    "    if not (filename.endswith('.png') or filename.endswith('.jpg')) \\\n",
    "        or filename == LOGO_FILENAME:\n",
    "        continue       # skip non-image files and the logo file itself\n",
    "    \n",
    "    img = Image.open(filename)\n",
    "    width, height = img.size\n",
    "\n",
    "    # TODO: Check if image needs to be resized.\n",
    "    if width > SQUARE_FIT_SIZE or height > SQUARE_FIT_SIZE:\n",
    "        # Calculate the new width and height to resize to.\n",
    "        if width > height:\n",
    "            height = int((SQUARE_FIT_SIZE / width) * height)\n",
    "            width = SQUARE_FIT_SIZE\n",
    "            \n",
    "        else:\n",
    "            width = int((SQUARE_FIT_SIZE / height) * width)\n",
    "            height = SQUARE_FIT_SIZE\n",
    "        \n",
    "        # Resize the image.\n",
    "        print('Resizing {} ...'.format(filename))\n",
    "        img = img.resize((width, height))\n",
    "           \n",
    "    # TODO: Add the logo\n",
    "    print('Adding logo to {} ...'.format(filename))\n",
    "    img.paste(logo_img, (width - logo_width, height - logo_height), logo_img)\n",
    "\n",
    "    # TODO: Save changes. \n",
    "    img.save(os.path.join('with_logo', filename))"
   ]
  },
  {
   "cell_type": "markdown",
   "metadata": {},
   "source": [
    "## Drawing on Images"
   ]
  },
  {
   "cell_type": "code",
   "execution_count": 40,
   "metadata": {},
   "outputs": [],
   "source": [
    "from PIL import Image, ImageDraw\n",
    "img = Image.new('RGBA', (200, 200), 'white')\n",
    "draw = ImageDraw.Draw(img)"
   ]
  },
  {
   "cell_type": "code",
   "execution_count": 42,
   "metadata": {},
   "outputs": [],
   "source": [
    "# Drawing Exmaple\n",
    "img = Image.new('RGBA', (200, 200), 'white')\n",
    "draw = ImageDraw.Draw(img)\n",
    "draw.line([(0,0), (199, 0), (199, 199), (0, 199), (0, 0)], fill='black')\n",
    "draw.rectangle((20,30,60,60), fill='blue')\n",
    "draw.ellipse((120, 30, 160, 60), fill='red')\n",
    "draw.polygon(((57, 87), (79, 62), (94, 85), (120, 90), (103, 113)), fill='brown')\n",
    "\n",
    "for i in range(100, 200, 10):\n",
    "    draw.line([(i, 0), (200, i-100)], fill='green')\n",
    "\n",
    "img.save('drawing.png')\n"
   ]
  },
  {
   "cell_type": "markdown",
   "metadata": {},
   "source": [
    "## Drawing Text"
   ]
  },
  {
   "cell_type": "code",
   "execution_count": 45,
   "metadata": {},
   "outputs": [],
   "source": [
    "from PIL import ImageFont, Image, ImageDraw\n",
    "import os\n",
    "\n",
    "img = Image.new('RGBA', (200, 200), 'white')\n",
    "draw = ImageDraw.Draw(img)\n",
    "draw.text((20, 150), 'Hello', fill='purple')\n",
    "fonts_folder = '/Library/Fonts'\n",
    "arial_font = ImageFont.truetype(os.path.join(fonts_folder, 'arial.ttf'), 32)\n",
    "draw.text((100, 150), 'Howdy', fill='gray', font=arial_font)\n",
    "img.save('text.png')\n",
    "img.show()"
   ]
  },
  {
   "cell_type": "markdown",
   "metadata": {},
   "source": [
    "# Practice Projects\n",
    "## Extending and Fixing the Chapter Project Programs"
   ]
  },
  {
   "cell_type": "code",
   "execution_count": 50,
   "metadata": {},
   "outputs": [
    {
     "name": "stdout",
     "output_type": "stream",
     "text": [
      "Adding logo to cropped.png ...\n",
      "Resizing quartersized.png ...\n",
      "Adding logo to quartersized.png ...\n",
      "Resizing rotated_180.png ...\n",
      "Adding logo to rotated_180.png ...\n",
      "Resizing rotated_6_expanded.png ...\n",
      "Adding logo to rotated_6_expanded.png ...\n",
      "Resizing rotated_279.png ...\n",
      "Adding logo to rotated_279.png ...\n",
      "Adding logo to drawing.png ...\n",
      "Resizing zophie.png ...\n",
      "Adding logo to zophie.png ...\n",
      "Resizing zophie.jpg ...\n",
      "Adding logo to zophie.jpg ...\n",
      "Resizing rotated_6.png ...\n",
      "Adding logo to rotated_6.png ...\n",
      "Resizing rotated_90.png ...\n",
      "Adding logo to rotated_90.png ...\n",
      "Resizing pasted.png ...\n",
      "Adding logo to pasted.png ...\n",
      "Resizing tiled.png ...\n",
      "Adding logo to tiled.png ...\n",
      "Resizing horizontal_flip.png ...\n",
      "Adding logo to horizontal_flip.png ...\n",
      "Resizing svelte.png ...\n",
      "Adding logo to text.png ...\n",
      "Resizing vertical_flip.png ...\n",
      "Adding logo to vertical_flip.png ...\n"
     ]
    }
   ],
   "source": [
    "# %load updated_resize_and_add_logo.py\n",
    "#!/usr/bin/env python3\n",
    "\"\"\"\n",
    "Created on Mon Aug 26 18:31:34 2019\n",
    "\n",
    "@author: Soo Hyeon Kim\n",
    "- update 'resize_and_add_logo.py' to do:\n",
    "    - add bmp & gif\n",
    "    - be case insensitive to extension\n",
    "    - make sure image is at least twice the width and height of the logo image\n",
    "      Otherwise, should skip adding the logo.\n",
    "\"\"\"\n",
    "\n",
    "import os\n",
    "from PIL import Image\n",
    "\n",
    "SQUARE_FIT_SIZE = 300\n",
    "LOGO_FILENAME = 'catlogo.png'\n",
    "\n",
    "logo_img = Image.open(LOGO_FILENAME)\n",
    "logo_width, logo_height = logo_img.size\n",
    "prop = 1/logo_width\n",
    "\n",
    "## logo needs to be smaller\n",
    "logo_width = int(90 * logo_width * prop)\n",
    "logo_height = int(90 * logo_height * prop)\n",
    "\n",
    "logo_img = logo_img.resize((logo_width, logo_height))\n",
    "\n",
    "# TODO: Loop over all files in the working directory\n",
    "os.makedirs('updated_with_logo', exist_ok=True)\n",
    "# Loop over all files in the working directory.\n",
    "for filename in os.listdir('.'):\n",
    "    \n",
    "    if not filename[-4:].lower() in ['.png', '.jpg', '.bmp', '.gif'] \\\n",
    "        or filename == LOGO_FILENAME:\n",
    "        continue       # skip non-image files and the logo file itself\n",
    "    \n",
    "    img = Image.open(filename)\n",
    "    width, height = img.size\n",
    "\n",
    "    # TODO: Check if image needs to be resized.\n",
    "    if width > SQUARE_FIT_SIZE or height > SQUARE_FIT_SIZE:\n",
    "        # Calculate the new width and height to resize to.\n",
    "        if width > height:\n",
    "            height = int((SQUARE_FIT_SIZE / width) * height)\n",
    "            width = SQUARE_FIT_SIZE\n",
    "            \n",
    "        else:\n",
    "            width = int((SQUARE_FIT_SIZE / height) * width)\n",
    "            height = SQUARE_FIT_SIZE\n",
    "    \n",
    "        # Resize the image.\n",
    "        print('Resizing {} ...'.format(filename))\n",
    "        img = img.resize((width, height))\n",
    "\n",
    "    if not ((width > 2 * logo_width) and (height > 2 * logo_height)):\n",
    "        continue\n",
    "    \n",
    "    # TODO: Add the logo\n",
    "    print('Adding logo to {} ...'.format(filename))\n",
    "    img.paste(logo_img, (width - logo_width, height - logo_height), logo_img)\n",
    "\n",
    "    # TODO: Save changes. \n",
    "    img.save(os.path.join('updated_with_logo', filename))"
   ]
  },
  {
   "cell_type": "markdown",
   "metadata": {},
   "source": [
    "## Identifying Photo Folders on the Hard Drive"
   ]
  },
  {
   "cell_type": "code",
   "execution_count": 54,
   "metadata": {},
   "outputs": [
    {
     "name": "stdout",
     "output_type": "stream",
     "text": [
      ">>> /Users/soohyeonkim/.Trash/with_logo 4.52.50 PM\n",
      ">>> /Users/soohyeonkim/.Trash/with_logo 6.42.24 PM\n",
      ">>> /Users/soohyeonkim/.Trash/with_logo\n",
      ">>> /Users/soohyeonkim/GoogleDrive/Coding/python_coding/Automate_The_Boring_Stuff_With_Python/Automate_The_Boring_Stuff_With_Python/CH17\n",
      ">>> /Users/soohyeonkim/GoogleDrive/Coding/python_coding/Automate_The_Boring_Stuff_With_Python/Automate_The_Boring_Stuff_With_Python/CH17/updated_with_logo\n",
      ">>> /Users/soohyeonkim/GoogleDrive/Coding/python_coding/Automate_The_Boring_Stuff_With_Python/Automate_The_Boring_Stuff_With_Python/CH17/with_logo\n",
      "\n",
      "Done.\n"
     ]
    }
   ],
   "source": [
    "# %load identifying_photo_folders.py\n",
    "#!/usr/bin/env python3\n",
    "\"\"\"\n",
    "Created on Mon Aug 26 19:16:04 2019\n",
    "\n",
    "@author: Soo Hyeon Kim\n",
    "Identify photo folders on the hard drive\n",
    "\"\"\"\n",
    "\n",
    "import os\n",
    "from PIL import Image\n",
    "\n",
    "for foldername, subfolders, filenames in os.walk('/Users/soohyeonkim'):\n",
    "    num_photo_files = 0\n",
    "    num_no_photo_files = 0\n",
    "    for filename in filenames:\n",
    "        # check if file extension isn't .png or .jpg\n",
    "        if not (filename.endswith('.jpg') or  filename.endswith('.png')):\n",
    "            num_no_photo_files += 1\n",
    "            continue\n",
    "        \n",
    "        # Open image file using Pillow\n",
    "        try:\n",
    "            im = Image.open(filename)\n",
    "        except:\n",
    "            # FileNotFoundError\n",
    "            continue\n",
    "        \n",
    "        width, height = im.size\n",
    "        \n",
    "        # Check if width & height are larger than 500\n",
    "        if width > 500 and height > 500:\n",
    "            # Image is large enough to be considered a photo\n",
    "            num_photo_files += 1\n",
    "        else:\n",
    "            # Image is too small to be a photo\n",
    "            num_no_photo_files += 1\n",
    "        \n",
    "    # If more than half of files were photo, \n",
    "    # print the absolute path of the folder.\n",
    "    try:\n",
    "        if num_photo_files / (num_photo_files + num_no_photo_files) > 0.5:\n",
    "            print(\">>> \" + os.path.abspath(foldername))\n",
    "    except:\n",
    "        ## Zero division error\n",
    "        continue\n",
    "        \n",
    "print('\\nDone.')"
   ]
  },
  {
   "cell_type": "code",
   "execution_count": null,
   "metadata": {},
   "outputs": [],
   "source": []
  }
 ],
 "metadata": {
  "kernelspec": {
   "display_name": "Python 3",
   "language": "python",
   "name": "python3"
  },
  "language_info": {
   "codemirror_mode": {
    "name": "ipython",
    "version": 3
   },
   "file_extension": ".py",
   "mimetype": "text/x-python",
   "name": "python",
   "nbconvert_exporter": "python",
   "pygments_lexer": "ipython3",
   "version": "3.6.7"
  }
 },
 "nbformat": 4,
 "nbformat_minor": 2
}
